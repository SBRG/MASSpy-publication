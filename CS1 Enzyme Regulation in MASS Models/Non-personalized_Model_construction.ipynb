{
 "cells": [
  {
   "cell_type": "markdown",
   "metadata": {},
   "source": [
    "# Construction of Catalytic Potential Models\n",
    "All models are reconstructed based on the information from Yurkovich et al., “Network-Level Allosteric Effects Are Elucidated by Detailing How Ligand-Binding Events Modulate Utilization of Catalytic Potentials.”\n",
    "\n",
    "__URL:__ https://doi.org/10.1371/journal.pcbi.1006356\n",
    "\n",
    "## Setup\n",
    "#### Import packages"
   ]
  },
  {
   "cell_type": "code",
   "execution_count": 1,
   "metadata": {},
   "outputs": [
    {
     "name": "stdout",
     "output_type": "stream",
     "text": [
      "Using license file /Users/zhaiman/opt/licenses/gurobi.lic\n",
      "Academic license - for non-commercial use only\n",
      "MASSpy version: 0.1.0\n"
     ]
    }
   ],
   "source": [
    "from os import path \n",
    "\n",
    "# Disable gurobi logging output for this notebook.\n",
    "try:\n",
    "    import gurobipy\n",
    "    gurobipy.setParam(\"OutputFlag\", 0)\n",
    "except ImportError:\n",
    "    pass\n",
    "\n",
    "import matplotlib.pyplot as plt\n",
    "\n",
    "import numpy as np\n",
    "\n",
    "import pandas as pd\n",
    "\n",
    "import roadrunner as rr\n",
    "\n",
    "import mass\n",
    "from mass import MassConfiguration, Simulation\n",
    "from mass.io import json\n",
    "from mass.visualization import plot_time_profile\n",
    "\n",
    "print(\"MASSpy version: \" + mass.__version__)"
   ]
  },
  {
   "cell_type": "markdown",
   "metadata": {},
   "source": [
    "#### Set configurations"
   ]
  },
  {
   "cell_type": "code",
   "execution_count": 2,
   "metadata": {},
   "outputs": [],
   "source": [
    "MASSCONFIGURATION = MassConfiguration()\n",
    "\n",
    "MASSCONFIGURATION.decimal_precision = 12\n",
    "\n",
    "# Configure the roadrunner options to prevent excessive logging output and increase performance\n",
    "rr.Config.setValue(\n",
    "    rr.Config.ROADRUNNER_DISABLE_PYTHON_DYNAMIC_PROPERTIES, False)\n",
    "rr.Config.setValue(rr.Config.MAX_OUTPUT_ROWS, 1e6)"
   ]
  },
  {
   "cell_type": "markdown",
   "metadata": {},
   "source": [
    "## Construct Non-personalized models\n",
    "### Load Base Models\n",
    "Load the following models:\n",
    "\n",
    "\\\\(\\text{Glycolysis}\\\\ \\text{Hemoglobin (Hb)}\\\\ \\text{Hexokinase 1 (HEX1)}\\\\ \\text{Phosphofructokinase (PFK)}\\\\ \\text{Pyruvate Kinase (PYK)}\\\\)"
   ]
  },
  {
   "cell_type": "code",
   "execution_count": 3,
   "metadata": {},
   "outputs": [
    {
     "name": "stdout",
     "output_type": "stream",
     "text": [
      "Glycolysis: Dim(S) = 20x22\n",
      "Hemoglobin: Dim(S) = 13x8\n",
      "HEX1: Dim(S) = 13x8\n",
      "PFK: Dim(S) = 26x24\n",
      "PYK: Dim(S) = 31x34\n"
     ]
    }
   ],
   "source": [
    "# Function to print S matrix dimensions\n",
    "def print_S_dimensions(model):\n",
    "    print(\"{0}: Dim(S) = {1}x{2}\".format(model.id, *model.S.shape))\n",
    "\n",
    "# Function to load a model \n",
    "def load_model(model_id):\n",
    "    filename = model_id + \".json\"\n",
    "    filepath = path.realpath(path.join(\"CS1_data\", \"models\", filename))\n",
    "    model = json.load_json_model(filepath)\n",
    "    print_S_dimensions(model)\n",
    "    return model\n",
    "\n",
    "model_ids = [\"glycolysis\", \"hemoglobin\", \"HEX1\", \"PFK\", \"PYK\"]\n",
    "glycolysis, hemoglobin, HEX1, PFK, PYK = list(map(load_model, model_ids))\n",
    "\n",
    "for enzyme_module in [HEX1, PFK, PYK]:\n",
    "    for g in enzyme_module.groups:\n",
    "        g.id = \"_\".join((enzyme_module.id, g.id))"
   ]
  },
  {
   "cell_type": "markdown",
   "metadata": {},
   "source": [
    "### Load Concentration and Parameter Data"
   ]
  },
  {
   "cell_type": "code",
   "execution_count": 4,
   "metadata": {},
   "outputs": [],
   "source": [
    "data_filepath = path.realpath(path.join(\"CS1_data\", \"Non-personalized-data.xlsx\"))\n",
    "data_dict = pd.read_excel(\n",
    "    data_filepath, sheet_name=[\"Concentrations\", \"Fluxes\", \"Equilibrium Constants\", \"PERCs\"],\n",
    "    index_col=0)\n",
    "\n",
    "# Function to load a DataFrame into the necessary format\n",
    "def load_dataframe(data_key, drop_units=False):\n",
    "    df = data_dict[data_key]\n",
    "    df = df.replace(\"-\", np.nan)\n",
    "    if drop_units:\n",
    "        df = df.drop(\"Units\", axis=1)\n",
    "    df.columns = [col.replace(\" + \", \"_\") for col in df.columns]\n",
    "    return df\n",
    "\n",
    "conc_df = load_dataframe(\"Concentrations\", drop_units=True)\n",
    "flux_df = load_dataframe(\"Fluxes\", drop_units=True)\n",
    "Keqs_df = load_dataframe(\"Equilibrium Constants\", drop_units=False)\n",
    "perc_df = load_dataframe(\"PERCs\", drop_units=False)"
   ]
  },
  {
   "cell_type": "markdown",
   "metadata": {},
   "source": [
    "#### Functions to update models with data"
   ]
  },
  {
   "cell_type": "code",
   "execution_count": 5,
   "metadata": {},
   "outputs": [],
   "source": [
    "# Function to update model concentrations\n",
    "def update_concentrations(model, verbose=False):\n",
    "    concentrations = {}\n",
    "    boundary_conditions = {}\n",
    "    boundary_compartment = \"_\" + list(MASSCONFIGURATION.boundary_compartment).pop()\n",
    "\n",
    "    model_concs = conc_df[model.id]\n",
    "    model_concs = model_concs.dropna()\n",
    "    for met, conc in model_concs.to_dict().items():\n",
    "        if met.endswith(boundary_compartment):\n",
    "            boundary_conditions[met] = conc\n",
    "        else:\n",
    "            concentrations[met] = conc\n",
    "\n",
    "    model.update_initial_conditions(concentrations, verbose=verbose)\n",
    "    model.update_parameters(boundary_conditions, verbose=verbose)\n",
    "    print(model.id + \" concentrations updated.\")\n",
    "    \n",
    "# Function to update model parameter\n",
    "def update_parameter_type(model, parameter_type, verbose=False):\n",
    "    param_df, key = {\n",
    "        \"fluxes\": (flux_df, \"Flux ID\"),\n",
    "        \"equilibrium constants\": (Keqs_df, \"Keq ID\"),\n",
    "        \"PERCs\": (perc_df, \"PERC ID\")}[parameter_type]\n",
    "    model_df = param_df[[key, model.id]]\n",
    "    model_df = model_df.dropna()\n",
    "    value_dict = {param_id: float(param_value) for rxn_id, (param_id, param_value) in model_df.iterrows()}\n",
    "    model.update_parameters(value_dict, verbose=verbose)\n",
    "    print(\" \".join((model.id, parameter_type, \"updated.\")))"
   ]
  },
  {
   "cell_type": "markdown",
   "metadata": {},
   "source": [
    "### Create Models and Export\n",
    "#### Define functions"
   ]
  },
  {
   "cell_type": "code",
   "execution_count": 6,
   "metadata": {},
   "outputs": [],
   "source": [
    "# Function to add an EnzymeModule to a MassModel\n",
    "def add_enzyme_to_model(model, enzyme_module):\n",
    "    new_model = model.merge(enzyme_module, inplace=False)\n",
    "    new_model.remove_reactions([new_model.reactions.get_by_id(enzyme_module.id)])\n",
    "    return new_model\n",
    "\n",
    "# Function to update model values and validate steady state\n",
    "def update_model_and_simulate(model):\n",
    "    print_S_dimensions(model)\n",
    "\n",
    "    update_concentrations(model)\n",
    "    update_parameter_type(model, \"fluxes\")\n",
    "    update_parameter_type(model, \"equilibrium constants\")\n",
    "    update_parameter_type(model, \"PERCs\")\n",
    "\n",
    "    sim = Simulation(model, verbose=True)\n",
    "    sim.find_steady_state(model, strategy=\"simulate\", update_values=True,\n",
    "                          verbose=False, decimal_precision=False,\n",
    "                          steps=1e5, tfinal=1e4)\n",
    "\n",
    "    conc_sol, flux_sol = sim.simulate(model, time=(0, 1e3, 1e4+1),\n",
    "                                      verbose=False, decimal_precision=False)\n",
    "\n",
    "    fig, ax = plt.subplots(nrows=1, ncols=1,\n",
    "                           figsize=(6, 4),\n",
    "                           constrained_layout=True);\n",
    "    plot_time_profile(\n",
    "        conc_sol, ax=ax, plot_function=\"loglog\",\n",
    "        xlabel=\"Time [hr]\", ylabel=\"Conc. [mM]\",\n",
    "        title=model.id + \" Concentration Profile\");\n",
    "\n",
    "# Function to save a model \n",
    "def save_model(model):\n",
    "    filename = model.id + \".json\"\n",
    "    filepath = path.realpath(path.join(\"CS1_data\", \"models\", filename))\n",
    "    json.save_json_model(mass_model=model, filename=filepath)\n",
    "    print(\" \".join((\"Exported\", filename)))"
   ]
  },
  {
   "cell_type": "markdown",
   "metadata": {},
   "source": [
    "#### No Regulation\n",
    "##### Glycolysis"
   ]
  },
  {
   "cell_type": "code",
   "execution_count": 7,
   "metadata": {},
   "outputs": [
    {
     "name": "stdout",
     "output_type": "stream",
     "text": [
      "Glycolysis: Dim(S) = 20x22\n",
      "Glycolysis concentrations updated.\n",
      "Glycolysis fluxes updated.\n",
      "Glycolysis equilibrium constants updated.\n",
      "Glycolysis PERCs updated.\n",
      "Successfully loaded MassModel 'Glycolysis' into RoadRunner.\n",
      "Exported Glycolysis.json\n"
     ]
    },
    {
     "data": {
      "image/png": "[encoded data removed]",
      "text/plain": [
       "<Figure size 432x288 with 1 Axes>"
      ]
     },
     "metadata": {
      "needs_background": "light"
     },
     "output_type": "display_data"
    }
   ],
   "source": [
    "model = glycolysis\n",
    "update_model_and_simulate(model)\n",
    "save_model(model)"
   ]
  },
  {
   "cell_type": "markdown",
   "metadata": {},
   "source": [
    "##### Glycolysis + Hb"
   ]
  },
  {
   "cell_type": "code",
   "execution_count": 8,
   "metadata": {},
   "outputs": [
    {
     "name": "stdout",
     "output_type": "stream",
     "text": [
      "Glycolysis_Hb: Dim(S) = 28x30\n",
      "Glycolysis_Hb concentrations updated.\n",
      "Glycolysis_Hb fluxes updated.\n",
      "Glycolysis_Hb equilibrium constants updated.\n",
      "Glycolysis_Hb PERCs updated.\n",
      "Successfully loaded MassModel 'Glycolysis_Hb' into RoadRunner.\n",
      "Exported Glycolysis_Hb.json\n"
     ]
    },
    {
     "data": {
      "image/png": "[encoded data removed]",
      "text/plain": [
       "<Figure size 432x288 with 1 Axes>"
      ]
     },
     "metadata": {
      "needs_background": "light"
     },
     "output_type": "display_data"
    }
   ],
   "source": [
    "glycolysis_hb = glycolysis.merge(hemoglobin, inplace=False)\n",
    "glycolysis_hb.id = \"Glycolysis_Hb\"\n",
    "model = glycolysis_hb\n",
    "update_model_and_simulate(model)\n",
    "save_model(model)"
   ]
  },
  {
   "cell_type": "markdown",
   "metadata": {},
   "source": [
    "#### Regulation With One Enzyme\n",
    "##### Glycolysis + PFK"
   ]
  },
  {
   "cell_type": "code",
   "execution_count": 9,
   "metadata": {},
   "outputs": [
    {
     "name": "stdout",
     "output_type": "stream",
     "text": [
      "Glycolysis_PFK: Dim(S) = 40x45\n",
      "Glycolysis_PFK concentrations updated.\n",
      "Glycolysis_PFK fluxes updated.\n",
      "Glycolysis_PFK equilibrium constants updated.\n",
      "Glycolysis_PFK PERCs updated.\n",
      "Successfully loaded MassModel 'Glycolysis_PFK' into RoadRunner.\n",
      "Exported Glycolysis_PFK.json\n"
     ]
    },
    {
     "data": {
      "image/png": "[encoded data removed]",
      "text/plain": [
       "<Figure size 432x288 with 1 Axes>"
      ]
     },
     "metadata": {
      "needs_background": "light"
     },
     "output_type": "display_data"
    }
   ],
   "source": [
    "model = add_enzyme_to_model(glycolysis, PFK)\n",
    "update_model_and_simulate(model)\n",
    "save_model(model)"
   ]
  },
  {
   "cell_type": "markdown",
   "metadata": {},
   "source": [
    "##### Glycolysis + PYK"
   ]
  },
  {
   "cell_type": "code",
   "execution_count": 10,
   "metadata": {},
   "outputs": [
    {
     "name": "stdout",
     "output_type": "stream",
     "text": [
      "Glycolysis_PYK: Dim(S) = 45x55\n",
      "Glycolysis_PYK concentrations updated.\n",
      "Glycolysis_PYK fluxes updated.\n",
      "Glycolysis_PYK equilibrium constants updated.\n",
      "Glycolysis_PYK PERCs updated.\n",
      "Successfully loaded MassModel 'Glycolysis_PYK' into RoadRunner.\n",
      "Exported Glycolysis_PYK.json\n"
     ]
    },
    {
     "data": {
      "image/png": "[encoded data removed]",
      "text/plain": [
       "<Figure size 432x288 with 1 Axes>"
      ]
     },
     "metadata": {
      "needs_background": "light"
     },
     "output_type": "display_data"
    }
   ],
   "source": [
    "model = add_enzyme_to_model(glycolysis, PYK)\n",
    "update_model_and_simulate(model)\n",
    "save_model(model)"
   ]
  },
  {
   "cell_type": "markdown",
   "metadata": {},
   "source": [
    "##### Glycolysis + Hb + HEX1 "
   ]
  },
  {
   "cell_type": "code",
   "execution_count": 11,
   "metadata": {},
   "outputs": [
    {
     "name": "stdout",
     "output_type": "stream",
     "text": [
      "Glycolysis_Hb_HEX1: Dim(S) = 35x37\n",
      "Glycolysis_Hb_HEX1 concentrations updated.\n",
      "Glycolysis_Hb_HEX1 fluxes updated.\n",
      "Glycolysis_Hb_HEX1 equilibrium constants updated.\n",
      "Glycolysis_Hb_HEX1 PERCs updated.\n",
      "Successfully loaded MassModel 'Glycolysis_Hb_HEX1' into RoadRunner.\n",
      "Exported Glycolysis_Hb_HEX1.json\n"
     ]
    },
    {
     "data": {
      "image/png": "[encoded data removed]",
      "text/plain": [
       "<Figure size 432x288 with 1 Axes>"
      ]
     },
     "metadata": {
      "needs_background": "light"
     },
     "output_type": "display_data"
    }
   ],
   "source": [
    "model = add_enzyme_to_model(glycolysis_hb, HEX1)\n",
    "update_model_and_simulate(model)\n",
    "save_model(model)"
   ]
  },
  {
   "cell_type": "markdown",
   "metadata": {},
   "source": [
    "##### Glycolysis + Hb + PFK "
   ]
  },
  {
   "cell_type": "code",
   "execution_count": 12,
   "metadata": {},
   "outputs": [
    {
     "name": "stdout",
     "output_type": "stream",
     "text": [
      "Glycolysis_Hb_PFK: Dim(S) = 48x53\n",
      "Glycolysis_Hb_PFK concentrations updated.\n",
      "Glycolysis_Hb_PFK fluxes updated.\n",
      "Glycolysis_Hb_PFK equilibrium constants updated.\n",
      "Glycolysis_Hb_PFK PERCs updated.\n",
      "Successfully loaded MassModel 'Glycolysis_Hb_PFK' into RoadRunner.\n",
      "Exported Glycolysis_Hb_PFK.json\n"
     ]
    },
    {
     "data": {
      "image/png": "[encoded data removed]",
      "text/plain": [
       "<Figure size 432x288 with 1 Axes>"
      ]
     },
     "metadata": {
      "needs_background": "light"
     },
     "output_type": "display_data"
    }
   ],
   "source": [
    "model = add_enzyme_to_model(glycolysis_hb, PFK)\n",
    "update_model_and_simulate(model)\n",
    "save_model(model)"
   ]
  },
  {
   "cell_type": "markdown",
   "metadata": {},
   "source": [
    "##### Glycolysis + Hb + PYK "
   ]
  },
  {
   "cell_type": "code",
   "execution_count": 13,
   "metadata": {},
   "outputs": [
    {
     "name": "stdout",
     "output_type": "stream",
     "text": [
      "Glycolysis_Hb_PYK: Dim(S) = 53x63\n",
      "Glycolysis_Hb_PYK concentrations updated.\n",
      "Glycolysis_Hb_PYK fluxes updated.\n",
      "Glycolysis_Hb_PYK equilibrium constants updated.\n",
      "Glycolysis_Hb_PYK PERCs updated.\n",
      "Successfully loaded MassModel 'Glycolysis_Hb_PYK' into RoadRunner.\n",
      "Exported Glycolysis_Hb_PYK.json\n"
     ]
    },
    {
     "data": {
      "image/png": "[encoded data removed]",
      "text/plain": [
       "<Figure size 432x288 with 1 Axes>"
      ]
     },
     "metadata": {
      "needs_background": "light"
     },
     "output_type": "display_data"
    }
   ],
   "source": [
    "model = add_enzyme_to_model(glycolysis_hb, PYK)\n",
    "update_model_and_simulate(model)\n",
    "save_model(model)"
   ]
  },
  {
   "cell_type": "markdown",
   "metadata": {},
   "source": [
    "#### Regulation With Two Enzymes\n",
    "##### Glycolysis + PFK + PYK"
   ]
  },
  {
   "cell_type": "code",
   "execution_count": 14,
   "metadata": {
    "scrolled": false
   },
   "outputs": [
    {
     "name": "stdout",
     "output_type": "stream",
     "text": [
      "Glycolysis_PFK_PYK: Dim(S) = 65x78\n",
      "Glycolysis_PFK_PYK concentrations updated.\n",
      "Glycolysis_PFK_PYK fluxes updated.\n",
      "Glycolysis_PFK_PYK equilibrium constants updated.\n",
      "Glycolysis_PFK_PYK PERCs updated.\n",
      "Successfully loaded MassModel 'Glycolysis_PFK_PYK' into RoadRunner.\n",
      "Exported Glycolysis_PFK_PYK.json\n"
     ]
    },
    {
     "data": {
      "image/png": "[encoded data removed]",
      "text/plain": [
       "<Figure size 432x288 with 1 Axes>"
      ]
     },
     "metadata": {
      "needs_background": "light"
     },
     "output_type": "display_data"
    }
   ],
   "source": [
    "model = add_enzyme_to_model(glycolysis, PFK)\n",
    "model = add_enzyme_to_model(model, PYK)\n",
    "update_model_and_simulate(model)\n",
    "save_model(model)"
   ]
  },
  {
   "cell_type": "markdown",
   "metadata": {},
   "source": [
    "##### Glycolysis + Hb + PFK + PYK"
   ]
  },
  {
   "cell_type": "code",
   "execution_count": 15,
   "metadata": {},
   "outputs": [
    {
     "name": "stdout",
     "output_type": "stream",
     "text": [
      "Glycolysis_Hb_PFK_PYK: Dim(S) = 73x86\n",
      "Glycolysis_Hb_PFK_PYK concentrations updated.\n",
      "Glycolysis_Hb_PFK_PYK fluxes updated.\n",
      "Glycolysis_Hb_PFK_PYK equilibrium constants updated.\n",
      "Glycolysis_Hb_PFK_PYK PERCs updated.\n",
      "Successfully loaded MassModel 'Glycolysis_Hb_PFK_PYK' into RoadRunner.\n",
      "Exported Glycolysis_Hb_PFK_PYK.json\n"
     ]
    },
    {
     "data": {
      "image/png": "[encoded data removed]",
      "text/plain": [
       "<Figure size 432x288 with 1 Axes>"
      ]
     },
     "metadata": {
      "needs_background": "light"
     },
     "output_type": "display_data"
    }
   ],
   "source": [
    "model = add_enzyme_to_model(glycolysis_hb, PFK)\n",
    "model = add_enzyme_to_model(model, PYK)\n",
    "update_model_and_simulate(model)\n",
    "save_model(model)"
   ]
  },
  {
   "cell_type": "markdown",
   "metadata": {},
   "source": [
    "##### Glycolysis + Hb + HEX1 + PFK"
   ]
  },
  {
   "cell_type": "code",
   "execution_count": 16,
   "metadata": {},
   "outputs": [
    {
     "name": "stdout",
     "output_type": "stream",
     "text": [
      "Glycolysis_Hb_HEX1_PFK: Dim(S) = 55x60\n",
      "Glycolysis_Hb_HEX1_PFK concentrations updated.\n",
      "Glycolysis_Hb_HEX1_PFK fluxes updated.\n",
      "Glycolysis_Hb_HEX1_PFK equilibrium constants updated.\n",
      "Glycolysis_Hb_HEX1_PFK PERCs updated.\n",
      "Successfully loaded MassModel 'Glycolysis_Hb_HEX1_PFK' into RoadRunner.\n",
      "Exported Glycolysis_Hb_HEX1_PFK.json\n"
     ]
    },
    {
     "data": {
      "image/png": "[encoded data removed]",
      "text/plain": [
       "<Figure size 432x288 with 1 Axes>"
      ]
     },
     "metadata": {
      "needs_background": "light"
     },
     "output_type": "display_data"
    }
   ],
   "source": [
    "model = add_enzyme_to_model(glycolysis_hb, HEX1)\n",
    "model = add_enzyme_to_model(model, PFK)\n",
    "update_model_and_simulate(model)\n",
    "save_model(model)"
   ]
  },
  {
   "cell_type": "markdown",
   "metadata": {},
   "source": [
    "##### Glycolysis + Hb + HEX1 + PYK"
   ]
  },
  {
   "cell_type": "code",
   "execution_count": 17,
   "metadata": {},
   "outputs": [
    {
     "name": "stdout",
     "output_type": "stream",
     "text": [
      "Glycolysis_Hb_HEX1_PYK: Dim(S) = 60x70\n",
      "Glycolysis_Hb_HEX1_PYK concentrations updated.\n",
      "Glycolysis_Hb_HEX1_PYK fluxes updated.\n",
      "Glycolysis_Hb_HEX1_PYK equilibrium constants updated.\n",
      "Glycolysis_Hb_HEX1_PYK PERCs updated.\n",
      "Successfully loaded MassModel 'Glycolysis_Hb_HEX1_PYK' into RoadRunner.\n",
      "Exported Glycolysis_Hb_HEX1_PYK.json\n"
     ]
    },
    {
     "data": {
      "image/png": "[encoded data removed]",
      "text/plain": [
       "<Figure size 432x288 with 1 Axes>"
      ]
     },
     "metadata": {
      "needs_background": "light"
     },
     "output_type": "display_data"
    }
   ],
   "source": [
    "model = add_enzyme_to_model(glycolysis_hb, HEX1)\n",
    "model = add_enzyme_to_model(model, PYK)\n",
    "update_model_and_simulate(model)\n",
    "save_model(model)"
   ]
  },
  {
   "cell_type": "markdown",
   "metadata": {},
   "source": [
    "#### Regulation With Three Enzymes\n",
    "##### Glycolysis + Hb + HEX1 + PFK + PYK"
   ]
  },
  {
   "cell_type": "code",
   "execution_count": 18,
   "metadata": {},
   "outputs": [
    {
     "name": "stdout",
     "output_type": "stream",
     "text": [
      "Glycolysis_Hb_HEX1_PFK_PYK: Dim(S) = 80x93\n",
      "Glycolysis_Hb_HEX1_PFK_PYK concentrations updated.\n",
      "Glycolysis_Hb_HEX1_PFK_PYK fluxes updated.\n",
      "Glycolysis_Hb_HEX1_PFK_PYK equilibrium constants updated.\n",
      "Glycolysis_Hb_HEX1_PFK_PYK PERCs updated.\n",
      "Successfully loaded MassModel 'Glycolysis_Hb_HEX1_PFK_PYK' into RoadRunner.\n",
      "Exported Glycolysis_FKRM.json\n"
     ]
    },
    {
     "data": {
      "image/png": "[encoded data removed]",
      "text/plain": [
       "<Figure size 432x288 with 1 Axes>"
      ]
     },
     "metadata": {
      "needs_background": "light"
     },
     "output_type": "display_data"
    }
   ],
   "source": [
    "model = add_enzyme_to_model(glycolysis_hb, HEX1)\n",
    "model = add_enzyme_to_model(model, PFK)\n",
    "model = add_enzyme_to_model(model, PYK)\n",
    "update_model_and_simulate(model)\n",
    "model.id = \"Glycolysis_FKRM\"\n",
    "save_model(model)"
   ]
  }
 ],
 "metadata": {
  "kernelspec": {
   "display_name": "Python 3",
   "language": "python",
   "name": "python3"
  },
  "language_info": {
   "codemirror_mode": {
    "name": "ipython",
    "version": 3
   },
   "file_extension": ".py",
   "mimetype": "text/x-python",
   "name": "python",
   "nbconvert_exporter": "python",
   "pygments_lexer": "ipython3",
   "version": "3.7.7"
  }
 },
 "nbformat": 4,
 "nbformat_minor": 2
}
