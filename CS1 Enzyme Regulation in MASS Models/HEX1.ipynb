{
 "cells": [
  {
   "cell_type": "markdown",
   "metadata": {},
   "source": [
    "# Hexokinase (HEX1)\n",
    "\n",
    "For the construction of the HEX1 `EnzymeModule`, the following assumptions were made:\n",
    "\n",
    "1. The enzyme is a monomer.\n",
    "2. The enzyme binding and catalyzation of substrates occurs in an random sequential mechanism.\n",
    "3. The enzyme experiences product inhibtion, and is competitively inhibited by 23DPG when complexed with D-glucose.\n",
    "\n",
    "\\\\(\\text{[HEX1]}_{total} = 24 nM = 0.024 \\mu M = 0.000024 mM\\\\).\n",
    "\n",
    "Based on “Network-Level Allosteric Effects Are Elucidated by Detailing How Ligand-Binding Events Modulate Utilization of Catalytic Potentials.\"\n",
    "\n",
    "__URL:__ https://doi.org/10.1371/journal.pcbi.1006356"
   ]
  },
  {
   "cell_type": "code",
   "execution_count": 1,
   "metadata": {},
   "outputs": [
    {
     "name": "stdout",
     "output_type": "stream",
     "text": [
      "MASSpy version: 0.1.0\n"
     ]
    }
   ],
   "source": [
    "from operator import attrgetter\n",
    "from os import path\n",
    "\n",
    "from cobra import DictList\n",
    "\n",
    "import matplotlib.pyplot as plt\n",
    "\n",
    "from scipy import optimize\n",
    "\n",
    "import sympy as sym\n",
    "\n",
    "import mass\n",
    "from mass import MassMetabolite, Simulation, UnitDefinition\n",
    "from mass.enzyme_modules import EnzymeModule\n",
    "from mass.io import json\n",
    "from mass.util import strip_time, qcqa_model\n",
    "\n",
    "print(\"MASSpy version: \" + mass.__version__)"
   ]
  },
  {
   "cell_type": "markdown",
   "metadata": {},
   "source": [
    "## Load Models"
   ]
  },
  {
   "cell_type": "code",
   "execution_count": 2,
   "metadata": {},
   "outputs": [
    {
     "name": "stdout",
     "output_type": "stream",
     "text": [
      "Using license file /Users/zhaiman/opt/licenses/gurobi.lic\n",
      "Academic license - for non-commercial use only\n",
      "Read LP format model from file /var/folders/36/g2np3l0d6t9dyr4rk3tvc8f80000gn/T/tmp6gnt5n2z.lp\n",
      "Reading time = 0.00 seconds\n",
      ": 20 rows, 44 columns, 122 nonzeros\n"
     ]
    }
   ],
   "source": [
    "# Load the glycolysis model and hemoglobin model\n",
    "glycolysis = json.load_json_model(\n",
    "    filename=path.realpath(path.join(\"CS1_data\", \"models\", \"Glycolysis.json\")))\n",
    "hemoglobin = json.load_json_model(\n",
    "    filename=path.realpath(path.join(\"CS1_data\", \"models\", \"Hemoglobin.json\")))\n",
    "glycolysis_hb = glycolysis.merge(hemoglobin, inplace=False)"
   ]
  },
  {
   "cell_type": "markdown",
   "metadata": {},
   "source": [
    "## Module Construction"
   ]
  },
  {
   "cell_type": "code",
   "execution_count": 3,
   "metadata": {},
   "outputs": [],
   "source": [
    "HEX1 = EnzymeModule(\"HEX1\", name=\"Hexokinase (D-glucose:ATP)\",\n",
    "                    subsystem=\"Glycolysis\")"
   ]
  },
  {
   "cell_type": "markdown",
   "metadata": {},
   "source": [
    "### Metabolites\n",
    "#### Ligands"
   ]
  },
  {
   "cell_type": "code",
   "execution_count": 4,
   "metadata": {},
   "outputs": [
    {
     "name": "stdout",
     "output_type": "stream",
     "text": [
      "substrates: ['glc__D_c']\n",
      "cofactors: ['atp_c']\n",
      "inhibitors: ['_23dpg_c']\n",
      "products: ['adp_c', 'g6p_c', 'h_c']\n"
     ]
    }
   ],
   "source": [
    "glc__D_c = MassMetabolite(\n",
    "    \"glc__D_c\",\n",
    "    name=\"D-Glucose\",\n",
    "    formula=\"C6H12O6\",\n",
    "    charge=0,\n",
    "    compartment=\"c\")\n",
    "g6p_c = MassMetabolite(\n",
    "    \"g6p_c\",\n",
    "    name=\"D-Glucose 6-phosphate\",\n",
    "    formula=\"C6H11O9P\",\n",
    "    charge=-2,\n",
    "    compartment=\"c\")\n",
    "atp_c = MassMetabolite(\n",
    "    \"atp_c\",\n",
    "    name=\"ATP\",\n",
    "    formula=\"C10H12N5O13P3\",\n",
    "    charge=-4,\n",
    "    compartment=\"c\")\n",
    "adp_c = MassMetabolite(\n",
    "    \"adp_c\",\n",
    "    name=\"ADP\",\n",
    "    formula=\"C10H12N5O10P2\",\n",
    "    charge=-3,\n",
    "    compartment=\"c\")\n",
    "_23dpg_c = MassMetabolite(\n",
    "    \"_23dpg_c\", \n",
    "    name=\"2,3-Disphospho-D-glycerate\", \n",
    "    formula=\"C3H3O10P2\",\n",
    "    charge=-5,\n",
    "    compartment=\"c\")\n",
    "h_c = MassMetabolite(\n",
    "    \"h_c\",\n",
    "    name=\"H+\",\n",
    "    formula=\"H\",\n",
    "    charge=1,\n",
    "    compartment=\"c\")\n",
    "\n",
    "HEX1.add_metabolites([glc__D_c, g6p_c, atp_c, adp_c, _23dpg_c, h_c])\n",
    "\n",
    "HEX1.enzyme_module_ligands_categorized =  {\n",
    "    \"substrates\": glc__D_c,\n",
    "    \"cofactors\": atp_c,\n",
    "    \"inhibitors\": _23dpg_c,\n",
    "    \"products\": [adp_c, g6p_c, h_c]}\n",
    "\n",
    "for group in HEX1.enzyme_module_ligands_categorized:\n",
    "    print(\"{0}: {1}\".format(\n",
    "        group.id, str(sorted([m.id for m in group.members]))))"
   ]
  },
  {
   "cell_type": "markdown",
   "metadata": {},
   "source": [
    "#### EnzymeModuleForms"
   ]
  },
  {
   "cell_type": "code",
   "execution_count": 5,
   "metadata": {},
   "outputs": [
    {
     "name": "stdout",
     "output_type": "stream",
     "text": [
      "Active: ['hex1_AG_c', 'hex1_A_c', 'hex1_G_c', 'hex1_c']\n",
      "\n",
      "Inhibited: ['hex1_A_PI_c', 'hex1_G_CI_c', 'hex1_G_PI_c']\n",
      "\n"
     ]
    }
   ],
   "source": [
    "HEX1.make_enzyme_module_form(\n",
    "    \"hex1_c\",\n",
    "    name=\"Automatic\",\n",
    "    categories=\"Active\",\n",
    "    compartment=\"c\");\n",
    "\n",
    "HEX1.make_enzyme_module_form(\n",
    "    \"hex1_A_c\",\n",
    "    name=\"Automatic\",\n",
    "    categories=\"Active\",\n",
    "    bound_metabolites={atp_c: 1},\n",
    "    compartment=\"c\");\n",
    "\n",
    "HEX1.make_enzyme_module_form(\n",
    "    \"hex1_G_c\",\n",
    "    name=\"Automatic\",\n",
    "    categories=\"Active\",\n",
    "    bound_metabolites={glc__D_c: 1},\n",
    "    compartment=\"c\");\n",
    "\n",
    "HEX1.make_enzyme_module_form(\n",
    "    \"hex1_AG_c\",\n",
    "    name=\"Automatic\",\n",
    "    categories=\"Active\",\n",
    "    bound_metabolites={glc__D_c: 1, atp_c: 1},\n",
    "    compartment=\"c\");\n",
    "\n",
    "HEX1.make_enzyme_module_form(\n",
    "    \"hex1_G_CI_c\",\n",
    "    name=\"Automatic\",\n",
    "    categories=\"Inhibited\",\n",
    "    bound_metabolites={glc__D_c: 1, _23dpg_c: 1},\n",
    "    compartment=\"c\");\n",
    "\n",
    "HEX1.make_enzyme_module_form(\n",
    "    \"hex1_A_PI_c\",\n",
    "    name=\"Automatic\",\n",
    "    categories=\"Inhibited\",\n",
    "    bound_metabolites={adp_c: 1},\n",
    "    compartment=\"c\");\n",
    "\n",
    "HEX1.make_enzyme_module_form(\n",
    "    \"hex1_G_PI_c\",\n",
    "    name=\"Automatic\",\n",
    "    categories=\"Inhibited\",\n",
    "    bound_metabolites={g6p_c: 1},\n",
    "    compartment=\"c\");\n",
    "\n",
    "for group in HEX1.enzyme_module_forms_categorized:\n",
    "    print(\"{0}: {1}\\n\".format(\n",
    "        group.id, str(sorted([m.id for m in group.members]))))"
   ]
  },
  {
   "cell_type": "markdown",
   "metadata": {},
   "source": [
    "### Reactions\n",
    "#### EnzymeModuleReactions"
   ]
  },
  {
   "cell_type": "code",
   "execution_count": 6,
   "metadata": {},
   "outputs": [
    {
     "name": "stdout",
     "output_type": "stream",
     "text": [
      "product_inhibition: ['HEX1_1', 'HEX1_2']\n",
      "\n",
      "glc__D_c_binding: ['HEX1_3', 'HEX1_7']\n",
      "\n",
      "atp_c_binding: ['HEX1_4', 'HEX1_6']\n",
      "\n",
      "competitive_inhibition: ['HEX1_5']\n",
      "\n",
      "catalyzation: ['HEX1_8']\n",
      "\n"
     ]
    }
   ],
   "source": [
    "HEX1.make_enzyme_module_reaction(\n",
    "    \"HEX1_1\",\n",
    "    name=\"Automatic\",\n",
    "    subsystem=\"Glycolysis\",\n",
    "    reversible=True,\n",
    "    categories=\"product_inhibition\",\n",
    "    metabolites_to_add={\n",
    "        \"hex1_c\": -1,\n",
    "        \"adp_c\": -1,\n",
    "        \"hex1_A_PI_c\": 1});\n",
    "\n",
    "HEX1.make_enzyme_module_reaction(\n",
    "    \"HEX1_2\",\n",
    "    name=\"Automatic\",\n",
    "    subsystem=\"Glycolysis\",\n",
    "    reversible=True,\n",
    "    categories=\"product_inhibition\",\n",
    "    metabolites_to_add={\n",
    "        \"hex1_c\": -1,\n",
    "        \"g6p_c\": -1,\n",
    "        \"hex1_G_PI_c\": 1});\n",
    "\n",
    "HEX1.make_enzyme_module_reaction(\n",
    "    \"HEX1_3\",\n",
    "    name=\"Automatic\",\n",
    "    subsystem=\"Glycolysis\",\n",
    "    reversible=True,\n",
    "    categories=\"glc__D_c_binding\",\n",
    "    metabolites_to_add={\n",
    "        \"hex1_c\": -1,\n",
    "        \"glc__D_c\": -1,\n",
    "        \"hex1_G_c\": 1});\n",
    "\n",
    "HEX1.make_enzyme_module_reaction(\n",
    "    \"HEX1_4\",\n",
    "    name=\"Automatic\",\n",
    "    subsystem=\"Glycolysis\",\n",
    "    reversible=True,\n",
    "    categories=\"atp_c_binding\",\n",
    "    metabolites_to_add={\n",
    "        \"hex1_c\": -1,\n",
    "        \"atp_c\": -1,\n",
    "        \"hex1_A_c\": 1});\n",
    "\n",
    "HEX1.make_enzyme_module_reaction(\n",
    "    \"HEX1_5\",\n",
    "    name=\"Automatic\",\n",
    "    subsystem=\"Glycolysis\",\n",
    "    reversible=True,\n",
    "    categories=\"competitive_inhibition\",\n",
    "    metabolites_to_add={\n",
    "        \"hex1_G_c\": -1,\n",
    "        \"_23dpg_c\": -1,\n",
    "        \"hex1_G_CI_c\": 1});\n",
    "\n",
    "HEX1.make_enzyme_module_reaction(\n",
    "    \"HEX1_6\",\n",
    "    name=\"Automatic\",\n",
    "    subsystem=\"Glycolysis\",\n",
    "    reversible=True,\n",
    "    categories=\"atp_c_binding\",\n",
    "    metabolites_to_add={\n",
    "        \"hex1_G_c\": -1,\n",
    "        \"atp_c\": -1,\n",
    "        \"hex1_AG_c\": 1});\n",
    "\n",
    "HEX1.make_enzyme_module_reaction(\n",
    "    \"HEX1_7\",\n",
    "    name=\"Automatic\",\n",
    "    subsystem=\"Glycolysis\",\n",
    "    reversible=True,\n",
    "    categories=\"glc__D_c_binding\",\n",
    "    metabolites_to_add={\n",
    "        \"hex1_A_c\": -1,\n",
    "        \"glc__D_c\": -1,\n",
    "        \"hex1_AG_c\": 1});\n",
    "\n",
    "HEX1.make_enzyme_module_reaction(\n",
    "    \"HEX1_8\",\n",
    "    name=\"Automatic\",\n",
    "    subsystem=\"Glycolysis\",\n",
    "    reversible=True,\n",
    "    categories=\"catalyzation\",\n",
    "    metabolites_to_add={\n",
    "        \"hex1_AG_c\": -1,\n",
    "        \"hex1_c\": 1,\n",
    "        \"adp_c\": 1,\n",
    "        \"g6p_c\": 1,\n",
    "        \"h_c\": 1});\n",
    "\n",
    "# Access categorized attribute for enzyme module reactions and print\n",
    "for group in HEX1.enzyme_module_reactions_categorized:\n",
    "    print(\"{0}: {1}\\n\".format(\n",
    "        group.id, str(sorted([m.id for m in group.members]))))"
   ]
  },
  {
   "cell_type": "markdown",
   "metadata": {},
   "source": [
    "#### Unify Rate Parameters"
   ]
  },
  {
   "cell_type": "code",
   "execution_count": 7,
   "metadata": {},
   "outputs": [
    {
     "name": "stdout",
     "output_type": "stream",
     "text": [
      "\n",
      "Category: product_inhibition\n",
      "----------------------------\n",
      "HEX1_1: kf_HEX1_1*(adp_c(t)*hex1_c(t) - hex1_A_PI_c(t)/Keq_HEX1_1)\n",
      "HEX1_2: kf_HEX1_2*(g6p_c(t)*hex1_c(t) - hex1_G_PI_c(t)/Keq_HEX1_2)\n",
      "\n",
      "Category: glc__D_c_binding\n",
      "--------------------------\n",
      "HEX1_3: kf_HEX1_G*(glc__D_c(t)*hex1_c(t) - hex1_G_c(t)/Keq_HEX1_G)\n",
      "HEX1_7: kf_HEX1_G*(glc__D_c(t)*hex1_A_c(t) - hex1_AG_c(t)/Keq_HEX1_G)\n",
      "\n",
      "Category: atp_c_binding\n",
      "-----------------------\n",
      "HEX1_4: kf_HEX1_A*(atp_c(t)*hex1_c(t) - hex1_A_c(t)/Keq_HEX1_A)\n",
      "HEX1_6: kf_HEX1_A*(atp_c(t)*hex1_G_c(t) - hex1_AG_c(t)/Keq_HEX1_A)\n",
      "\n",
      "Category: competitive_inhibition\n",
      "--------------------------------\n",
      "HEX1_5: kf_HEX1_5*(_23dpg_c(t)*hex1_G_c(t) - hex1_G_CI_c(t)/Keq_HEX1_5)\n",
      "\n",
      "Category: catalyzation\n",
      "----------------------\n",
      "HEX1_8: kf_HEX1*(hex1_AG_c(t) - adp_c(t)*g6p_c(t)*hex1_c(t)/Keq_HEX1)\n"
     ]
    }
   ],
   "source": [
    "abbreviations = [\"A\", \"G\"]\n",
    "ligands = [atp_c, glc__D_c]\n",
    "\n",
    "for met, unified_id in zip(ligands, abbreviations):\n",
    "    group = HEX1.enzyme_module_reactions_categorized.get_by_id(\n",
    "        \"_\".join((met.id, \"binding\")))\n",
    "    reactions = sorted(group.members, key=attrgetter(\"id\"))\n",
    "    HEX1.unify_rate_parameters(\n",
    "        reactions, unified_id, rate_type=1,\n",
    "        enzyme_prefix=True)\n",
    "\n",
    "HEX1.unify_rate_parameters(\n",
    "    HEX1.enzyme_module_reactions_categorized.get_by_id(\"catalyzation\").members,\n",
    "    \"HEX1\")\n",
    "\n",
    "# Access categorized attribute for enzyme module reactions and print\n",
    "for group in HEX1.enzyme_module_reactions_categorized:\n",
    "    header = \"Category: \" + group.id\n",
    "    print(\"\\n\" + header + \"\\n\" + \"-\" * len(header))\n",
    "    for reaction in sorted(group.members, key=attrgetter(\"id\")):\n",
    "        print(reaction.id + \": \" + str(reaction.rate))"
   ]
  },
  {
   "cell_type": "markdown",
   "metadata": {},
   "source": [
    "### Compartments"
   ]
  },
  {
   "cell_type": "code",
   "execution_count": 8,
   "metadata": {},
   "outputs": [],
   "source": [
    "HEX1.compartments = {\"c\": \"Cytosol\"}"
   ]
  },
  {
   "cell_type": "markdown",
   "metadata": {},
   "source": [
    "## Steady State Concentrations and Rate Constants\n",
    "### Rate Equation"
   ]
  },
  {
   "cell_type": "code",
   "execution_count": 9,
   "metadata": {},
   "outputs": [
    {
     "name": "stdout",
     "output_type": "stream",
     "text": [
      "kf_HEX1*(Keq_HEX1*hex1_AG_c(t) - adp_c(t)*g6p_c(t)*hex1_c(t))/Keq_HEX1\n"
     ]
    }
   ],
   "source": [
    "catalyzation_rxns = HEX1.enzyme_module_reactions_categorized.get_by_id(\n",
    "    \"catalyzation\").members\n",
    "HEX1.make_enzyme_rate_equation(\n",
    "    catalyzation_rxns,\n",
    "    use_rates=True, update_enzyme=True)\n",
    "\n",
    "print(HEX1.enzyme_rate_equation)"
   ]
  },
  {
   "cell_type": "markdown",
   "metadata": {},
   "source": [
    "### Solve steady state concentrations symbolically"
   ]
  },
  {
   "cell_type": "code",
   "execution_count": 10,
   "metadata": {},
   "outputs": [],
   "source": [
    "ode_dict = {\n",
    "    sym.Symbol(enzyme_module_form.id): sym.Eq(strip_time(enzyme_module_form.ode), 0)\n",
    "    for enzyme_module_form in HEX1.enzyme_module_forms}\n",
    "\n",
    "# Get enzyme module forms\n",
    "enzyme_module_forms = HEX1.enzyme_module_forms.copy()\n",
    "# Reverse list for increased performance (due to symmetry assumption)\n",
    "# by solving for the most activated/inhibitors bound first.\n",
    "enzyme_module_forms.reverse()\n",
    "\n",
    "enzyme_solutions = {}\n",
    "for enzyme_module_form in enzyme_module_forms:\n",
    "    # Skip dependent variable\n",
    "    if \"hex1_c\" == str(enzyme_module_form):\n",
    "        continue\n",
    "    enzyme_module_form = sym.Symbol(enzyme_module_form.id)\n",
    "    # Susbtitute in previous solutions and solve for the enzyme module form, \n",
    "    equation = ode_dict[enzyme_module_form]\n",
    "    sol = sym.solveset(equation.subs(enzyme_solutions),\n",
    "                       enzyme_module_form)\n",
    "    enzyme_solutions[enzyme_module_form] = list(sol)[0]\n",
    "    # Update the dictionary of solutions with the solutions\n",
    "    enzyme_solutions.update({\n",
    "        enzyme_module_form: sol.subs(enzyme_solutions) \n",
    "        for enzyme_module_form, sol in enzyme_solutions.items()})\n",
    "    \n",
    "enzyme_rate_equation = strip_time(HEX1.enzyme_rate_error(False))\n",
    "\n",
    "# Solve for last unknown concentration symbolically\n",
    "sol = sym.solveset(enzyme_rate_equation.subs(enzyme_solutions),\n",
    "                   \"hex1_c\")\n",
    "\n",
    "# Update solution dictionary with the new solution\n",
    "enzyme_solutions[sym.Symbol(\"hex1_c\")] = list(sol)[0]\n",
    "\n",
    "# Update solutions with free variable solutions\n",
    "enzyme_solutions = {\n",
    "    enzyme_module_form: sym.simplify(solution.subs(enzyme_solutions))\n",
    "    for enzyme_module_form, solution in enzyme_solutions.items()}"
   ]
  },
  {
   "cell_type": "markdown",
   "metadata": {},
   "source": [
    "#### Numerical Values"
   ]
  },
  {
   "cell_type": "code",
   "execution_count": 11,
   "metadata": {},
   "outputs": [
    {
     "name": "stdout",
     "output_type": "stream",
     "text": [
      "\n",
      "Numerical Values\n",
      "----------------\n",
      "v_HEX1 = 1.12\n",
      "_23dpg_c = 3.1\n",
      "adp_c = 0.28999999119642894\n",
      "atp_c = 1.6\n",
      "g6p_c = 0.04859997822195344\n",
      "glc__D_c = 1.0000003633303347\n",
      "h_c = 8.997571410461636e-05\n",
      "Keq_HEX1_A = 0.4854368932038835\n",
      "Keq_HEX1_G = 26.315789473684212\n",
      "Keq_HEX1 = 313.11999999999995\n",
      "Keq_HEX1_1 = 1\n",
      "Keq_HEX1_2 = 0.015\n",
      "Keq_HEX1_5 = 0.18181818181818182\n"
     ]
    }
   ],
   "source": [
    "numerical_values = {}\n",
    "\n",
    "# Get ligand IDs and parameter IDs\n",
    "ligand_ids = sorted([str(ligand) for ligand in HEX1.enzyme_module_ligands])\n",
    "parameter_ids = [\"_\".join((HEX1.id, abbrev)) for abbrev in abbreviations]\n",
    "parameter_ids.extend([HEX1.id])\n",
    "\n",
    "# Get the steady state flux value and add to numerical values\n",
    "HEX1.enzyme_rate = glycolysis_hb.reactions.get_by_id(HEX1.id).steady_state_flux\n",
    "numerical_values.update({HEX1.enzyme_flux_symbol_str: HEX1.enzyme_rate})\n",
    "\n",
    "# Get the steady state concentration values and add to numerical values\n",
    "initial_conditions = {\n",
    "    str(ligand): glycolysis_hb.initial_conditions[glycolysis_hb.metabolites.get_by_id(ligand)]\n",
    "    for ligand in ligand_ids}\n",
    "numerical_values.update(initial_conditions)\n",
    "\n",
    "# Define parameter values and add to numerical values\n",
    "# Because of the QEA, invert dissociation constants for Keq\n",
    "parameter_values = {\n",
    "    \"Keq_\" + parameter_id: value \n",
    "    for parameter_id, value in zip(parameter_ids, [1/2.06, 1/0.038, 4000/((1/2.06) * (1/0.038))])}\n",
    "\n",
    "for reaction, value in zip([\"HEX1_1\", \"HEX1_2\", \"HEX1_5\"], [1, 0.015, 1/5.5]):\n",
    "    reaction = HEX1.reactions.get_by_id(reaction)\n",
    "    parameter_values[reaction.Keq_str] = value\n",
    "numerical_values.update(parameter_values)\n",
    "\n",
    "# Display numerical values\n",
    "print(\"\\nNumerical Values\\n----------------\")\n",
    "for k, v in numerical_values.items():\n",
    "    print(\"{0} = {1}\".format(k, v))"
   ]
  },
  {
   "cell_type": "markdown",
   "metadata": {},
   "source": [
    "### Calculate Steady State Concentrations"
   ]
  },
  {
   "cell_type": "markdown",
   "metadata": {},
   "source": [
    "#### Set total enzyme concentration"
   ]
  },
  {
   "cell_type": "code",
   "execution_count": 12,
   "metadata": {},
   "outputs": [],
   "source": [
    "HEX1.enzyme_concentration_total = 24e-6"
   ]
  },
  {
   "cell_type": "markdown",
   "metadata": {},
   "source": [
    "#### Determine rate constants"
   ]
  },
  {
   "cell_type": "code",
   "execution_count": 13,
   "metadata": {},
   "outputs": [
    {
     "name": "stdout",
     "output_type": "stream",
     "text": [
      "`xtol` termination condition is satisfied.\n",
      "Number of iterations: 88, function evaluations: 280, CG iterations: 81, optimality: 4.31e-10, constraint violation: 0.00e+00, execution time:  5.4 s.\n",
      "\n",
      "Optimization Success: True\n",
      "Optimization Optimality: 4.3097e-10\n",
      "Parameter Solutions: {'kf_HEX1': 100000000, 'kf_HEX1_A': 9376585, 'kf_HEX1_G': 54549}\n",
      "Concentration Error: 1.3233e-11\n"
     ]
    }
   ],
   "source": [
    "# Substitute values into equations\n",
    "enzyme_solutions = {\n",
    "    enzyme_module_form: sym.simplify(solution.subs(numerical_values))\n",
    "    for enzyme_module_form, solution in enzyme_solutions.items()}\n",
    "\n",
    "args = set()\n",
    "for sol in enzyme_solutions.values():\n",
    "    args.update(sol.atoms(sym.Symbol))\n",
    "\n",
    "enzyme_total_constraint = abs(\n",
    "    strip_time(HEX1.enzyme_concentration_total_error(use_values=False)))\n",
    "\n",
    "# Substitute value for enzyme concentration total\n",
    "enzyme_total_constraint = enzyme_total_constraint.subs({\n",
    "    HEX1.enzyme_total_symbol_str: HEX1.enzyme_concentration_total})\n",
    "# Substitute solutions into constraint and simplify\n",
    "enzyme_total_constraint = sym.simplify(\n",
    "    enzyme_total_constraint.subs(enzyme_solutions))\n",
    "\n",
    "# Create a sorted tuple of the arguments to ensure the input format does not change\n",
    "args = tuple(sorted([str(arg) for arg in list(args)]))\n",
    "# Create the objective function as a lambda function\n",
    "objective_function = lambda x: sym.lambdify(args, enzyme_total_constraint)(*x)\n",
    "\n",
    "# Set arguments for minimization \n",
    "initial_guess = [1e8, 9376585, 52001]\n",
    "kf_bounds = ((1e3, 1e9), (1e3, 1e9), (1e3, 1e9))\n",
    "constraints = (\n",
    "    {\"type\": \"eq\", \"fun\": objective_function})\n",
    "# Find a feasible solution\n",
    "sol = optimize.minimize(\n",
    "    objective_function, x0=initial_guess, method=\"trust-constr\",\n",
    "    bounds=kf_bounds,\n",
    "    options={\"gtol\": 1e-12, \"xtol\": 1e-12, \"maxiter\": 1e4, \"disp\": True})\n",
    "\n",
    "# Check whether optimzation was successful\n",
    "print(\"\\nOptimization Success: {0}\".format(sol.success))\n",
    "if sol.success:\n",
    "    # Update the paramter values dictionary with the feasible solution\n",
    "    parameter_values.update(\n",
    "        dict(zip(args, [round(x) for x in sol.x])))\n",
    "    print(\"Optimization Optimality: {0:.4e}\".format(sol.optimality))\n",
    "    print(\"Parameter Solutions: {:}\".format(str({\n",
    "        arg: parameter_values[arg] for arg in args})))\n",
    "    # Plug solutions back into constraints for validation\n",
    "    print(\"Concentration Error: {0:.4e}\".format(\n",
    "        enzyme_total_constraint.subs(parameter_values)))"
   ]
  },
  {
   "cell_type": "markdown",
   "metadata": {},
   "source": [
    "#### Set initial conditions"
   ]
  },
  {
   "cell_type": "code",
   "execution_count": 14,
   "metadata": {},
   "outputs": [
    {
     "name": "stdout",
     "output_type": "stream",
     "text": [
      "Ligand Concentrations\n",
      "---------------------\n",
      "glc__D_c = 1.0000003633303347\n",
      "g6p_c = 0.04859997822195344\n",
      "atp_c = 1.6\n",
      "adp_c = 0.28999999119642894\n",
      "_23dpg_c = 3.1\n",
      "h_c = 8.997571410461636e-05\n",
      "\n",
      "Enzyme Concentrations\n",
      "----------------------\n",
      "hex1_c = 1.1571975997530738e-05\n",
      "hex1_A_c = 8.962632702595526e-06\n",
      "hex1_G_c = 5.7158274551285884e-08\n",
      "hex1_AG_c = 1.172087171587165e-08\n",
      "hex1_G_CI_c = 3.221648201981567e-08\n",
      "hex1_A_PI_c = 3.3558729374092007e-06\n",
      "hex1_G_PI_c = 8.435966721974423e-09\n"
     ]
    }
   ],
   "source": [
    "parameter_values.update({\n",
    "    \"kf_\" + rxn: 1e6 for rxn in [\"HEX1_1\", \"HEX1_2\", \"HEX1_5\"]})\n",
    "\n",
    "initial_conditions.update({\n",
    "    str(enzyme_module_form): float(sym.simplify(solution.subs(parameter_values)))\n",
    "    for enzyme_module_form, solution in enzyme_solutions.items()})\n",
    "\n",
    "# Set initial conditions\n",
    "for met, concentration in initial_conditions.items():\n",
    "    HEX1.metabolites.get_by_id(str(met)).ic = concentration\n",
    "    \n",
    "for header, dictlist in zip([\"Ligand\", \"\\nEnzyme\"],\n",
    "                            [HEX1.enzyme_module_ligands, HEX1.enzyme_module_forms]):\n",
    "    header += \" Concentrations\"\n",
    "    print(\"\\n\".join([header, \"-\" * len(header)]))\n",
    "    for forms in dictlist:\n",
    "        ic = initial_conditions[forms.id]\n",
    "        print(\"{0} = {1}\".format(forms.id, ic))"
   ]
  },
  {
   "cell_type": "markdown",
   "metadata": {},
   "source": [
    "### Set Parameters"
   ]
  },
  {
   "cell_type": "code",
   "execution_count": 15,
   "metadata": {},
   "outputs": [],
   "source": [
    "# Update based on publication values\n",
    "parameter_values.update({\n",
    "    'kf_HEX1': 100000000.0,\n",
    "    'kf_HEX1_A': 9376585.0,\n",
    "    'kf_HEX1_G': 52001.0})\n",
    "\n",
    "# Add the custom parameters and values for kf and Keq to module\n",
    "HEX1.custom_parameters.update(parameter_values)\n",
    "# Assign parameter values for reactions that do not use custom parameters\n",
    "for reaction in HEX1.reactions:\n",
    "    if reaction not in HEX1.custom_rates:\n",
    "        reaction.kf = HEX1.custom_parameters.pop(reaction.kf_str)\n",
    "        reaction.Keq = HEX1.custom_parameters.pop(reaction.Keq_str)"
   ]
  },
  {
   "cell_type": "markdown",
   "metadata": {},
   "source": [
    "### Units"
   ]
  },
  {
   "cell_type": "code",
   "execution_count": 16,
   "metadata": {},
   "outputs": [],
   "source": [
    "concentration = UnitDefinition(\"mM\", name=\"Millimolar\", list_of_units=[\"millimole\", \"per_litre\"])\n",
    "time = UnitDefinition(\"hr\", name=\"hour\", list_of_units=[\"hour\"])\n",
    "\n",
    "HEX1.add_units([concentration, time])"
   ]
  },
  {
   "cell_type": "markdown",
   "metadata": {},
   "source": [
    "## QC model"
   ]
  },
  {
   "cell_type": "code",
   "execution_count": 17,
   "metadata": {},
   "outputs": [
    {
     "name": "stdout",
     "output_type": "stream",
     "text": [
      "╒══════════════════════════════════════════╕\n",
      "│ MODEL ID: HEX1                           │\n",
      "│ SIMULATABLE: True                        │\n",
      "│ PARAMETERS NUMERICALY CONSISTENT: True   │\n",
      "╞══════════════════════════════════════════╡\n",
      "╘══════════════════════════════════════════╛\n"
     ]
    }
   ],
   "source": [
    "qcqa_model(HEX1, parameters=True, concentrations=True, \n",
    "           fluxes=False, superfluous=True, elemental=True)"
   ]
  },
  {
   "cell_type": "markdown",
   "metadata": {},
   "source": [
    "#### Errors"
   ]
  },
  {
   "cell_type": "code",
   "execution_count": 18,
   "metadata": {},
   "outputs": [
    {
     "name": "stdout",
     "output_type": "stream",
     "text": [
      "Concentration Absolute Error: 1.3233e-11\n"
     ]
    }
   ],
   "source": [
    "print(\"Concentration Absolute Error: {0:.4e}\".format(\n",
    "    abs(HEX1.enzyme_concentration_total_error(use_values=True))))"
   ]
  },
  {
   "cell_type": "markdown",
   "metadata": {},
   "source": [
    "### Ordering of internal forms and reactions"
   ]
  },
  {
   "cell_type": "code",
   "execution_count": 19,
   "metadata": {},
   "outputs": [],
   "source": [
    "new_metabolite_order = [\n",
    "    \"glc__D_c\",\"g6p_c\", \"_23dpg_c\", \"atp_c\", \"adp_c\", \"h_c\", \n",
    "    \"hex1_c\", \"hex1_A_c\", \"hex1_G_c\",\"hex1_AG_c\", \"hex1_G_CI_c\", \n",
    "    \"hex1_A_PI_c\", \"hex1_G_PI_c\"]\n",
    "\n",
    "if len(HEX1.metabolites) == len(new_metabolite_order):\n",
    "    HEX1.metabolites = DictList(\n",
    "        HEX1.metabolites.get_by_any(new_metabolite_order))\n",
    "    \n",
    "new_reaction_order = [\n",
    "    \"HEX1_1\", \"HEX1_2\", \"HEX1_3\", \"HEX1_4\",\n",
    "    \"HEX1_5\", \"HEX1_6\", \"HEX1_7\", \"HEX1_8\"]\n",
    "\n",
    "if len(HEX1.reactions) == len(new_reaction_order):\n",
    "    HEX1.reactions = DictList(\n",
    "        HEX1.reactions.get_by_any(new_reaction_order))"
   ]
  },
  {
   "cell_type": "markdown",
   "metadata": {},
   "source": [
    "## Simulation\n",
    "### Merge model"
   ]
  },
  {
   "cell_type": "code",
   "execution_count": 20,
   "metadata": {},
   "outputs": [
    {
     "name": "stdout",
     "output_type": "stream",
     "text": [
      "Read LP format model from file /var/folders/36/g2np3l0d6t9dyr4rk3tvc8f80000gn/T/tmphbpa_xaf.lp\n",
      "Reading time = 0.00 seconds\n",
      ": 28 rows, 60 columns, 168 nonzeros\n"
     ]
    }
   ],
   "source": [
    "# Merge the EnzymeModule into the MassModel\n",
    "glycolysis_hb_HEX1 = glycolysis_hb.merge(HEX1, inplace=False)\n",
    "# Remove the HEX1 MassReaction\n",
    "glycolysis_hb_HEX1.remove_reactions([\n",
    "    glycolysis_hb_HEX1.reactions.get_by_id(\"HEX1\")])"
   ]
  },
  {
   "cell_type": "markdown",
   "metadata": {},
   "source": [
    "### Simulate"
   ]
  },
  {
   "cell_type": "code",
   "execution_count": 21,
   "metadata": {},
   "outputs": [
    {
     "name": "stdout",
     "output_type": "stream",
     "text": [
      "Successfully loaded MassModel 'Glycolysis_Hemoglobin_HEX1' into RoadRunner.\n"
     ]
    },
    {
     "data": {
      "image/png": "[encoded data removed]",
      "text/plain": [
       "<Figure size 432x288 with 1 Axes>"
      ]
     },
     "metadata": {
      "needs_background": "light"
     },
     "output_type": "display_data"
    }
   ],
   "source": [
    "# Setup simulation object, ensure model is at steady state\n",
    "sim = Simulation(glycolysis_hb_HEX1, verbose=True)\n",
    "\n",
    "sim.find_steady_state(glycolysis_hb_HEX1, strategy=\"simulate\",\n",
    "                      update_values=True, tfinal=1e4)\n",
    "# Simulate from 0 to 1000 with 10001 points in the output\n",
    "conc_sol, flux_sol = sim.simulate(glycolysis_hb_HEX1,\n",
    "                                  time=(0, 1e3, 1e4 + 1))\n",
    "# Quickly render and display time profiles \n",
    "conc_sol.view_time_profile()"
   ]
  },
  {
   "cell_type": "markdown",
   "metadata": {},
   "source": [
    "## Export"
   ]
  },
  {
   "cell_type": "code",
   "execution_count": 22,
   "metadata": {},
   "outputs": [],
   "source": [
    "json.save_json_model(\n",
    "    mass_model=HEX1,\n",
    "    filename=path.realpath(path.join(\"CS1_data\", \"models\",  HEX1.id + \".json\")))"
   ]
  }
 ],
 "metadata": {
  "kernelspec": {
   "display_name": "Python 3",
   "language": "python",
   "name": "python3"
  },
  "language_info": {
   "codemirror_mode": {
    "name": "ipython",
    "version": 3
   },
   "file_extension": ".py",
   "mimetype": "text/x-python",
   "name": "python",
   "nbconvert_exporter": "python",
   "pygments_lexer": "ipython3",
   "version": "3.7.7"
  }
 },
 "nbformat": 4,
 "nbformat_minor": 2
}
