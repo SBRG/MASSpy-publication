{
 "cells": [
  {
   "cell_type": "markdown",
   "metadata": {},
   "source": [
    "# Ensemble Modeling: Model Generation"
   ]
  },
  {
   "cell_type": "code",
   "execution_count": 1,
   "metadata": {},
   "outputs": [
    {
     "name": "stdout",
     "output_type": "stream",
     "text": [
      "Using license file /Users/zhaiman/opt/licenses/gurobi.lic\n",
      "Academic license - for non-commercial use only\n",
      "MASSpy version: 0.1.0\n"
     ]
    }
   ],
   "source": [
    "# Disable all logging output for this notebook.\n",
    "try:\n",
    "    import gurobipy\n",
    "    gurobipy.setParam(\"OutputFlag\", 0)\n",
    "except ImportError:\n",
    "    pass\n",
    "import logging\n",
    "\n",
    "import warnings\n",
    "from operator import attrgetter\n",
    "from os import path\n",
    "\n",
    "from cobra import DictList\n",
    "from cobra.sampling import sample\n",
    "\n",
    "import numpy as np\n",
    "\n",
    "from scipy import optimize\n",
    "\n",
    "import roadrunner\n",
    "\n",
    "import sympy as sym\n",
    "\n",
    "import mass\n",
    "from mass import MassConfiguration, UnitDefinition\n",
    "from mass.enzyme_modules import EnzymeModule\n",
    "from mass.io.json import load_json_model, save_json_model\n",
    "from mass.simulation.ensemble import (\n",
    "    ensure_steady_state, generate_ensemble_of_models)\n",
    "from mass.thermo import ConcSolver, sample_concentrations\n",
    "from mass.util import Keq2k, k2Keq, strip_time\n",
    "\n",
    "# Disable logging for all levels except critical\n",
    "logging.getLogger(\"\").setLevel(\"CRITICAL\")\n",
    "# Configure roadrunner to allow for more output rows\n",
    "roadrunner.Config.setValue(\n",
    "    roadrunner.Config.MAX_OUTPUT_ROWS, 1e6)\n",
    "\n",
    "mass_config = MassConfiguration()\n",
    "mass_config.decimal_precision = 12  # Round after 12 digits after decimal\n",
    "print(\"MASSpy version: \" + mass.__version__)"
   ]
  },
  {
   "cell_type": "markdown",
   "metadata": {},
   "source": [
    "## Load Reference Models"
   ]
  },
  {
   "cell_type": "code",
   "execution_count": 2,
   "metadata": {},
   "outputs": [],
   "source": [
    "glycolysis = load_json_model(\n",
    "    path.join(\"CS2_data\", \"Glycolysis.json\"))\n",
    "reference_model = load_json_model(\n",
    "    path.join(\"CS2_data\", \"Glycolysis_Hb.json\"))\n",
    "PYK =  load_json_model(\n",
    "    path.join(\"CS2_data\", \"PYK.json\"))"
   ]
  },
  {
   "cell_type": "markdown",
   "metadata": {},
   "source": [
    "## Generate Ensemble Data via Sampling"
   ]
  },
  {
   "cell_type": "code",
   "execution_count": 3,
   "metadata": {},
   "outputs": [
    {
     "name": "stdout",
     "output_type": "stream",
     "text": [
      "Number of combinations: 625\n"
     ]
    }
   ],
   "source": [
    "f_samples = 25\n",
    "flux_percent_deviation = 0.8\n",
    "\n",
    "c_samples = 25\n",
    "conc_percent_deviation = 0.8\n",
    "\n",
    "seed = 25\n",
    "print(\"Number of combinations: {}\".format(f_samples * c_samples))"
   ]
  },
  {
   "cell_type": "markdown",
   "metadata": {},
   "source": [
    "### Flux Sampling"
   ]
  },
  {
   "cell_type": "code",
   "execution_count": 4,
   "metadata": {},
   "outputs": [],
   "source": [
    "for reaction in glycolysis.reactions:\n",
    "    reaction.bounds = sorted([\n",
    "        round(reaction.steady_state_flux * (1 - flux_percent_deviation),\n",
    "              mass_config.decimal_precision),\n",
    "        round(reaction.steady_state_flux * (1 + flux_percent_deviation),\n",
    "              mass_config.decimal_precision)])\n",
    "\n",
    "flux_samples = sample(glycolysis, n=f_samples, seed=seed)"
   ]
  },
  {
   "cell_type": "markdown",
   "metadata": {},
   "source": [
    "### Concentration Sampling"
   ]
  },
  {
   "cell_type": "code",
   "execution_count": 5,
   "metadata": {},
   "outputs": [],
   "source": [
    "conc_solver = ConcSolver(\n",
    "    glycolysis,\n",
    "    excluded_metabolites=[\"h_c\", \"h2o_c\"],\n",
    "    equilibrium_reactions=[\"ADK1\"],\n",
    "    constraint_buffer=1e-7)\n",
    "\n",
    "conc_solver.setup_sampling_problem(\n",
    "    conc_percent_deviation=conc_percent_deviation,\n",
    "    Keq_percent_deviation=0)\n",
    "\n",
    "conc_samples = sample_concentrations(conc_solver, n=c_samples, seed=seed)"
   ]
  },
  {
   "cell_type": "markdown",
   "metadata": {},
   "source": [
    "## Create Ensemble\n",
    "### Create Models from Data"
   ]
  },
  {
   "cell_type": "code",
   "execution_count": 6,
   "metadata": {},
   "outputs": [
    {
     "name": "stderr",
     "output_type": "stream",
     "text": [
      "mass/simulation/simulation.py:828 \u001b[1;31mUserWarning\u001b[0m: Unable to find a steady state for one or more models. Check the log for more details.\n"
     ]
    },
    {
     "name": "stdout",
     "output_type": "stream",
     "text": [
      "Total models generated: 625\n",
      "Feasible: 610\n",
      "Infeasible, negative PERCs: 0\n",
      "Infeasible, no steady state found: 15\n",
      "Infeasible, no steady state with pertubration 1: 0\n"
     ]
    }
   ],
   "source": [
    "models = generate_ensemble_of_models(\n",
    "    reference_model=reference_model,\n",
    "    flux_data=flux_samples,\n",
    "    conc_data=conc_samples,\n",
    "    ensure_positive_percs=[\n",
    "        r.id for r in reference_model.reactions\n",
    "        if r not in reference_model.boundary\n",
    "        and r.id not in [\"HBO1\", \"HBO2\", \"HBO3\", \"HBO4\", \"HBDPG\"]],\n",
    "    strategy=\"simulate\",\n",
    "    perturbations={\"kf_ATPM\": \"kf_ATPM * 1.5\"})"
   ]
  },
  {
   "cell_type": "markdown",
   "metadata": {},
   "source": [
    "### Create PYK EnzymeModules for Models\n",
    "#### Determine steady state concentrations symbolically"
   ]
  },
  {
   "cell_type": "code",
   "execution_count": 7,
   "metadata": {},
   "outputs": [],
   "source": [
    "# Get dict of ODEs for enzyme forms\n",
    "ode_dict = {\n",
    "    sym.Symbol(e_mod_form.id): sym.Eq(strip_time(e_mod_form.ode), 0)\n",
    "    for e_mod_form in PYK.enzyme_module_forms}\n",
    "# Get enzyme module forms\n",
    "enzyme_module_forms = PYK.enzyme_module_forms.copy()\n",
    "# Reverse list for increased performance (due to symmetry assumption)\n",
    "# by solving for the most activated/inhibitors bound first.\n",
    "enzyme_module_forms.reverse()\n",
    "\n",
    "enzyme_solutions = {}\n",
    "for enzyme_module_form in enzyme_module_forms:\n",
    "    # Skip dependent variable\n",
    "    if \"pyk_R0_c\" == str(enzyme_module_form):\n",
    "        continue\n",
    "    enzyme_module_form = sym.Symbol(enzyme_module_form.id)\n",
    "    # Susbtitute in previous solutions, solve for the enzyme module form\n",
    "    equation = ode_dict[enzyme_module_form]\n",
    "    sol = sym.solveset(equation.subs(enzyme_solutions),\n",
    "                       enzyme_module_form)\n",
    "    enzyme_solutions[enzyme_module_form] = list(sol)[0]\n",
    "    # Update the dictionary of solutions with the solutions\n",
    "    enzyme_solutions.update({\n",
    "        enzyme_module_form: sol.subs(enzyme_solutions) \n",
    "        for enzyme_module_form, sol in enzyme_solutions.items()})\n",
    "    \n",
    "# Solve for last unknown concentration symbolically\n",
    "enzyme_rate_equation_error = strip_time(PYK.enzyme_rate_error())\n",
    "sol = sym.solveset(enzyme_rate_equation_error.subs(enzyme_solutions),\n",
    "                   \"pyk_R0_c\")\n",
    "# Update solution dictionary with the new solution\n",
    "enzyme_solutions[sym.Symbol(\"pyk_R0_c\")] = list(sol)[0]\n",
    "\n",
    "# Update solutions with free variable solutions\n",
    "enzyme_solutions = {\n",
    "    enzyme_module_form: sym.simplify(solution.subs(enzyme_solutions))\n",
    "    for enzyme_module_form, solution in enzyme_solutions.items()}"
   ]
  },
  {
   "cell_type": "markdown",
   "metadata": {},
   "source": [
    "#### Determine PYK rate parameters, steady state concentrations, and add to model"
   ]
  },
  {
   "cell_type": "code",
   "execution_count": 8,
   "metadata": {},
   "outputs": [
    {
     "name": "stdout",
     "output_type": "stream",
     "text": [
      "About 0 percent finished\n",
      "About 10 percent finished\n",
      "About 20 percent finished\n",
      "About 30 percent finished\n",
      "About 40 percent finished\n",
      "About 50 percent finished\n",
      "About 60 percent finished\n",
      "About 70 percent finished\n",
      "About 80 percent finished\n",
      "About 90 percent finished\n",
      "Running simulations for SS\n",
      "Running simulations for SS w/ perturbation\n",
      "Models with PYK, found SS w/ perturbation: 72\n",
      "Models with PYK, no SS w/ perturbation: 92\n",
      "Models with PYK, no SS: 446\n",
      "Models without PYK: 0\n"
     ]
    }
   ],
   "source": [
    "def get_numerical_values(model):\n",
    "    \"\"\"Return a dict of numerical values to substutite into equations.\"\"\"\n",
    "    # Get equilibrium constants\n",
    "    numerical_values = {\n",
    "        PYK.reactions.PYK_L.Keq_str: PYK.reactions.PYK_L.Keq}\n",
    "    numerical_values.update({\n",
    "        param: value for param, value in PYK.custom_parameters.items()\n",
    "        if param.startswith(\"Keq\")})\n",
    "\n",
    "    # Get initial conditions\n",
    "    numerical_values.update({\n",
    "        met.id: met.ic\n",
    "        for met in model.metabolites.get_by_any(\n",
    "            PYK.enzyme_module_ligands.list_attr(\"id\"))})\n",
    "    rxn = model.reactions.get_by_id(\"PYK\")\n",
    "    # Get steady state flux of enzyme\n",
    "    numerical_values.update({\n",
    "        PYK.enzyme_flux_symbol_str: rxn.steady_state_flux\n",
    "    })\n",
    "    return numerical_values\n",
    "\n",
    "def get_total_constraint(enzyme_sols):\n",
    "    \"\"\"Return the total enzyme constraint in terms of rate constants.\"\"\"\n",
    "    # Get constraint\n",
    "    enzyme_total_constraint = abs(strip_time(\n",
    "        PYK.enzyme_concentration_total_error(use_values=False)))\n",
    "    # Substitute values into constraint and simplify\n",
    "    enzyme_total_constraint = enzyme_total_constraint.subs({\n",
    "        PYK.enzyme_total_symbol_str: PYK.enzyme_concentration_total})\n",
    "    enzyme_total_constraint = sym.simplify(\n",
    "        enzyme_total_constraint.subs(enzyme_sols))\n",
    "        \n",
    "    return enzyme_total_constraint\n",
    "\n",
    "def copy_module_and_add_numerical_values(model, numerical_values):\n",
    "    \"\"\"Copy the non-parameterized PYK enzyme and set numerical values.\"\"\"\n",
    "    PYK_new = PYK.copy()\n",
    "    for met in PYK.metabolites:\n",
    "        met.ic = numerical_values.pop(met.id)\n",
    "    del numerical_values[\"v_PYK\"]\n",
    "    PYK_new.update_parameters(numerical_values)\n",
    "    \n",
    "    return PYK_new\n",
    "\n",
    "def create_PYK_module(model, enzyme_sols=None):\n",
    "    \"\"\"Create PYK module using the given model for numerical values.\"\"\"\n",
    "    # Get numerical values from the model\n",
    "    numerical_values = get_numerical_values(model)\n",
    "    # Sub values into equations for enzyme forms\n",
    "    enzyme_sols = {\n",
    "        enzyme_module_form: sym.simplify(solution.subs(numerical_values))\n",
    "        for enzyme_module_form, solution in enzyme_sols.items()}\n",
    "    # Get arguments, should only be 3 ratge constants\n",
    "    args = set()\n",
    "    for sol in enzyme_sols.values():\n",
    "        args.update(sol.atoms(sym.Symbol))\n",
    "    assert len(args) == 3\n",
    "    # Get enzyme total constraint and substitute values\n",
    "    enzyme_total_constraint = get_total_constraint(enzyme_sols)\n",
    "\n",
    "    # Create a sorted tuple of the arguments\n",
    "    args = tuple(sorted([str(arg) for arg in list(args)]))\n",
    "    # Create the objective function as a lambda function\n",
    "    obj_func = lambda x: sym.lambdify(args, enzyme_total_constraint)(*x)\n",
    "\n",
    "    # Find a feasible solution\n",
    "    initial_guess = [6e3, 4e6, 4e6]\n",
    "    (kf_lb, kf_ub) = (1e0, 1e9)\n",
    "    kf_bounds = ((kf_lb, kf_ub), (kf_lb, kf_ub), (kf_lb, kf_ub))\n",
    "    with warnings.catch_warnings():\n",
    "        warnings.simplefilter(\"ignore\")\n",
    "        sol = optimize.minimize(\n",
    "            obj_func, x0=initial_guess, method=\"trust-constr\",\n",
    "            bounds=kf_bounds,\n",
    "            options={\"gtol\": 1e-10, \"xtol\": 1e-10,\n",
    "                     \"maxiter\": 1e4, \"disp\": False})\n",
    "    # Could not find a solution, no module constructed\n",
    "    if not sol.success:\n",
    "        return None\n",
    "\n",
    "    # Update the paramter values dict with the feasible solution\n",
    "    numerical_values.update(\n",
    "        dict(zip(args, [round(x) for x in sol.x])))\n",
    "\n",
    "    # Add the activation, inhibition, and allosteric rate constants\n",
    "    for abbrev, value in zip([\"I\", \"ACT\", \"L\"], [1e6, 1e6, 1e6**2]):\n",
    "        # Account for the enzyme prefix\n",
    "        to_join = (\"kf\", PYK.id, abbrev)\n",
    "        param = \"_\".join(to_join)\n",
    "        numerical_values.update({param: value})\n",
    "\n",
    "    # Substitute values into equations\n",
    "    numerical_values.update({\n",
    "        str(e_form): float(sym.simplify(solution.subs(numerical_values)))\n",
    "        for e_form, solution in enzyme_sols.items()})\n",
    "    \n",
    "    PYK_new = copy_module_and_add_numerical_values(\n",
    "        model, numerical_values)\n",
    "    \n",
    "    return PYK_new\n",
    "\n",
    "# Create modules and add to models\n",
    "models_wo_PYK = []\n",
    "models_w_PYK = []\n",
    "for i, model in enumerate(models):\n",
    "    if i % int(len(models) * 0.1) == 0:\n",
    "        print(\"About {0} percent finished\".format(\n",
    "            int(i/int(len(models) * 0.1))*10))\n",
    "    PYK_new = create_PYK_module(model, enzyme_sols=enzyme_solutions)\n",
    "    if PYK_new is None:\n",
    "        models_wo_PYK += [model]\n",
    "    else:\n",
    "        model = model.merge(PYK_new, inplace=False)\n",
    "        model.remove_reactions([model.reactions.get_by_id(\"PYK\")])\n",
    "        models_w_PYK += [model]\n",
    "        model.id = \"_\".join((\n",
    "            reference_model.id, PYK_new.id, \n",
    "            model.id[len(reference_model.id) + 1:-4]))\n",
    "\n",
    "with warnings.catch_warnings():\n",
    "    warnings.simplefilter(\"ignore\")\n",
    "    print(\"Running simulations for SS\")\n",
    "    found_ss, no_ss = ensure_steady_state(\n",
    "        models_w_PYK, strategy=\"simulate\",\n",
    "        update_values=True)\n",
    "    print(\"Running simulations for SS w/ perturbation\")\n",
    "    ensemble_of_models, no_ss_w_pert = ensure_steady_state(\n",
    "        found_ss, strategy=\"simulate\",\n",
    "        perturbations={\"kf_ATPM\": \"kf_ATPM * 1.5\"},\n",
    "        update_values=False)\n",
    "\n",
    "print(\"Models with PYK, found SS w/ perturbation: {0}\".format(\n",
    "    len(ensemble_of_models)))\n",
    "print(\"Models with PYK, no SS w/ perturbation: {0}\".format(\n",
    "    len(no_ss_w_pert)))\n",
    "print(\"Models with PYK, no SS: {0}\".format(\n",
    "    len(no_ss)))\n",
    "print(\"Models without PYK: {0}\".format(\n",
    "    len(models_wo_PYK)))"
   ]
  },
  {
   "cell_type": "markdown",
   "metadata": {},
   "source": [
    "## Export Models"
   ]
  },
  {
   "cell_type": "code",
   "execution_count": 9,
   "metadata": {},
   "outputs": [],
   "source": [
    "for model in ensemble_of_models:\n",
    "    save_json_model(\n",
    "        mass_model=model,\n",
    "        filename=path.join(\n",
    "            \"CS2_data\", \"ensemble_models\", model.id + \".json\"))"
   ]
  }
 ],
 "metadata": {
  "kernelspec": {
   "display_name": "Python 3",
   "language": "python",
   "name": "python3"
  },
  "language_info": {
   "codemirror_mode": {
    "name": "ipython",
    "version": 3
   },
   "file_extension": ".py",
   "mimetype": "text/x-python",
   "name": "python",
   "nbconvert_exporter": "python",
   "pygments_lexer": "ipython3",
   "version": "3.7.7"
  }
 },
 "nbformat": 4,
 "nbformat_minor": 2
}
