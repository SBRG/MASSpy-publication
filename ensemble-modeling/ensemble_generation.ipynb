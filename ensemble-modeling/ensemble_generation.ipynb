{
 "cells": [
  {
   "cell_type": "markdown",
   "metadata": {},
   "source": [
    "# Ensemble Modeling: Model Generation"
   ]
  },
  {
   "cell_type": "code",
   "execution_count": 1,
   "metadata": {
    "execution": {
     "iopub.execute_input": "2020-10-26T04:39:36.084629Z",
     "iopub.status.busy": "2020-10-26T04:39:36.083931Z",
     "iopub.status.idle": "2020-10-26T04:39:39.662364Z",
     "shell.execute_reply": "2020-10-26T04:39:39.663207Z"
    }
   },
   "outputs": [
    {
     "name": "stdout",
     "output_type": "stream",
     "text": [
      "MASSpy version: 0.1.1\n"
     ]
    }
   ],
   "source": [
    "import warnings\n",
    "from operator import attrgetter\n",
    "from os import path\n",
    "\n",
    "from cobra import DictList\n",
    "from cobra.sampling import sample\n",
    "\n",
    "import numpy as np\n",
    "\n",
    "from scipy import optimize\n",
    "\n",
    "import roadrunner\n",
    "\n",
    "import sympy as sym\n",
    "\n",
    "import mass\n",
    "from mass import MassConfiguration, UnitDefinition\n",
    "from mass.enzyme_modules import EnzymeModule\n",
    "from mass.io.json import load_json_model, save_json_model\n",
    "from mass.io.sbml import write_sbml_model\n",
    "\n",
    "from mass.simulation import (\n",
    "    ensemble, generate_ensemble_of_models)\n",
    "from mass.thermo import ConcSolver, sample_concentrations\n",
    "from mass.util import Keq2k, k2Keq, strip_time\n",
    "\n",
    "from table_export import export_csv_files_for_models\n",
    "\n",
    "# Configure roadrunner to allow for more output rows\n",
    "roadrunner.Config.setValue(\n",
    "    roadrunner.Config.MAX_OUTPUT_ROWS, 1e6)\n",
    "\n",
    "mass_config = MassConfiguration()\n",
    "mass_config.decimal_precision = 12  # Round after 12 digits after decimal\n",
    "mass_config.solver = \"cplex\"\n",
    "print(\"MASSpy version: \" + mass.__version__)"
   ]
  },
  {
   "cell_type": "markdown",
   "metadata": {},
   "source": [
    "## Load Reference Models"
   ]
  },
  {
   "cell_type": "code",
   "execution_count": 2,
   "metadata": {
    "execution": {
     "iopub.execute_input": "2020-10-26T04:39:39.677260Z",
     "iopub.status.busy": "2020-10-26T04:39:39.675795Z",
     "iopub.status.idle": "2020-10-26T04:39:39.968391Z",
     "shell.execute_reply": "2020-10-26T04:39:39.968939Z"
    }
   },
   "outputs": [
    {
     "ename": "KeyboardInterrupt",
     "evalue": "",
     "output_type": "error",
     "traceback": [
      "\u001b[0;31m---------------------------------------------------------------------------\u001b[0m",
      "\u001b[0;31mKeyboardInterrupt\u001b[0m                         Traceback (most recent call last)",
      "\u001b[0;32m<ipython-input-2-b54ed2fa9dd5>\u001b[0m in \u001b[0;36m<module>\u001b[0;34m\u001b[0m\n\u001b[1;32m      7\u001b[0m PYK =  load_json_model(\n\u001b[1;32m      8\u001b[0m     path.abspath(path.join(\n\u001b[0;32m----> 9\u001b[0;31m         \"data\", \"reference_models\", \"JSON\", \"PYK.json\")))\n\u001b[0m",
      "\u001b[0;32m/usr/local/lib/python3.7/site-packages/mass/io/json.py\u001b[0m in \u001b[0;36mload_json_model\u001b[0;34m(filename)\u001b[0m\n\u001b[1;32m    154\u001b[0m     \u001b[0;32mif\u001b[0m \u001b[0misinstance\u001b[0m\u001b[0;34m(\u001b[0m\u001b[0mfilename\u001b[0m\u001b[0;34m,\u001b[0m \u001b[0mstring_types\u001b[0m\u001b[0;34m)\u001b[0m\u001b[0;34m:\u001b[0m\u001b[0;34m\u001b[0m\u001b[0;34m\u001b[0m\u001b[0m\n\u001b[1;32m    155\u001b[0m         \u001b[0;32mwith\u001b[0m \u001b[0mopen\u001b[0m\u001b[0;34m(\u001b[0m\u001b[0mfilename\u001b[0m\u001b[0;34m,\u001b[0m \u001b[0;34m\"r\"\u001b[0m\u001b[0;34m)\u001b[0m \u001b[0;32mas\u001b[0m \u001b[0mfile_handle\u001b[0m\u001b[0;34m:\u001b[0m\u001b[0;34m\u001b[0m\u001b[0;34m\u001b[0m\u001b[0m\n\u001b[0;32m--> 156\u001b[0;31m             \u001b[0;32mreturn\u001b[0m \u001b[0mmodel_from_dict\u001b[0m\u001b[0;34m(\u001b[0m\u001b[0mjson\u001b[0m\u001b[0;34m.\u001b[0m\u001b[0mload\u001b[0m\u001b[0;34m(\u001b[0m\u001b[0mfile_handle\u001b[0m\u001b[0;34m)\u001b[0m\u001b[0;34m)\u001b[0m\u001b[0;34m\u001b[0m\u001b[0;34m\u001b[0m\u001b[0m\n\u001b[0m\u001b[1;32m    157\u001b[0m     \u001b[0;32melse\u001b[0m\u001b[0;34m:\u001b[0m\u001b[0;34m\u001b[0m\u001b[0;34m\u001b[0m\u001b[0m\n\u001b[1;32m    158\u001b[0m         \u001b[0;32mreturn\u001b[0m \u001b[0mmodel_from_dict\u001b[0m\u001b[0;34m(\u001b[0m\u001b[0mjson\u001b[0m\u001b[0;34m.\u001b[0m\u001b[0mload\u001b[0m\u001b[0;34m(\u001b[0m\u001b[0mfilename\u001b[0m\u001b[0;34m)\u001b[0m\u001b[0;34m)\u001b[0m\u001b[0;34m\u001b[0m\u001b[0;34m\u001b[0m\u001b[0m\n",
      "\u001b[0;32m/usr/local/lib/python3.7/site-packages/mass/io/dict.py\u001b[0m in \u001b[0;36mmodel_from_dict\u001b[0;34m(obj)\u001b[0m\n\u001b[1;32m    241\u001b[0m         \u001b[0;32mfor\u001b[0m \u001b[0mreaction\u001b[0m\u001b[0;34m,\u001b[0m \u001b[0mcustom_rate\u001b[0m \u001b[0;32min\u001b[0m \u001b[0miteritems\u001b[0m\u001b[0;34m(\u001b[0m\u001b[0mobj\u001b[0m\u001b[0;34m[\u001b[0m\u001b[0;34m\"custom_rates\"\u001b[0m\u001b[0;34m]\u001b[0m\u001b[0;34m)\u001b[0m\u001b[0;34m:\u001b[0m\u001b[0;34m\u001b[0m\u001b[0;34m\u001b[0m\u001b[0m\n\u001b[1;32m    242\u001b[0m             model.add_custom_rate(model.reactions.get_by_id(reaction),\n\u001b[0;32m--> 243\u001b[0;31m                                   custom_rate, model.custom_parameters)\n\u001b[0m\u001b[1;32m    244\u001b[0m     \u001b[0;31m# Update with any opitonal attributes.\u001b[0m\u001b[0;34m\u001b[0m\u001b[0;34m\u001b[0m\u001b[0;34m\u001b[0m\u001b[0m\n\u001b[1;32m    245\u001b[0m     \u001b[0;32mfor\u001b[0m \u001b[0mk\u001b[0m\u001b[0;34m,\u001b[0m \u001b[0mv\u001b[0m \u001b[0;32min\u001b[0m \u001b[0miteritems\u001b[0m\u001b[0;34m(\u001b[0m\u001b[0mobj\u001b[0m\u001b[0;34m)\u001b[0m\u001b[0;34m:\u001b[0m\u001b[0;34m\u001b[0m\u001b[0;34m\u001b[0m\u001b[0m\n",
      "\u001b[0;32m/usr/local/lib/python3.7/site-packages/mass/core/mass_model.py\u001b[0m in \u001b[0;36madd_custom_rate\u001b[0;34m(self, reaction, custom_rate, custom_parameters)\u001b[0m\n\u001b[1;32m    901\u001b[0m         \u001b[0;31m# Create the custom rate expression\u001b[0m\u001b[0;34m\u001b[0m\u001b[0;34m\u001b[0m\u001b[0;34m\u001b[0m\u001b[0m\n\u001b[1;32m    902\u001b[0m         custom_rate = create_custom_rate(reaction, custom_rate,\n\u001b[0;32m--> 903\u001b[0;31m                                          custom_parameter_list)\n\u001b[0m\u001b[1;32m    904\u001b[0m         \u001b[0mself\u001b[0m\u001b[0;34m.\u001b[0m\u001b[0mcustom_rates\u001b[0m\u001b[0;34m.\u001b[0m\u001b[0mupdate\u001b[0m\u001b[0;34m(\u001b[0m\u001b[0;34m{\u001b[0m\u001b[0mreaction\u001b[0m\u001b[0;34m:\u001b[0m \u001b[0mcustom_rate\u001b[0m\u001b[0;34m}\u001b[0m\u001b[0;34m)\u001b[0m\u001b[0;34m\u001b[0m\u001b[0;34m\u001b[0m\u001b[0m\n\u001b[1;32m    905\u001b[0m         \u001b[0mself\u001b[0m\u001b[0;34m.\u001b[0m\u001b[0mcustom_parameters\u001b[0m\u001b[0;34m.\u001b[0m\u001b[0mupdate\u001b[0m\u001b[0;34m(\u001b[0m\u001b[0mcustom_parameters\u001b[0m\u001b[0;34m)\u001b[0m\u001b[0;34m\u001b[0m\u001b[0;34m\u001b[0m\u001b[0m\n",
      "\u001b[0;32m/usr/local/lib/python3.7/site-packages/mass/util/expressions.py\u001b[0m in \u001b[0;36mcreate_custom_rate\u001b[0;34m(reaction, custom_rate, custom_parameters)\u001b[0m\n\u001b[1;32m    456\u001b[0m     \u001b[0;32mfor\u001b[0m \u001b[0mdictionary\u001b[0m \u001b[0;32min\u001b[0m \u001b[0;34m[\u001b[0m\u001b[0mmet_syms\u001b[0m\u001b[0;34m,\u001b[0m \u001b[0mfix_syms\u001b[0m\u001b[0;34m,\u001b[0m \u001b[0mrate_syms\u001b[0m\u001b[0;34m,\u001b[0m \u001b[0mcustom_syms\u001b[0m\u001b[0;34m]\u001b[0m\u001b[0;34m:\u001b[0m\u001b[0;34m\u001b[0m\u001b[0;34m\u001b[0m\u001b[0m\n\u001b[1;32m    457\u001b[0m         \u001b[0msymbol_dict\u001b[0m\u001b[0;34m.\u001b[0m\u001b[0mupdate\u001b[0m\u001b[0;34m(\u001b[0m\u001b[0mdictionary\u001b[0m\u001b[0;34m)\u001b[0m\u001b[0;34m\u001b[0m\u001b[0;34m\u001b[0m\u001b[0m\n\u001b[0;32m--> 458\u001b[0;31m     \u001b[0mcustom_rate_expr\u001b[0m \u001b[0;34m=\u001b[0m \u001b[0msym\u001b[0m\u001b[0;34m.\u001b[0m\u001b[0msympify\u001b[0m\u001b[0;34m(\u001b[0m\u001b[0mcustom_rate_expr\u001b[0m\u001b[0;34m,\u001b[0m \u001b[0mlocals\u001b[0m\u001b[0;34m=\u001b[0m\u001b[0msymbol_dict\u001b[0m\u001b[0;34m)\u001b[0m\u001b[0;34m\u001b[0m\u001b[0;34m\u001b[0m\u001b[0m\n\u001b[0m\u001b[1;32m    459\u001b[0m     custom_rate_expr = _set_fixed_metabolites_in_rate(reaction,\n\u001b[1;32m    460\u001b[0m                                                       custom_rate_expr)\n",
      "\u001b[0;32m/usr/local/lib/python3.7/site-packages/sympy/core/sympify.py\u001b[0m in \u001b[0;36msympify\u001b[0;34m(a, locals, convert_xor, strict, rational, evaluate)\u001b[0m\n\u001b[1;32m    404\u001b[0m     \u001b[0;32mtry\u001b[0m\u001b[0;34m:\u001b[0m\u001b[0;34m\u001b[0m\u001b[0;34m\u001b[0m\u001b[0m\n\u001b[1;32m    405\u001b[0m         \u001b[0ma\u001b[0m \u001b[0;34m=\u001b[0m \u001b[0ma\u001b[0m\u001b[0;34m.\u001b[0m\u001b[0mreplace\u001b[0m\u001b[0;34m(\u001b[0m\u001b[0;34m'\\n'\u001b[0m\u001b[0;34m,\u001b[0m \u001b[0;34m''\u001b[0m\u001b[0;34m)\u001b[0m\u001b[0;34m\u001b[0m\u001b[0;34m\u001b[0m\u001b[0m\n\u001b[0;32m--> 406\u001b[0;31m         \u001b[0mexpr\u001b[0m \u001b[0;34m=\u001b[0m \u001b[0mparse_expr\u001b[0m\u001b[0;34m(\u001b[0m\u001b[0ma\u001b[0m\u001b[0;34m,\u001b[0m \u001b[0mlocal_dict\u001b[0m\u001b[0;34m=\u001b[0m\u001b[0mlocals\u001b[0m\u001b[0;34m,\u001b[0m \u001b[0mtransformations\u001b[0m\u001b[0;34m=\u001b[0m\u001b[0mtransformations\u001b[0m\u001b[0;34m,\u001b[0m \u001b[0mevaluate\u001b[0m\u001b[0;34m=\u001b[0m\u001b[0mevaluate\u001b[0m\u001b[0;34m)\u001b[0m\u001b[0;34m\u001b[0m\u001b[0;34m\u001b[0m\u001b[0m\n\u001b[0m\u001b[1;32m    407\u001b[0m     \u001b[0;32mexcept\u001b[0m \u001b[0;34m(\u001b[0m\u001b[0mTokenError\u001b[0m\u001b[0;34m,\u001b[0m \u001b[0mSyntaxError\u001b[0m\u001b[0;34m)\u001b[0m \u001b[0;32mas\u001b[0m \u001b[0mexc\u001b[0m\u001b[0;34m:\u001b[0m\u001b[0;34m\u001b[0m\u001b[0;34m\u001b[0m\u001b[0m\n\u001b[1;32m    408\u001b[0m         \u001b[0;32mraise\u001b[0m \u001b[0mSympifyError\u001b[0m\u001b[0;34m(\u001b[0m\u001b[0;34m'could not parse %r'\u001b[0m \u001b[0;34m%\u001b[0m \u001b[0ma\u001b[0m\u001b[0;34m,\u001b[0m \u001b[0mexc\u001b[0m\u001b[0;34m)\u001b[0m\u001b[0;34m\u001b[0m\u001b[0;34m\u001b[0m\u001b[0m\n",
      "\u001b[0;32m/usr/local/lib/python3.7/site-packages/sympy/parsing/sympy_parser.py\u001b[0m in \u001b[0;36mparse_expr\u001b[0;34m(s, local_dict, transformations, global_dict, evaluate)\u001b[0m\n\u001b[1;32m    983\u001b[0m     \u001b[0;32mif\u001b[0m \u001b[0mglobal_dict\u001b[0m \u001b[0;32mis\u001b[0m \u001b[0;32mNone\u001b[0m\u001b[0;34m:\u001b[0m\u001b[0;34m\u001b[0m\u001b[0;34m\u001b[0m\u001b[0m\n\u001b[1;32m    984\u001b[0m         \u001b[0mglobal_dict\u001b[0m \u001b[0;34m=\u001b[0m \u001b[0;34m{\u001b[0m\u001b[0;34m}\u001b[0m\u001b[0;34m\u001b[0m\u001b[0;34m\u001b[0m\u001b[0m\n\u001b[0;32m--> 985\u001b[0;31m         \u001b[0mexec_\u001b[0m\u001b[0;34m(\u001b[0m\u001b[0;34m'from sympy import *'\u001b[0m\u001b[0;34m,\u001b[0m \u001b[0mglobal_dict\u001b[0m\u001b[0;34m)\u001b[0m\u001b[0;34m\u001b[0m\u001b[0;34m\u001b[0m\u001b[0m\n\u001b[0m\u001b[1;32m    986\u001b[0m     \u001b[0;32melif\u001b[0m \u001b[0;32mnot\u001b[0m \u001b[0misinstance\u001b[0m\u001b[0;34m(\u001b[0m\u001b[0mglobal_dict\u001b[0m\u001b[0;34m,\u001b[0m \u001b[0mdict\u001b[0m\u001b[0;34m)\u001b[0m\u001b[0;34m:\u001b[0m\u001b[0;34m\u001b[0m\u001b[0;34m\u001b[0m\u001b[0m\n\u001b[1;32m    987\u001b[0m         \u001b[0;32mraise\u001b[0m \u001b[0mTypeError\u001b[0m\u001b[0;34m(\u001b[0m\u001b[0;34m'expecting global_dict to be a dict'\u001b[0m\u001b[0;34m)\u001b[0m\u001b[0;34m\u001b[0m\u001b[0;34m\u001b[0m\u001b[0m\n",
      "\u001b[0;32m<string>\u001b[0m in \u001b[0;36m<module>\u001b[0;34m\u001b[0m\n",
      "\u001b[0;32m/usr/local/lib/python3.7/importlib/_bootstrap.py\u001b[0m in \u001b[0;36m_handle_fromlist\u001b[0;34m(module, fromlist, import_, recursive)\u001b[0m\n",
      "\u001b[0;32m/usr/local/lib/python3.7/importlib/_bootstrap.py\u001b[0m in \u001b[0;36m_handle_fromlist\u001b[0;34m(module, fromlist, import_, recursive)\u001b[0m\n",
      "\u001b[0;31mKeyboardInterrupt\u001b[0m: "
     ]
    }
   ],
   "source": [
    "glycolysis = load_json_model(\n",
    "    path.abspath(path.join(\n",
    "        \"data\", \"reference_models\", \"JSON\", \"Glycolysis.json\")))\n",
    "reference_model = load_json_model(\n",
    "    path.abspath(path.join(\n",
    "        \"data\", \"reference_models\", \"JSON\", \"Glycolysis_Hb.json\")))\n",
    "PYK =  load_json_model(\n",
    "    path.abspath(path.join(\n",
    "        \"data\", \"reference_models\", \"JSON\", \"PYK.json\")))"
   ]
  },
  {
   "cell_type": "markdown",
   "metadata": {},
   "source": [
    "## Generate Ensemble Data via Sampling"
   ]
  },
  {
   "cell_type": "code",
   "execution_count": null,
   "metadata": {
    "execution": {
     "iopub.execute_input": "2020-10-26T04:39:39.974072Z",
     "iopub.status.busy": "2020-10-26T04:39:39.972918Z",
     "iopub.status.idle": "2020-10-26T04:39:39.980839Z",
     "shell.execute_reply": "2020-10-26T04:39:39.981344Z"
    }
   },
   "outputs": [],
   "source": [
    "f_samples = 15\n",
    "flux_percent_deviation = 0.8\n",
    "\n",
    "c_samples = 15\n",
    "conc_percent_deviation = 0.8\n",
    "\n",
    "seed = int(4)\n",
    "print(\"Number of combinations: {}\".format(f_samples * c_samples))"
   ]
  },
  {
   "cell_type": "markdown",
   "metadata": {},
   "source": [
    "### Flux Sampling"
   ]
  },
  {
   "cell_type": "code",
   "execution_count": null,
   "metadata": {
    "execution": {
     "iopub.execute_input": "2020-10-26T04:39:39.986483Z",
     "iopub.status.busy": "2020-10-26T04:39:39.985424Z",
     "iopub.status.idle": "2020-10-26T04:39:40.372676Z",
     "shell.execute_reply": "2020-10-26T04:39:40.373391Z"
    }
   },
   "outputs": [],
   "source": [
    "for reaction in glycolysis.reactions:\n",
    "    reaction.bounds = sorted([\n",
    "        round(reaction.steady_state_flux * (1 - flux_percent_deviation),\n",
    "              mass_config.decimal_precision),\n",
    "        round(reaction.steady_state_flux * (1 + flux_percent_deviation),\n",
    "              mass_config.decimal_precision)])\n",
    "\n",
    "flux_samples = sample(glycolysis, n=f_samples, seed=seed)"
   ]
  },
  {
   "cell_type": "markdown",
   "metadata": {},
   "source": [
    "### Concentration Sampling"
   ]
  },
  {
   "cell_type": "code",
   "execution_count": null,
   "metadata": {
    "execution": {
     "iopub.execute_input": "2020-10-26T04:39:40.385572Z",
     "iopub.status.busy": "2020-10-26T04:39:40.384379Z",
     "iopub.status.idle": "2020-10-26T04:39:41.102213Z",
     "shell.execute_reply": "2020-10-26T04:39:41.101565Z"
    }
   },
   "outputs": [],
   "source": [
    "conc_solver = ConcSolver(\n",
    "    glycolysis,\n",
    "    excluded_metabolites=[\"h_c\", \"h2o_c\"],\n",
    "    equilibrium_reactions=[\"ADK1\"],\n",
    "    constraint_buffer=1e-7)\n",
    "\n",
    "conc_solver.setup_sampling_problem(\n",
    "    conc_percent_deviation=conc_percent_deviation,\n",
    "    Keq_percent_deviation=0)\n",
    "\n",
    "conc_samples = sample_concentrations(conc_solver, n=c_samples, seed=seed)"
   ]
  },
  {
   "cell_type": "markdown",
   "metadata": {},
   "source": [
    "## Create Ensemble\n",
    "### Create Models from Data"
   ]
  },
  {
   "cell_type": "code",
   "execution_count": null,
   "metadata": {
    "execution": {
     "iopub.execute_input": "2020-10-26T04:39:41.121068Z",
     "iopub.status.busy": "2020-10-26T04:39:41.119272Z",
     "iopub.status.idle": "2020-10-26T04:39:50.936260Z",
     "shell.execute_reply": "2020-10-26T04:39:50.937123Z"
    }
   },
   "outputs": [],
   "source": [
    "# Generate candidate model states\n",
    "models = generate_ensemble_of_models(\n",
    "    reference_model=reference_model,\n",
    "    flux_data=flux_samples,\n",
    "    conc_data=conc_samples)\n",
    "print(\"# candidate models: {0}\".format(len(models)))"
   ]
  },
  {
   "cell_type": "code",
   "execution_count": null,
   "metadata": {
    "execution": {
     "iopub.execute_input": "2020-10-26T04:39:50.949099Z",
     "iopub.status.busy": "2020-10-26T04:39:50.947478Z",
     "iopub.status.idle": "2020-10-26T04:41:36.136013Z",
     "shell.execute_reply": "2020-10-26T04:41:36.136743Z"
    }
   },
   "outputs": [],
   "source": [
    "# Calculate PERCs for candidate models and \n",
    "# remove those that produce negative PERCS (thermdynamically infeasible)\n",
    "models, infeasible = ensemble.ensure_positive_percs(\n",
    "    models=models, reactions=[\n",
    "        r.id for r in reference_model.reactions\n",
    "        if r not in reference_model.boundary\n",
    "        and r.id not in [\"HBO1\", \"HBO2\", \"HBO3\", \"HBO4\", \"HBDPG\"]],\n",
    "    update_values=True)\n",
    "print(\"# Infeasible, negative PERCs: {0}\".format(len(infeasible)))"
   ]
  },
  {
   "cell_type": "code",
   "execution_count": null,
   "metadata": {
    "execution": {
     "iopub.execute_input": "2020-10-26T04:41:36.141781Z",
     "iopub.status.busy": "2020-10-26T04:41:36.140637Z",
     "iopub.status.idle": "2020-10-26T04:45:41.532625Z",
     "shell.execute_reply": "2020-10-26T04:45:41.533434Z"
    }
   },
   "outputs": [],
   "source": [
    "# Ensure model can simulate to steady state\n",
    "models, infeasible = ensemble.ensure_steady_state(\n",
    "    models=models, strategy=\"simulate\",\n",
    "    update_values=True, decimal_precision=True,\n",
    "    tfinal=1e5, solver_options={\n",
    "        \"absolute_tolerance\": 1e-15, \n",
    "        \"relative_tolerance\": 1e-9})\n",
    "print(\"# Infeasible, no steady state found: {0}\".format(len(infeasible)))"
   ]
  },
  {
   "cell_type": "code",
   "execution_count": null,
   "metadata": {
    "execution": {
     "iopub.execute_input": "2020-10-26T04:45:41.539179Z",
     "iopub.status.busy": "2020-10-26T04:45:41.538144Z",
     "iopub.status.idle": "2020-10-26T04:49:02.985093Z",
     "shell.execute_reply": "2020-10-26T04:49:02.986057Z"
    }
   },
   "outputs": [],
   "source": [
    "# Ensure model can simulate to steady state with ATP disturbance\n",
    "models, infeasible = ensemble.ensure_steady_state(\n",
    "    models=models, strategy=\"simulate\",\n",
    "    perturbations={\"kf_ATPM\": \"kf_ATPM * 1.5\"},\n",
    "    update_values=False, decimal_precision=True,\n",
    "    tfinal=1e5, solver_options={\n",
    "        \"absolute_tolerance\": 1e-15, \n",
    "        \"relative_tolerance\": 1e-9})\n",
    "print(\"# Infeasible, disturbance not rejected: {0}\".format(len(infeasible)))"
   ]
  },
  {
   "cell_type": "markdown",
   "metadata": {},
   "source": [
    "### Create PYK EnzymeModules for Models\n",
    "#### Determine steady state concentrations symbolically"
   ]
  },
  {
   "cell_type": "code",
   "execution_count": null,
   "metadata": {
    "execution": {
     "iopub.execute_input": "2020-10-26T04:49:02.996909Z",
     "iopub.status.busy": "2020-10-26T04:49:02.989235Z",
     "iopub.status.idle": "2020-10-26T04:50:36.334904Z",
     "shell.execute_reply": "2020-10-26T04:50:36.335743Z"
    }
   },
   "outputs": [],
   "source": [
    "# Get dict of ODEs for enzyme forms\n",
    "ode_dict = {\n",
    "    sym.Symbol(e_mod_form.id): sym.Eq(strip_time(e_mod_form.ode), 0)\n",
    "    for e_mod_form in PYK.enzyme_module_forms}\n",
    "# Get enzyme module forms\n",
    "enzyme_module_forms = PYK.enzyme_module_forms.copy()\n",
    "# Reverse list for increased performance (due to symmetry assumption)\n",
    "# by solving for the most activated/inhibitors bound first.\n",
    "enzyme_module_forms.reverse()\n",
    "\n",
    "enzyme_solutions = {}\n",
    "for enzyme_module_form in enzyme_module_forms:\n",
    "    # Skip dependent variable\n",
    "    if \"pyk_R0_c\" == str(enzyme_module_form):\n",
    "        continue\n",
    "    enzyme_module_form = sym.Symbol(enzyme_module_form.id)\n",
    "    # Susbtitute in previous solutions, solve for the enzyme module form\n",
    "    equation = ode_dict[enzyme_module_form]\n",
    "    sol = sym.solveset(equation.subs(enzyme_solutions),\n",
    "                       enzyme_module_form)\n",
    "    enzyme_solutions[enzyme_module_form] = list(sol)[0]\n",
    "    # Update the dictionary of solutions with the solutions\n",
    "    enzyme_solutions.update({\n",
    "        enzyme_module_form: sol.subs(enzyme_solutions) \n",
    "        for enzyme_module_form, sol in enzyme_solutions.items()})\n",
    "    \n",
    "# Solve for last unknown concentration symbolically\n",
    "enzyme_rate_equation_error = strip_time(PYK.enzyme_rate_error())\n",
    "sol = sym.solveset(enzyme_rate_equation_error.subs(enzyme_solutions),\n",
    "                   \"pyk_R0_c\")\n",
    "# Update solution dictionary with the new solution\n",
    "enzyme_solutions[sym.Symbol(\"pyk_R0_c\")] = list(sol)[0]\n",
    "\n",
    "# Update solutions with free variable solutions\n",
    "enzyme_solutions = {\n",
    "    enzyme_module_form: sym.simplify(solution.subs(enzyme_solutions))\n",
    "    for enzyme_module_form, solution in enzyme_solutions.items()}"
   ]
  },
  {
   "cell_type": "markdown",
   "metadata": {},
   "source": [
    "#### Determine PYK rate parameters, steady state concentrations, and add to model"
   ]
  },
  {
   "cell_type": "code",
   "execution_count": null,
   "metadata": {
    "execution": {
     "iopub.execute_input": "2020-10-26T04:50:36.348377Z",
     "iopub.status.busy": "2020-10-26T04:50:36.347450Z",
     "iopub.status.idle": "2020-10-26T05:38:15.836552Z",
     "shell.execute_reply": "2020-10-26T05:38:15.837056Z"
    }
   },
   "outputs": [],
   "source": [
    "def get_numerical_values(model):\n",
    "    \"\"\"Return a dict of numerical values to substutite into equations.\"\"\"\n",
    "    # Get equilibrium constants\n",
    "    numerical_values = {\n",
    "        PYK.reactions.PYK_L.Keq_str: PYK.reactions.PYK_L.Keq}\n",
    "    numerical_values.update({\n",
    "        param: value for param, value in PYK.custom_parameters.items()\n",
    "        if param.startswith(\"Keq\")})\n",
    "\n",
    "    # Get initial conditions\n",
    "    numerical_values.update({\n",
    "        met.id: met.ic\n",
    "        for met in model.metabolites.get_by_any(\n",
    "            PYK.enzyme_module_ligands.list_attr(\"id\"))})\n",
    "    rxn = model.reactions.get_by_id(\"PYK\")\n",
    "    # Get steady state flux of enzyme\n",
    "    numerical_values.update({\n",
    "        PYK.enzyme_flux_symbol_str: rxn.steady_state_flux\n",
    "    })\n",
    "    return numerical_values\n",
    "\n",
    "def get_total_constraint(enzyme_sols):\n",
    "    \"\"\"Return the total enzyme constraint in terms of rate constants.\"\"\"\n",
    "    # Get constraint\n",
    "    enzyme_total_constraint = abs(strip_time(\n",
    "        PYK.enzyme_concentration_total_error(use_values=False)))\n",
    "    # Substitute values into constraint and simplify\n",
    "    enzyme_total_constraint = enzyme_total_constraint.subs({\n",
    "        PYK.enzyme_total_symbol_str: PYK.enzyme_concentration_total})\n",
    "    enzyme_total_constraint = sym.simplify(\n",
    "        enzyme_total_constraint.subs(enzyme_sols))\n",
    "        \n",
    "    return enzyme_total_constraint\n",
    "\n",
    "def copy_module_and_add_numerical_values(model, numerical_values):\n",
    "    \"\"\"Copy the non-parameterized PYK enzyme and set numerical values.\"\"\"\n",
    "    PYK_new = PYK.copy()\n",
    "    for met in PYK.metabolites:\n",
    "        met.ic = numerical_values.pop(met.id)\n",
    "    del numerical_values[\"v_PYK\"]\n",
    "    PYK_new.update_parameters(numerical_values)\n",
    "    \n",
    "    return PYK_new\n",
    "\n",
    "def create_PYK_module(model, enzyme_sols=None):\n",
    "    \"\"\"Create PYK module using the given model for numerical values.\"\"\"\n",
    "    # Get numerical values from the model\n",
    "    numerical_values = get_numerical_values(model)\n",
    "    # Sub values into equations for enzyme forms\n",
    "    enzyme_sols = {\n",
    "        enzyme_module_form: sym.simplify(solution.subs(numerical_values))\n",
    "        for enzyme_module_form, solution in enzyme_sols.items()}\n",
    "    # Get arguments, should only be 3 ratge constants\n",
    "    args = set()\n",
    "    for sol in enzyme_sols.values():\n",
    "        args.update(sol.atoms(sym.Symbol))\n",
    "    assert len(args) == 3\n",
    "    # Get enzyme total constraint and substitute values\n",
    "    enzyme_total_constraint = get_total_constraint(enzyme_sols)\n",
    "\n",
    "    # Create a sorted tuple of the arguments\n",
    "    args = tuple(sorted([str(arg) for arg in list(args)]))\n",
    "    # Create the objective function as a lambda function\n",
    "    obj_func = lambda x: sym.lambdify(args, enzyme_total_constraint)(*x)\n",
    "\n",
    "    # Find a feasible solution\n",
    "    initial_guess = [6e3, 4e6, 4e6]\n",
    "    (kf_lb, kf_ub) = (1e0, 1e9)\n",
    "    kf_bounds = ((kf_lb, kf_ub), (kf_lb, kf_ub), (kf_lb, kf_ub))\n",
    "    with warnings.catch_warnings():\n",
    "        warnings.simplefilter(\"ignore\")\n",
    "        sol = optimize.minimize(\n",
    "            obj_func, x0=initial_guess, method=\"trust-constr\",\n",
    "            bounds=kf_bounds,\n",
    "            options={\"gtol\": 1e-12, \"xtol\": 1e-12,\n",
    "                     \"maxiter\": 1e4, \"disp\": False})\n",
    "    # Could not find a solution, no module constructed\n",
    "    if not sol.success:\n",
    "        return None\n",
    "\n",
    "    # Update the paramter values dict with the feasible solution\n",
    "    numerical_values.update(\n",
    "        dict(zip(args, [round(x) for x in sol.x])))\n",
    "\n",
    "    # Add the activation, inhibition, and allosteric rate constants\n",
    "    for abbrev, value in zip([\"I\", \"ACT\", \"L\"], [1e6, 1e6, 1e6**2]):\n",
    "        # Account for the enzyme prefix\n",
    "        to_join = (\"kf\", PYK.id, abbrev)\n",
    "        param = \"_\".join(to_join)\n",
    "        numerical_values.update({param: value})\n",
    "\n",
    "    # Substitute values into equations\n",
    "    numerical_values.update({\n",
    "        str(e_form): float(sym.simplify(solution.subs(numerical_values)))\n",
    "        for e_form, solution in enzyme_sols.items()})\n",
    "    \n",
    "    PYK_new = copy_module_and_add_numerical_values(\n",
    "        model, numerical_values)\n",
    "    \n",
    "    return PYK_new\n",
    "\n",
    "# Create modules and add to models\n",
    "models_wo_PYK = []\n",
    "models_w_PYK = []\n",
    "for i, model in enumerate(models):\n",
    "    if i % int(len(models) * 0.1) == 0:\n",
    "        print(\"About {0} percent finished\".format(\n",
    "            int(i/int(len(models) * 0.1))*10))\n",
    "    PYK_new = create_PYK_module(model, enzyme_sols=enzyme_solutions)\n",
    "    if PYK_new is None:\n",
    "        models_wo_PYK += [model]\n",
    "    else:\n",
    "        model = model.merge(PYK_new, inplace=False)\n",
    "        model.remove_reactions([model.reactions.get_by_id(\"PYK\")])\n",
    "        models_w_PYK += [model]\n",
    "        model.id = \"_\".join((\n",
    "            reference_model.id, PYK_new.id, \n",
    "            model.id[len(reference_model.id) + 1:-4]))\n",
    "\n",
    "with warnings.catch_warnings():\n",
    "    warnings.simplefilter(\"ignore\")\n",
    "    print(\"Running simulations for SS\")\n",
    "    found_ss, no_ss = ensemble.ensure_steady_state(\n",
    "        models_w_PYK, strategy=\"simulate\",\n",
    "        update_values=True,\n",
    "        tfinal=1e5, solver_options={\n",
    "            \"absolute_tolerance\": 1e-15, \n",
    "            \"relative_tolerance\": 1e-9})\n",
    "    print(\"Running simulations for SS w/ perturbation\")\n",
    "    ensemble_of_models, no_ss_w_pert = ensemble.ensure_steady_state(\n",
    "        found_ss, strategy=\"simulate\",\n",
    "        perturbations={\"kf_ATPM\": \"kf_ATPM * 1.5\"},\n",
    "        update_values=False,\n",
    "        tfinal=1e5, solver_options={\n",
    "            \"absolute_tolerance\": 1e-15, \n",
    "            \"relative_tolerance\": 1e-9})\n",
    "\n",
    "print(\"Models with PYK, found SS w/ perturbation: {0}\".format(\n",
    "    len(ensemble_of_models)))\n",
    "print(\"Models with PYK, no SS w/ perturbation: {0}\".format(\n",
    "    len(no_ss_w_pert)))\n",
    "print(\"Models with PYK, no SS: {0}\".format(\n",
    "    len(no_ss)))\n",
    "print(\"Models without PYK: {0}\".format(\n",
    "    len(models_wo_PYK)))"
   ]
  },
  {
   "cell_type": "markdown",
   "metadata": {},
   "source": [
    "## Export Models"
   ]
  },
  {
   "cell_type": "code",
   "execution_count": null,
   "metadata": {
    "execution": {
     "iopub.execute_input": "2020-10-26T05:38:15.865528Z",
     "iopub.status.busy": "2020-10-26T05:38:15.855213Z",
     "iopub.status.idle": "2020-10-26T05:45:33.529932Z",
     "shell.execute_reply": "2020-10-26T05:45:33.529222Z"
    },
    "scrolled": false
   },
   "outputs": [],
   "source": [
    "for model in ensemble_of_models:\n",
    "    # Export model as JSON\n",
    "    save_json_model(\n",
    "        mass_model=model, \n",
    "        filename=path.abspath(\n",
    "            path.join(\"data\", \"ensemble_models\", \"JSON\", model.id  + \".json\")))\n",
    "    # Export model as SBML\n",
    "    write_sbml_model(\n",
    "        mass_model=model,\n",
    "        filename=path.abspath(\n",
    "            path.join(\"data\", \"ensemble_models\", \"SBML\", model.id  + \".xml.zip\")))\n",
    "# Export value tables\n",
    "export_csv_files_for_models(ensemble_of_models, \"for_ensemble_generation_notebook\")"
   ]
  }
 ],
 "metadata": {
  "kernelspec": {
   "display_name": "Python 3",
   "language": "python",
   "name": "python3"
  },
  "language_info": {
   "codemirror_mode": {
    "name": "ipython",
    "version": 3
   },
   "file_extension": ".py",
   "mimetype": "text/x-python",
   "name": "python",
   "nbconvert_exporter": "python",
   "pygments_lexer": "ipython3",
   "version": "3.7.9"
  }
 },
 "nbformat": 4,
 "nbformat_minor": 2
}
