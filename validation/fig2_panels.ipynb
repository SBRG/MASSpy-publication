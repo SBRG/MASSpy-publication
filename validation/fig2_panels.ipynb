{
 "cells": [
  {
   "cell_type": "markdown",
   "metadata": {},
   "source": [
    "# Enzyme Module Figures"
   ]
  },
  {
   "cell_type": "code",
   "execution_count": null,
   "metadata": {
    "execution": {
     "iopub.execute_input": "2020-10-24T16:56:57.821534Z",
     "iopub.status.busy": "2020-10-24T16:56:57.819828Z",
     "iopub.status.idle": "2020-10-24T16:57:00.118612Z",
     "shell.execute_reply": "2020-10-24T16:57:00.119073Z"
    }
   },
   "outputs": [],
   "source": [
    "from os import path\n",
    "\n",
    "import escher\n",
    "\n",
    "import matplotlib as mpl\n",
    "import matplotlib.pyplot as plt\n",
    "\n",
    "import numpy as np\n",
    "\n",
    "import pandas as pd\n",
    "\n",
    "import sympy as sym\n",
    "\n",
    "import mass\n",
    "from mass import MassConfiguration, Simulation\n",
    "from mass.io import json\n",
    "from mass.util import strip_time\n",
    "from mass.visualization import plot_time_profile, plot_phase_portrait\n",
    "\n",
    "mass_config = MassConfiguration()\n",
    "mass_config.decimal_precision = 12\n",
    "\n",
    "escher.rc['never_ask_before_quit'] = True\n",
    "mpl.rcsetup.defaultParams[\"font.family\"] = \"arial\"\n",
    "print(\"MASSpy version: \" + mass.__version__)"
   ]
  },
  {
   "cell_type": "code",
   "execution_count": null,
   "metadata": {
    "execution": {
     "iopub.execute_input": "2020-10-24T16:57:00.122464Z",
     "iopub.status.busy": "2020-10-24T16:57:00.121825Z",
     "iopub.status.idle": "2020-10-24T16:57:00.363023Z",
     "shell.execute_reply": "2020-10-24T16:57:00.363536Z"
    }
   },
   "outputs": [],
   "source": [
    "model = json.load_json_model(\n",
    "    path.abspath(path.join(\"data\", \"models\", \"JSON\", \"Glycolysis_Hb.json\")))\n",
    "\n",
    "model_w_PYK = json.load_json_model(\n",
    "    path.abspath(path.join(\"data\", \"models\", \"JSON\", \"Glycolysis_Hb_PYK.json\")))\n",
    "\n",
    "r_scale_preset=\"GaBuRd\",\n",
    "m_scale_preset=\"WhYlRd\"\n",
    "\n",
    "# Function to save a figure\n",
    "def save_figure(filename):\n",
    "    plt.gca().get_figure()\n",
    "    filepath = path.abspath(path.join(\"data\", \"figures\", filename))\n",
    "    plt.savefig(fname=filepath)"
   ]
  },
  {
   "cell_type": "markdown",
   "metadata": {},
   "source": [
    "## Network Views of Steady State\n",
    "### Load model without PYK EnzymeModule"
   ]
  },
  {
   "cell_type": "code",
   "execution_count": null,
   "metadata": {
    "execution": {
     "iopub.execute_input": "2020-10-24T16:57:00.367122Z",
     "iopub.status.busy": "2020-10-24T16:57:00.366524Z",
     "iopub.status.idle": "2020-10-24T16:57:02.345794Z",
     "shell.execute_reply": "2020-10-24T16:57:02.344836Z"
    },
    "scrolled": false
   },
   "outputs": [],
   "source": [
    "sim_glyc_hb = Simulation(model, verbose=True)\n",
    "conc_sol_ss, flux_sol_ss = sim_glyc_hb.find_steady_state(\n",
    "    model, strategy=\"simulate\", update_values=True,\n",
    "    tfinal=1e5, decimal_precision=True);\n",
    "\n",
    "builder = escher.Builder(\n",
    "    model=model,\n",
    "    map_json=path.abspath(path.join(\"data\", \"maps\", \"RBC.glycolysis.map.json\")),\n",
    "    reaction_data=dict(flux_sol_ss),\n",
    "    metabolite_data=dict(conc_sol_ss),\n",
    "    reaction_styles=[\"color\", \"text\"],\n",
    "    metabolite_styles=[\"color\", \"text\"],\n",
    "    reaction_scale_preset=r_scale_preset,\n",
    "    metabolite_scale_preset=m_scale_preset,\n",
    ")\n"
   ]
  },
  {
   "cell_type": "markdown",
   "metadata": {},
   "source": [
    "# Load model with PYK EnzymeModule"
   ]
  },
  {
   "cell_type": "code",
   "execution_count": null,
   "metadata": {
    "execution": {
     "iopub.execute_input": "2020-10-24T16:57:02.360194Z",
     "iopub.status.busy": "2020-10-24T16:57:02.354567Z",
     "iopub.status.idle": "2020-10-24T16:57:05.726421Z",
     "shell.execute_reply": "2020-10-24T16:57:05.725749Z"
    }
   },
   "outputs": [],
   "source": [
    "sim_glyc_hb_PYK = Simulation(model_w_PYK, verbose=True)\n",
    "conc_sol_ss, flux_sol_ss = sim_glyc_hb_PYK.find_steady_state(\n",
    "    model_w_PYK, strategy=\"simulate\", update_values=True,\n",
    "    tfinal=1e5, decimal_precision=True);\n",
    "\n",
    "builder = escher.Builder(\n",
    "    model=model_w_PYK,\n",
    "    map_json=path.join(\"data\", \"maps\", \"RBC.glycolysis_PYK.map.json\"),\n",
    "    reaction_data=dict(flux_sol_ss),\n",
    "    metabolite_data=dict(conc_sol_ss),\n",
    "    reaction_styles=[\"color\", \"text\"],\n",
    "    metabolite_styles=[\"color\", \"text\"],\n",
    "    reaction_scale_preset=r_scale_preset,\n",
    "    metabolite_scale_preset=m_scale_preset,\n",
    ")\n",
    "builder"
   ]
  },
  {
   "cell_type": "markdown",
   "metadata": {},
   "source": [
    "## Network Views of Perturbation: ATP Utilization Increase by 50%\n",
    "### Model without PYK EnzymeModule"
   ]
  },
  {
   "cell_type": "code",
   "execution_count": null,
   "metadata": {
    "execution": {
     "iopub.execute_input": "2020-10-24T16:57:05.736636Z",
     "iopub.status.busy": "2020-10-24T16:57:05.736032Z",
     "iopub.status.idle": "2020-10-24T16:57:05.912878Z",
     "shell.execute_reply": "2020-10-24T16:57:05.913365Z"
    }
   },
   "outputs": [],
   "source": [
    "t0, tf = (0, 1e4)\n",
    "conc_sol, flux_sol = sim_glyc_hb.simulate(\n",
    "    sim_glyc_hb.reference_model, time=(t0, tf), \n",
    "    perturbations={\"kf_ATPM\": \"kf_ATPM * 1.5\"},\n",
    "    decimal_precision=True)\n",
    "\n",
    "builder = escher.Builder(\n",
    "    model=model,\n",
    "    map_json=path.abspath(path.join(\"data\", \"maps\", \"RBC.glycolysis.map.json\")),\n",
    "    reaction_data={r: sol[-1] for r, sol in flux_sol.items()},\n",
    "    metabolite_data={m: sol[-1] for m, sol in conc_sol.items()},\n",
    "    reaction_styles=[\"color\", \"text\"],\n",
    "    metabolite_styles=[\"color\", \"text\"],\n",
    "    reaction_scale_preset=r_scale_preset,\n",
    "    metabolite_scale_preset=m_scale_preset,\n",
    ")\n",
    "builder.save_html(path.abspath(path.join(\"data\", \"figures\", \"RBC.glycolysis.map.perturbed.html\")))\n",
    "builder"
   ]
  },
  {
   "cell_type": "markdown",
   "metadata": {},
   "source": [
    "### Model with PYK EnzymeModule"
   ]
  },
  {
   "cell_type": "code",
   "execution_count": null,
   "metadata": {
    "execution": {
     "iopub.execute_input": "2020-10-24T16:57:05.923867Z",
     "iopub.status.busy": "2020-10-24T16:57:05.923207Z",
     "iopub.status.idle": "2020-10-24T16:57:06.389953Z",
     "shell.execute_reply": "2020-10-24T16:57:06.389356Z"
    }
   },
   "outputs": [],
   "source": [
    "t0, tf = (0, 1e4)\n",
    "conc_sol, flux_sol = sim_glyc_hb_PYK.simulate(\n",
    "    sim_glyc_hb_PYK.reference_model, time=(t0, tf), \n",
    "    perturbations={\"kf_ATPM\": \"kf_ATPM * 1.5\"},\n",
    "    decimal_precision=True)\n",
    "\n",
    "builder = escher.Builder(\n",
    "    model=model_w_PYK,\n",
    "    map_json=path.abspath(path.join(\"data\", \"maps\", \"RBC.glycolysis_PYK.map.json\")),\n",
    "    reaction_data={r: sol[-1] for r, sol in flux_sol.items()},\n",
    "    metabolite_data={m: sol[-1] for m, sol in conc_sol.items()},\n",
    "    reaction_styles=[\"color\", \"text\"],\n",
    "    metabolite_styles=[\"color\", \"text\"],\n",
    "    reaction_scale_preset=r_scale_preset,\n",
    "    metabolite_scale_preset=m_scale_preset,\n",
    ")\n",
    "builder.save_html(path.abspath(path.join(\"data\", \"figures\", \"RBC.glycolysis_PYK.map.perturbed.html\")))\n",
    "builder"
   ]
  },
  {
   "cell_type": "code",
   "execution_count": null,
   "metadata": {
    "execution": {
     "iopub.execute_input": "2020-10-24T16:57:06.404503Z",
     "iopub.status.busy": "2020-10-24T16:57:06.398946Z",
     "iopub.status.idle": "2020-10-24T16:57:07.694294Z",
     "shell.execute_reply": "2020-10-24T16:57:07.694762Z"
    }
   },
   "outputs": [],
   "source": [
    "fig, ax = plt.subplots(nrows=1, ncols=1, figsize=(7, 7))\n",
    "\n",
    "ax_inset = ax.inset_axes([0.1, 0.68, 0.43, 0.25])\n",
    "\n",
    "PYK = model_w_PYK.enzyme_modules.PYK\n",
    "\n",
    "# Define helper functions to make aggregate solutions\n",
    "def make_energy_charge_solution(conc_sol):\n",
    "    conc_sol.make_aggregate_solution(\n",
    "        aggregate_id=\"energy_charge\",\n",
    "        equation=\"(atp_c + 0.5 * adp_c) / (atp_c + adp_c + amp_c)\",\n",
    "        variables=[\"atp_c\", \"adp_c\", \"amp_c\"], update=True)\n",
    "\n",
    "def make_active_fraction_solution(conc_sol):\n",
    "    active = PYK.enzyme_module_forms_categorized.get_by_id(\n",
    "        PYK.id + \"_Active\")\n",
    "    conc_sol.make_aggregate_solution(\n",
    "        aggregate_id=\"active_fraction\",\n",
    "        equation=\"({0}) / ({1})\".format(\n",
    "            \" + \".join([e.id for e in active.members]),\n",
    "             str(strip_time(PYK.enzyme_concentration_total_equation))),\n",
    "        variables=PYK.enzyme_module_forms, update=True)\n",
    "    \n",
    "make_energy_charge_solution(conc_sol)\n",
    "make_active_fraction_solution(conc_sol)\n",
    "\n",
    "time_points = [t0, 1e-1, 1e0, 1e1, 1e2, 1e3]\n",
    "time_point_colors = [\n",
    "    mpl.colors.to_hex(c)\n",
    "    for c in mpl.cm.Reds(np.linspace(0.3, 1, len(time_points)))]\n",
    "\n",
    "# Make phase portrait\n",
    "plot_phase_portrait(\n",
    "    conc_sol, x=\"energy_charge\", y=\"active_fraction\",\n",
    "    ax=ax, legend=None,\n",
    "    xlabel=(\"Energy Charge (E.C.)\", {\"size\": \"large\"}),\n",
    "    ylabel=(\"PYK Active Fraction ($f_{A}$)\", {\"size\": \"large\"}),\n",
    "    title=(\"Catalytic Potential of PYK\", {\"size\": \"x-large\"}),\n",
    "    linestyle=\"--\", color=\"blue\",\n",
    "    annotate_time_points=time_points,\n",
    "    annotate_time_points_color=time_point_colors,\n",
    "    annotate_time_points_legend=\"lower right\")\n",
    "\n",
    "plot_time_profile(\n",
    "    conc_sol, observable=[\"energy_charge\", \"active_fraction\"],\n",
    "    ax=ax_inset,\n",
    "    plot_function=\"semilogx\",\n",
    "    color=[\"green\", \"purple\"], linestyle=[\"-\"],\n",
    "    xlabel=\"Time (hrs)\", ylabel=\"Ratios\", \n",
    "    xlim=(1e-3, 1e3), legend_ncol=1,\n",
    "    annotate_time_points=time_points,\n",
    "    annotate_time_points_color=time_point_colors,\n",
    "    annotate_time_points_markersize=5)\n",
    "\n",
    "handles, labels = ax_inset.get_legend_handles_labels()\n",
    "ax_inset.legend(handles[:2], [\"E.C.\", \"$f_{A}$\"], loc=\"lower center\",\n",
    "                bbox_to_anchor=(0.5, 1), ncol=2,\n",
    "                prop={'size': 9})\n",
    "ax_inset.set_xticks([1e-3, 1, 1e3])\n",
    "ax_inset.set_yticks([0, 0.5, 1])\n",
    "\n",
    "fig.tight_layout()\n",
    "save_figure(\"MASSpy-Pub-Fig2_PanelB.pdf\")"
   ]
  },
  {
   "cell_type": "code",
   "execution_count": null,
   "metadata": {
    "execution": {
     "iopub.execute_input": "2020-10-24T16:57:07.698189Z",
     "iopub.status.busy": "2020-10-24T16:57:07.697540Z",
     "iopub.status.idle": "2020-10-24T16:57:09.716708Z",
     "shell.execute_reply": "2020-10-24T16:57:09.717245Z"
    },
    "scrolled": false
   },
   "outputs": [],
   "source": [
    "fig, (ax1, ax2) = plt.subplots(nrows=2, ncols=1, figsize=(8, 9))\n",
    "\n",
    "plot_time_profile(\n",
    "    conc_sol, observable=PYK.enzyme_module_forms,\n",
    "    ax=ax1, # legend=\"right outside\",\n",
    "    plot_function=\"loglog\", xlim=(1e-4, tf),\n",
    "    ylabel=(\"Concentrations (mM)\", {\"size\": \"large\"}),\n",
    "    title=(\"PYK Enzyme Forms\", {\"size\": \"x-large\"}))\n",
    "\n",
    "plot_time_profile(\n",
    "    flux_sol, observable=PYK.enzyme_module_reactions,\n",
    "    ax=ax2, # legend=\"right outside\",\n",
    "    plot_function=\"semilogx\", xlim=(1e-4, tf), ylim=(-1e-1, 1e0),\n",
    "    xlabel=(\"Time (hrs)\", {\"size\": \"large\",}),\n",
    "    ylabel=(\"Fluxes (mM/hr)\", {\"size\": \"large\"}),\n",
    "    title=(\"PYK Enzyme Reactions\", {\"size\": \"x-large\"}))\n",
    "\n",
    "fig.tight_layout()\n",
    "save_figure(\"MASSpy-Pub-Fig2_PanelC.pdf\")"
   ]
  }
 ],
 "metadata": {
  "kernelspec": {
   "display_name": "Python 3",
   "language": "python",
   "name": "python3"
  },
  "language_info": {
   "codemirror_mode": {
    "name": "ipython",
    "version": 3
   },
   "file_extension": ".py",
   "mimetype": "text/x-python",
   "name": "python",
   "nbconvert_exporter": "python",
   "pygments_lexer": "ipython3",
   "version": "3.7.9"
  }
 },
 "nbformat": 4,
 "nbformat_minor": 2
}
