{
 "cells": [
  {
   "cell_type": "markdown",
   "metadata": {},
   "source": [
    "# Pyruvate Kinase (PYK)\n",
    "\n",
    "Based on “Network-Level Allosteric Effects Are Elucidated by Detailing How Ligand-Binding Events Modulate Utilization of Catalytic Potentials.\"\n",
    "\n",
    "__URL:__ https://doi.org/10.1371/journal.pcbi.1006356\n",
    "\n",
    "For the construction of the PFK `EnzymeModule`, the following assumptions were made:\n",
    "\n",
    "1. The enzyme is a homotetramer.\n",
    "2. The enzyme binding and catalyzation of substrates occurs in a random sequential mechanism.\n",
    "3. The mechanism of allosteric regulation is based on the Monod-Wyman-Changeux (MWC) model for allosteric transitions of homoproteins.\n",
    "\n",
    "\\\\(\\text{[PYK]}_{total} = 69 nM = 0.069 \\mu M = 0.000069 mM\\\\).\n",
    "\n",
    "Based on “Network-Level Allosteric Effects Are Elucidated by Detailing How Ligand-Binding Events Modulate Utilization of Catalytic Potentials.\"\n",
    "\n",
    "__URL:__ https://doi.org/10.1371/journal.pcbi.1006356"
   ]
  },
  {
   "cell_type": "code",
   "execution_count": null,
   "metadata": {
    "execution": {
     "iopub.execute_input": "2020-10-24T16:52:48.519399Z",
     "iopub.status.busy": "2020-10-24T16:52:48.518506Z",
     "iopub.status.idle": "2020-10-24T16:52:50.629759Z",
     "shell.execute_reply": "2020-10-24T16:52:50.630219Z"
    }
   },
   "outputs": [],
   "source": [
    "from operator import attrgetter\n",
    "from os import path\n",
    "\n",
    "from cobra import DictList\n",
    "\n",
    "import matplotlib.pyplot as plt\n",
    "\n",
    "from scipy import optimize\n",
    "\n",
    "import sympy as sym\n",
    "\n",
    "import mass\n",
    "from mass import MassMetabolite, Simulation, UnitDefinition\n",
    "from mass.enzyme_modules import EnzymeModule\n",
    "from mass.io import json, sbml\n",
    "from mass.util import Keq2k, k2Keq, strip_time, qcqa_model\n",
    "\n",
    "print(\"MASSpy version: \" + mass.__version__)"
   ]
  },
  {
   "cell_type": "markdown",
   "metadata": {},
   "source": [
    "## Load Models"
   ]
  },
  {
   "cell_type": "code",
   "execution_count": null,
   "metadata": {
    "execution": {
     "iopub.execute_input": "2020-10-24T16:52:50.633649Z",
     "iopub.status.busy": "2020-10-24T16:52:50.633025Z",
     "iopub.status.idle": "2020-10-24T16:52:50.660063Z",
     "shell.execute_reply": "2020-10-24T16:52:50.660568Z"
    }
   },
   "outputs": [],
   "source": [
    "glycolysis = json.load_json_model(\n",
    "    filename=path.abspath(path.join(\"data\", \"models\", \"JSON\", \"Glycolysis.json\")))"
   ]
  },
  {
   "cell_type": "markdown",
   "metadata": {},
   "source": [
    "## Module Construction"
   ]
  },
  {
   "cell_type": "code",
   "execution_count": null,
   "metadata": {
    "execution": {
     "iopub.execute_input": "2020-10-24T16:52:50.664020Z",
     "iopub.status.busy": "2020-10-24T16:52:50.663422Z",
     "iopub.status.idle": "2020-10-24T16:52:50.672000Z",
     "shell.execute_reply": "2020-10-24T16:52:50.672527Z"
    }
   },
   "outputs": [],
   "source": [
    "PYK = EnzymeModule(\"PYK\", name=\"Pyruvate Kinase\",\n",
    "                   subsystem=\"Glycolysis\")"
   ]
  },
  {
   "cell_type": "markdown",
   "metadata": {},
   "source": [
    "### Metabolites\n",
    "#### Ligands"
   ]
  },
  {
   "cell_type": "code",
   "execution_count": null,
   "metadata": {
    "execution": {
     "iopub.execute_input": "2020-10-24T16:52:50.685403Z",
     "iopub.status.busy": "2020-10-24T16:52:50.681740Z",
     "iopub.status.idle": "2020-10-24T16:52:50.689084Z",
     "shell.execute_reply": "2020-10-24T16:52:50.689575Z"
    }
   },
   "outputs": [],
   "source": [
    "pep_c = MassMetabolite(\n",
    "    \"pep_c\",\n",
    "    name=\"Phosphoenolpyruvate\",\n",
    "    formula=\"C3H2O6P\",\n",
    "    charge=-3,\n",
    "    compartment=\"c\")\n",
    "pyr_c = MassMetabolite(\n",
    "    \"pyr_c\",\n",
    "    name=\"Pyruvate\",\n",
    "    formula=\"C3H3O3\",\n",
    "    charge=-1,\n",
    "    compartment=\"c\")\n",
    "fdp_c = MassMetabolite(\n",
    "    \"fdp_c\",\n",
    "    name=\"D-Fructose 1,6-bisphosphate\",\n",
    "    formula=\"C6H10O12P2\",\n",
    "    charge=-4,\n",
    "    compartment=\"c\")\n",
    "atp_c = MassMetabolite(\n",
    "    \"atp_c\",\n",
    "    name=\"ATP\",\n",
    "    formula=\"C10H12N5O13P3\",\n",
    "    charge=-4,\n",
    "    compartment=\"c\")\n",
    "adp_c = MassMetabolite(\n",
    "    \"adp_c\",\n",
    "    name=\"ADP\",\n",
    "    formula=\"C10H12N5O10P2\",\n",
    "    charge=-3,\n",
    "    compartment=\"c\")\n",
    "h_c = MassMetabolite(\n",
    "    \"h_c\",\n",
    "    name=\"H+\",\n",
    "    formula=\"H\",\n",
    "    charge=1,\n",
    "    compartment=\"c\")\n",
    "\n",
    "PYK.add_metabolites([pep_c, adp_c, fdp_c, atp_c, pyr_c, h_c])\n",
    "\n",
    "PYK.enzyme_module_ligands_categorized =  {\n",
    "    \"substrates\": pep_c,\n",
    "    \"cofactors\": [adp_c, h_c],\n",
    "    \"activators\": [fdp_c],\n",
    "    \"inhibitors\": atp_c,\n",
    "    \"products\": [pyr_c, atp_c]}\n",
    "\n",
    "# Access categorized attribute for ligands and print\n",
    "for group in PYK.enzyme_module_ligands_categorized:\n",
    "    print(\"{0}: {1}\".format(\n",
    "        group.id, str(sorted([m.id for m in group.members]))))"
   ]
  },
  {
   "cell_type": "markdown",
   "metadata": {},
   "source": [
    "#### EnzymeModuleForms"
   ]
  },
  {
   "cell_type": "code",
   "execution_count": null,
   "metadata": {
    "execution": {
     "iopub.execute_input": "2020-10-24T16:52:50.707223Z",
     "iopub.status.busy": "2020-10-24T16:52:50.704443Z",
     "iopub.status.idle": "2020-10-24T16:52:50.712144Z",
     "shell.execute_reply": "2020-10-24T16:52:50.712648Z"
    }
   },
   "outputs": [],
   "source": [
    "# Number of identical subunits\n",
    "n_subunits = 4\n",
    "\n",
    "for i in range(n_subunits + 1):\n",
    "    # Make enzyme module forms per number of bound activators (Up to 4 Total)\n",
    "    PYK.make_enzyme_module_form(\n",
    "        \"pyk_R{0:d}_c\".format(i), \n",
    "        name=\"Automatic\", \n",
    "        categories=\"Active\", \n",
    "        bound_metabolites={fdp_c: i},\n",
    "        compartment=\"c\");\n",
    "\n",
    "    PYK.make_enzyme_module_form(\n",
    "        \"pyk_R{0:d}_A_c\".format(i), \n",
    "        name=\"Automatic\", \n",
    "        categories=\"Active\", \n",
    "        bound_metabolites={adp_c: 1, fdp_c: i},\n",
    "        compartment=\"c\");\n",
    "    \n",
    "    PYK.make_enzyme_module_form(\n",
    "        \"pyk_R{0:d}_P_c\".format(i), \n",
    "        name=\"Automatic\", \n",
    "        categories=\"Active\", \n",
    "        bound_metabolites={pep_c: 1, fdp_c: i},\n",
    "        compartment=\"c\");\n",
    "    \n",
    "    PYK.make_enzyme_module_form(\n",
    "        \"pyk_R{0:d}_AP_c\".format(i), \n",
    "        name=\"Automatic\", \n",
    "        categories=\"Active\", \n",
    "        bound_metabolites={adp_c: 1, pep_c: 1, fdp_c: i},\n",
    "        compartment=\"c\");\n",
    "\n",
    "    # Make enzyme module forms per number of bound inhibitors (Up to 4 Total)\n",
    "    PYK.make_enzyme_module_form(\n",
    "        \"pyk_T{0:d}_c\".format(i), \n",
    "        name=\"Automatic\", \n",
    "        categories=\"Inhibited\", \n",
    "        bound_metabolites={atp_c: i},\n",
    "        compartment=\"c\");\n",
    "\n",
    "# Access categorized attribute for enzyme module forms and print\n",
    "for group in PYK.enzyme_module_forms_categorized:\n",
    "    print(\"{0}: {1}\\n\".format(\n",
    "        group.id, str(sorted([m.id for m in group.members]))))"
   ]
  },
  {
   "cell_type": "markdown",
   "metadata": {},
   "source": [
    "### Reactions\n",
    "#### EnzymeModuleReactions"
   ]
  },
  {
   "cell_type": "code",
   "execution_count": null,
   "metadata": {
    "execution": {
     "iopub.execute_input": "2020-10-24T16:52:50.731528Z",
     "iopub.status.busy": "2020-10-24T16:52:50.721976Z",
     "iopub.status.idle": "2020-10-24T16:52:50.785536Z",
     "shell.execute_reply": "2020-10-24T16:52:50.785962Z"
    }
   },
   "outputs": [],
   "source": [
    "for i in range(n_subunits + 1):\n",
    "    # Make reactions for enzyme-ligand binding and catalytzation per number of bound activators (Up to 4 Total)\n",
    "    PYK.make_enzyme_module_reaction(\n",
    "        \"PYK_R{0:d}1\".format(i), \n",
    "        name=\"Automatic\",\n",
    "        subsystem=\"Glycolysis\",\n",
    "        reversible=True,\n",
    "        categories=\"pep_c_binding\",\n",
    "        metabolites_to_add={\n",
    "            \"pyk_R{0:d}_c\".format(i): -1, \n",
    "            \"pep_c\": -1, \n",
    "            \"pyk_R{0:d}_P_c\".format(i): 1})\n",
    "    \n",
    "    PYK.make_enzyme_module_reaction(\n",
    "        \"PYK_R{0:d}2\".format(i), \n",
    "        name=\"Automatic\",\n",
    "        subsystem=\"Glycolysis\",\n",
    "        reversible=True,\n",
    "        categories=\"adp_c_binding\",\n",
    "        metabolites_to_add={\n",
    "            \"pyk_R{0:d}_c\".format(i): -1, \n",
    "            \"adp_c\": -1, \n",
    "            \"pyk_R{0:d}_A_c\".format(i): 1})\n",
    "    \n",
    "    PYK.make_enzyme_module_reaction(\n",
    "        \"PYK_R{0:d}3\".format(i), \n",
    "        name=\"Automatic\",\n",
    "        subsystem=\"Glycolysis\",\n",
    "        reversible=True,\n",
    "        categories=\"pep_c_binding\",\n",
    "        metabolites_to_add={\n",
    "            \"pyk_R{0:d}_A_c\".format(i): -1, \n",
    "            \"pep_c\": -1, \n",
    "            \"pyk_R{0:d}_AP_c\".format(i): 1})\n",
    "    \n",
    "    PYK.make_enzyme_module_reaction(\n",
    "        \"PYK_R{0:d}4\".format(i), \n",
    "        name=\"Automatic\",\n",
    "        subsystem=\"Glycolysis\",\n",
    "        reversible=True,\n",
    "        categories=\"adp_c_binding\",\n",
    "        metabolites_to_add={\n",
    "            \"pyk_R{0:d}_P_c\".format(i): -1, \n",
    "            \"adp_c\": -1, \n",
    "            \"pyk_R{0:d}_AP_c\".format(i): 1})\n",
    "    \n",
    "    PYK.make_enzyme_module_reaction(\n",
    "        \"PYK_R{0:d}5\".format(i), \n",
    "        name=\"Automatic\",\n",
    "        subsystem=\"Glycolysis\",\n",
    "        reversible=False,\n",
    "        categories=\"catalyzation\",\n",
    "        metabolites_to_add={\n",
    "            \"pyk_R{0:d}_AP_c\".format(i): -1, \n",
    "            \"h_c\": -1, \n",
    "            \"pyk_R{0:d}_c\".format(i): 1, \n",
    "            \"atp_c\": 1, \n",
    "            \"pyr_c\": 1})\n",
    "    \n",
    "    if i < n_subunits:\n",
    "        # Make enzyme reactions for enzyme-activator binding\n",
    "        PYK.make_enzyme_module_reaction(\n",
    "            \"PYK_R{0:d}0\".format(i + 1), \n",
    "            name=\"Automatic\",\n",
    "            subsystem=\"Glycolysis\",\n",
    "            reversible=True,\n",
    "            categories=\"fdp_c_activation\",\n",
    "            metabolites_to_add={\n",
    "                \"pyk_R{0:d}_c\".format(i): -1, \n",
    "                \"fdp_c\": -1, \n",
    "                \"pyk_R{0:d}_c\".format(i + 1): 1})\n",
    "\n",
    "        # Make enzyme reactions for enzyme-inhibitor binding\n",
    "        PYK.make_enzyme_module_reaction(\n",
    "            \"PYK_T{0:d}\".format(i + 1), \n",
    "            name=\"Automatic\",\n",
    "            subsystem=\"Glycolysis\",\n",
    "            reversible=True,\n",
    "            categories=\"atp_c_inhibition\",\n",
    "            metabolites_to_add={\n",
    "                \"pyk_T{0:d}_c\".format(i): -1, \n",
    "                \"atp_c\": -1, \n",
    "                \"pyk_T{0:d}_c\".format(i + 1): 1})\n",
    "# Make reaction representing enzyme transition from R to T state\n",
    "PYK.make_enzyme_module_reaction(\n",
    "    \"PYK_L\",\n",
    "    name=\"Automatic\",\n",
    "    subsystem=\"Glycolysis\",\n",
    "    reversible=True,\n",
    "    categories=\"rt_transition\",\n",
    "    metabolites_to_add={\n",
    "        \"pyk_R0_c\": -1, \n",
    "        \"pyk_T0_c\": 1})\n",
    "\n",
    "# Access categorized attribute for enzyme module reactions and print\n",
    "for group in PYK.enzyme_module_reactions_categorized:\n",
    "    print(\"{0}: {1}\\n\".format(\n",
    "        group.id, str(sorted([m.id for m in group.members]))))"
   ]
  },
  {
   "cell_type": "markdown",
   "metadata": {},
   "source": [
    "#### Unify Rate Parameters"
   ]
  },
  {
   "cell_type": "code",
   "execution_count": null,
   "metadata": {
    "execution": {
     "iopub.execute_input": "2020-10-24T16:52:50.800244Z",
     "iopub.status.busy": "2020-10-24T16:52:50.794651Z",
     "iopub.status.idle": "2020-10-24T16:52:51.201308Z",
     "shell.execute_reply": "2020-10-24T16:52:51.200746Z"
    }
   },
   "outputs": [],
   "source": [
    "enzyme_prefix = True\n",
    "abbreviations = [\"P\", \"A\", \"I\", \"ACT\"]\n",
    "ligands = [pep_c, adp_c, atp_c, fdp_c]\n",
    "\n",
    "for met, unified_id in zip(ligands, abbreviations):\n",
    "    category = {\"P\": \"binding\",\n",
    "                \"A\": \"binding\",\n",
    "                \"I\": \"inhibition\",\n",
    "                \"ACT\": \"activation\"}[unified_id]\n",
    "    group = PYK.enzyme_module_reactions_categorized.get_by_id(\n",
    "        \"_\".join((met.id, category)))\n",
    "    reactions = sorted(group.members, key=attrgetter(\"id\"))\n",
    "    PYK.unify_rate_parameters(reactions, unified_id,\n",
    "                              rate_type=2, enzyme_prefix=True)\n",
    "    # Add the coefficients to make symmetry model rate laws for activation and inhibition \n",
    "    if unified_id in [\"I\", \"ACT\"]:\n",
    "        for i, reaction in enumerate(reactions):\n",
    "            custom_rate = str(strip_time((reaction.rate)))\n",
    "            custom_rate = custom_rate.replace(\"kf_\", \"{0:d}*kf_\".format(n_subunits - i))\n",
    "            custom_rate = custom_rate.replace(\"kr_\", \"{0:d}*kr_\".format(i + 1))\n",
    "            PYK.add_custom_rate(reaction, custom_rate)\n",
    "\n",
    "PYK.unify_rate_parameters(\n",
    "    PYK.enzyme_module_reactions_categorized.get_by_id(\"catalyzation\").members,\n",
    "    \"PYK\")\n",
    "# Update rate laws to be in terms of kf and Keq\n",
    "PYK.custom_rates.update(k2Keq(PYK.custom_rates))\n",
    "\n",
    "# Access categorized attribute for enzyme module reactions and print\n",
    "for group in PYK.enzyme_module_reactions_categorized:\n",
    "    header = \"Category: \" + group.id\n",
    "    print(\"\\n\" + header + \"\\n\" + \"-\" * len(header))\n",
    "    for reaction in sorted(group.members, key=attrgetter(\"id\")):\n",
    "        print(reaction.id + \": \" + str(reaction.rate))"
   ]
  },
  {
   "cell_type": "markdown",
   "metadata": {},
   "source": [
    "### Compartments"
   ]
  },
  {
   "cell_type": "code",
   "execution_count": null,
   "metadata": {
    "execution": {
     "iopub.execute_input": "2020-10-24T16:52:51.206344Z",
     "iopub.status.busy": "2020-10-24T16:52:51.205718Z",
     "iopub.status.idle": "2020-10-24T16:52:51.209393Z",
     "shell.execute_reply": "2020-10-24T16:52:51.208802Z"
    }
   },
   "outputs": [],
   "source": [
    "PYK.compartments = {\"c\": \"Cytosol\"}"
   ]
  },
  {
   "cell_type": "markdown",
   "metadata": {},
   "source": [
    "## Steady State Concentrations and Rate Constants\n",
    "### Rate Equation"
   ]
  },
  {
   "cell_type": "code",
   "execution_count": null,
   "metadata": {
    "execution": {
     "iopub.execute_input": "2020-10-24T16:52:51.223624Z",
     "iopub.status.busy": "2020-10-24T16:52:51.218062Z",
     "iopub.status.idle": "2020-10-24T16:52:51.261299Z",
     "shell.execute_reply": "2020-10-24T16:52:51.260706Z"
    }
   },
   "outputs": [],
   "source": [
    "catalyzation_rxns = PYK.enzyme_module_reactions_categorized.get_by_id(\n",
    "    \"catalyzation\").members\n",
    "PYK.make_enzyme_rate_equation(\n",
    "    catalyzation_rxns,\n",
    "    use_rates=True, update_enzyme=True)\n",
    "\n",
    "print(PYK.enzyme_rate_equation)"
   ]
  },
  {
   "cell_type": "markdown",
   "metadata": {},
   "source": [
    "### Solve steady state concentrations symbolically"
   ]
  },
  {
   "cell_type": "code",
   "execution_count": null,
   "metadata": {
    "execution": {
     "iopub.execute_input": "2020-10-24T16:52:51.280735Z",
     "iopub.status.busy": "2020-10-24T16:52:51.271118Z",
     "iopub.status.idle": "2020-10-24T16:54:17.902942Z",
     "shell.execute_reply": "2020-10-24T16:54:17.903382Z"
    }
   },
   "outputs": [],
   "source": [
    "ode_dict = {\n",
    "    sym.Symbol(enzyme_module_form.id): sym.Eq(strip_time(enzyme_module_form.ode), 0)\n",
    "    for enzyme_module_form in PYK.enzyme_module_forms}\n",
    "\n",
    "# Get enzyme module forms\n",
    "enzyme_module_forms = PYK.enzyme_module_forms.copy()\n",
    "# Reverse list for increased performance (due to symmetry assumption)\n",
    "# by solving for the most activated/inhibitors bound first.\n",
    "enzyme_module_forms.reverse()\n",
    "\n",
    "enzyme_solutions = {}\n",
    "for enzyme_module_form in enzyme_module_forms:\n",
    "    # Skip dependent variable\n",
    "    if \"pyk_R0_c\" == str(enzyme_module_form):\n",
    "        continue\n",
    "    enzyme_module_form = sym.Symbol(enzyme_module_form.id)\n",
    "    # Susbtitute in previous solutions and solve for the enzyme module form, \n",
    "    equation = ode_dict[enzyme_module_form]\n",
    "    sol = sym.solveset(equation.subs(enzyme_solutions),\n",
    "                       enzyme_module_form)\n",
    "    enzyme_solutions[enzyme_module_form] = list(sol)[0]\n",
    "    # Update the dictionary of solutions with the solutions\n",
    "    enzyme_solutions.update({\n",
    "        enzyme_module_form: sol.subs(enzyme_solutions) \n",
    "        for enzyme_module_form, sol in enzyme_solutions.items()})\n",
    "\n",
    "enzyme_rate_equation = strip_time(PYK.enzyme_rate_error(False))\n",
    "\n",
    "# Solve for last unknown concentration symbolically\n",
    "sol = sym.solveset(enzyme_rate_equation.subs(enzyme_solutions),\n",
    "                   \"pyk_R0_c\")\n",
    "\n",
    "# Update solution dictionary with the new solution\n",
    "enzyme_solutions[sym.Symbol(\"pyk_R0_c\")] = list(sol)[0]\n",
    "\n",
    "# Update solutions with free variable solutions\n",
    "enzyme_solutions = {\n",
    "    enzyme_module_form: sym.simplify(solution.subs(enzyme_solutions))\n",
    "    for enzyme_module_form, solution in enzyme_solutions.items()}"
   ]
  },
  {
   "cell_type": "markdown",
   "metadata": {},
   "source": [
    "#### Numerical Values"
   ]
  },
  {
   "cell_type": "code",
   "execution_count": null,
   "metadata": {
    "execution": {
     "iopub.execute_input": "2020-10-24T16:54:17.907043Z",
     "iopub.status.busy": "2020-10-24T16:54:17.906389Z",
     "iopub.status.idle": "2020-10-24T16:54:17.917533Z",
     "shell.execute_reply": "2020-10-24T16:54:17.918039Z"
    }
   },
   "outputs": [],
   "source": [
    "numerical_values = {}\n",
    "\n",
    "# Get ligand IDs and parameter IDs\n",
    "ligand_ids = sorted([str(ligand) for ligand in PYK.enzyme_module_ligands])\n",
    "parameter_ids = [\"_\".join((PYK.id, abbrev)) for abbrev in abbreviations + [\"L\"]]\n",
    "\n",
    "# Get the steady state flux value and add to numerical values\n",
    "PYK.enzyme_rate = glycolysis.reactions.get_by_id(PYK.id).steady_state_flux\n",
    "numerical_values.update({PYK.enzyme_flux_symbol_str: PYK.enzyme_rate})\n",
    "\n",
    "# Get the steady state concentration values and add to numerical values\n",
    "initial_conditions = {\n",
    "    str(ligand): glycolysis.initial_conditions[glycolysis.metabolites.get_by_id(ligand)]\n",
    "    for ligand in ligand_ids}\n",
    "numerical_values.update(initial_conditions)\n",
    "# Define parameter values and add to numerical values\n",
    "# Because of the QEA, invert dissociation constants for Keq\n",
    "parameter_values = {\n",
    "    \"Keq_\" + parameter_id: value \n",
    "    for parameter_id, value in zip(parameter_ids, [1/0.225, 1/0.474, 1/3.39, 1/0.005, 19])}\n",
    "numerical_values.update(parameter_values)\n",
    "\n",
    "# Display numerical values\n",
    "print(\"\\nNumerical Values\\n----------------\")\n",
    "for k, v in numerical_values.items():\n",
    "    print(\"{0} = {1}\".format(k, v))"
   ]
  },
  {
   "cell_type": "markdown",
   "metadata": {},
   "source": [
    "### Calculate Steady State Concentrations"
   ]
  },
  {
   "cell_type": "markdown",
   "metadata": {},
   "source": [
    "#### Set total enzyme concentration"
   ]
  },
  {
   "cell_type": "code",
   "execution_count": null,
   "metadata": {
    "execution": {
     "iopub.execute_input": "2020-10-24T16:54:17.921705Z",
     "iopub.status.busy": "2020-10-24T16:54:17.921050Z",
     "iopub.status.idle": "2020-10-24T16:54:17.925549Z",
     "shell.execute_reply": "2020-10-24T16:54:17.926028Z"
    }
   },
   "outputs": [],
   "source": [
    "PYK.enzyme_concentration_total = 69e-6"
   ]
  },
  {
   "cell_type": "markdown",
   "metadata": {},
   "source": [
    "#### Determine rate constants"
   ]
  },
  {
   "cell_type": "code",
   "execution_count": null,
   "metadata": {
    "execution": {
     "iopub.execute_input": "2020-10-24T16:54:17.929500Z",
     "iopub.status.busy": "2020-10-24T16:54:17.928926Z",
     "iopub.status.idle": "2020-10-24T16:54:29.976634Z",
     "shell.execute_reply": "2020-10-24T16:54:29.977067Z"
    }
   },
   "outputs": [],
   "source": [
    "# Substitute values into equations\n",
    "enzyme_solutions = {\n",
    "    enzyme_module_form: sym.simplify(solution.subs(numerical_values))\n",
    "    for enzyme_module_form, solution in enzyme_solutions.items()}\n",
    "\n",
    "args = set()\n",
    "for sol in enzyme_solutions.values():\n",
    "    args.update(sol.atoms(sym.Symbol))\n",
    "\n",
    "enzyme_total_constraint = abs(\n",
    "    strip_time(PYK.enzyme_concentration_total_error(use_values=False)))\n",
    "\n",
    "# Substitute value for enzyme concentration total\n",
    "enzyme_total_constraint = enzyme_total_constraint.subs({\n",
    "    PYK.enzyme_total_symbol_str: PYK.enzyme_concentration_total})\n",
    "# Substitute solutions into constraint and simplify\n",
    "enzyme_total_constraint = sym.simplify(\n",
    "    enzyme_total_constraint.subs(enzyme_solutions))\n",
    "\n",
    "# Create a sorted tuple of the arguments to ensure the input format does not change\n",
    "args = tuple(sorted([str(arg) for arg in list(args)]))\n",
    "# Create the objective function as a lambda function\n",
    "objective_function = lambda x: sym.lambdify(args, enzyme_total_constraint)(*x)\n",
    "\n",
    "# Set arguments for minimization \n",
    "initial_guess = [21500, 4e6, 4e6]\n",
    "kf_bounds = ((1e3, 1e9), (1e3, 1e9), (1e3, 1e9))\n",
    "constraints = (\n",
    "    {\"type\": \"eq\", \"fun\": objective_function})\n",
    "# Find a feasible solution\n",
    "sol = optimize.minimize(\n",
    "    objective_function, x0=initial_guess, method=\"trust-constr\",\n",
    "    bounds=kf_bounds,\n",
    "    options={\"gtol\": 1e-12, \"xtol\": 1e-12, \"maxiter\": 1e4, \"disp\": True})\n",
    "\n",
    "# Check whether optimzation was successful\n",
    "print(\"\\nOptimization Success: {0}\".format(sol.success))\n",
    "if sol.success:\n",
    "    # Update the paramter values dictionary with the feasible solution\n",
    "    parameter_values.update(\n",
    "        dict(zip(args, [round(x) for x in sol.x])))\n",
    "    print(\"Optimization Optimality: {0:.4e}\".format(sol.optimality))\n",
    "    print(\"Parameter Solutions: {:}\".format(str({\n",
    "        arg: parameter_values[arg] for arg in args})))\n",
    "    # Plug solutions back into constraints for validation\n",
    "    print(\"Concentration Error: {0:.4e}\".format(\n",
    "        enzyme_total_constraint.subs(parameter_values)))"
   ]
  },
  {
   "cell_type": "markdown",
   "metadata": {},
   "source": [
    "#### Set initial conditions"
   ]
  },
  {
   "cell_type": "code",
   "execution_count": null,
   "metadata": {
    "execution": {
     "iopub.execute_input": "2020-10-24T16:54:29.980865Z",
     "iopub.status.busy": "2020-10-24T16:54:29.980187Z",
     "iopub.status.idle": "2020-10-24T16:54:30.290266Z",
     "shell.execute_reply": "2020-10-24T16:54:30.290723Z"
    }
   },
   "outputs": [],
   "source": [
    "# Add the activation, inhibition, and allosteric rate constants\n",
    "for abbrev, value in zip([\"I\", \"ACT\", \"L\"], [1e6, 1e6, 1e6**2]):\n",
    "    to_join = (\"kf\", PYK.id, abbrev) if enzyme_prefix else (\"kf\", abbrev)\n",
    "    param = \"_\".join(to_join)\n",
    "    parameter_values.update({param: value})\n",
    "    \n",
    "# Substitute values into equations\n",
    "initial_conditions.update({\n",
    "    str(enzyme_module_form): round(float(sym.simplify(solution.subs(parameter_values))), 12)\n",
    "    for enzyme_module_form, solution in enzyme_solutions.items()})\n",
    "\n",
    "# Set initial conditions\n",
    "for met, concentration in initial_conditions.items():\n",
    "    PYK.metabolites.get_by_id(str(met)).ic = concentration\n",
    "\n",
    "for header, dictlist in zip([\"Ligand\", \"\\nEnzyme\"], [PYK.enzyme_module_ligands, PYK.enzyme_module_forms]):\n",
    "    header += \" Concentrations\"\n",
    "    print(\"\\n\".join([header, \"-\" * len(header)]))\n",
    "    for form in dictlist:\n",
    "        ic = initial_conditions[form.id]\n",
    "        print(\"{0} = {1}\".format(form.id, ic))"
   ]
  },
  {
   "cell_type": "markdown",
   "metadata": {},
   "source": [
    "### Set Parameters"
   ]
  },
  {
   "cell_type": "code",
   "execution_count": null,
   "metadata": {
    "execution": {
     "iopub.execute_input": "2020-10-24T16:54:30.293858Z",
     "iopub.status.busy": "2020-10-24T16:54:30.293248Z",
     "iopub.status.idle": "2020-10-24T16:54:30.298832Z",
     "shell.execute_reply": "2020-10-24T16:54:30.299292Z"
    }
   },
   "outputs": [],
   "source": [
    "# Add the custom parameters and values for kf and Keq to model\n",
    "PYK.custom_parameters.update(parameter_values)\n",
    "# PYK_L uses standard reaction parameters and not custom parameters\n",
    "PYK_L = PYK.enzyme_module_reactions.PYK_L\n",
    "PYK_L.kf = PYK.custom_parameters.pop(PYK_L.kf_str)\n",
    "PYK_L.Keq = PYK.custom_parameters.pop(PYK_L.Keq_str)"
   ]
  },
  {
   "cell_type": "markdown",
   "metadata": {},
   "source": [
    "### Units"
   ]
  },
  {
   "cell_type": "code",
   "execution_count": null,
   "metadata": {
    "execution": {
     "iopub.execute_input": "2020-10-24T16:54:30.302804Z",
     "iopub.status.busy": "2020-10-24T16:54:30.302161Z",
     "iopub.status.idle": "2020-10-24T16:54:30.307653Z",
     "shell.execute_reply": "2020-10-24T16:54:30.308095Z"
    }
   },
   "outputs": [],
   "source": [
    "concentration = UnitDefinition(\"mM\", name=\"Millimolar\", list_of_units=[\"millimole\", \"per_litre\"])\n",
    "time = UnitDefinition(\"hr\", name=\"hour\", list_of_units=[\"hour\"])\n",
    "\n",
    "PYK.add_units([concentration, time])"
   ]
  },
  {
   "cell_type": "markdown",
   "metadata": {},
   "source": [
    "## QC model"
   ]
  },
  {
   "cell_type": "code",
   "execution_count": null,
   "metadata": {
    "execution": {
     "iopub.execute_input": "2020-10-24T16:54:30.311806Z",
     "iopub.status.busy": "2020-10-24T16:54:30.311092Z",
     "iopub.status.idle": "2020-10-24T16:54:30.335714Z",
     "shell.execute_reply": "2020-10-24T16:54:30.336168Z"
    }
   },
   "outputs": [],
   "source": [
    "qcqa_model(PYK, parameters=True, concentrations=True, \n",
    "           fluxes=False, superfluous=True, elemental=True)"
   ]
  },
  {
   "cell_type": "markdown",
   "metadata": {},
   "source": [
    "#### Errors"
   ]
  },
  {
   "cell_type": "code",
   "execution_count": null,
   "metadata": {
    "execution": {
     "iopub.execute_input": "2020-10-24T16:54:30.339682Z",
     "iopub.status.busy": "2020-10-24T16:54:30.339035Z",
     "iopub.status.idle": "2020-10-24T16:54:30.564678Z",
     "shell.execute_reply": "2020-10-24T16:54:30.565085Z"
    }
   },
   "outputs": [],
   "source": [
    "print(\"Concentration Absolute Error: {0:.4e}\".format(\n",
    "    abs(PYK.enzyme_concentration_total_error(use_values=True))))"
   ]
  },
  {
   "cell_type": "markdown",
   "metadata": {},
   "source": [
    "### Ordering of internal species and reactions"
   ]
  },
  {
   "cell_type": "code",
   "execution_count": null,
   "metadata": {
    "execution": {
     "iopub.execute_input": "2020-10-24T16:54:30.568775Z",
     "iopub.status.busy": "2020-10-24T16:54:30.568129Z",
     "iopub.status.idle": "2020-10-24T16:54:30.576511Z",
     "shell.execute_reply": "2020-10-24T16:54:30.577024Z"
    }
   },
   "outputs": [],
   "source": [
    "new_metabolite_order = [\n",
    "    'pep_c', 'pyr_c', 'fdp_c', 'adp_c', 'atp_c',\n",
    "    'pyk_R0_c', 'pyk_R0_P_c', 'pyk_R0_A_c', 'pyk_R0_AP_c', \n",
    "    'pyk_R1_c', 'pyk_R1_P_c', 'pyk_R1_A_c', 'pyk_R1_AP_c',\n",
    "    'pyk_R2_c', 'pyk_R2_P_c', 'pyk_R2_A_c', 'pyk_R2_AP_c',\n",
    "    'pyk_R3_c', 'pyk_R3_P_c', 'pyk_R3_A_c', 'pyk_R3_AP_c',\n",
    "    'pyk_R4_c', 'pyk_R4_P_c', 'pyk_R4_A_c', 'pyk_R4_AP_c',\n",
    "    'pyk_T0_c', 'pyk_T1_c', 'pyk_T2_c', 'pyk_T3_c', 'pyk_T4_c']\n",
    "\n",
    "if len(PYK.metabolites) == len(new_metabolite_order):\n",
    "    PYK.metabolites = DictList(\n",
    "        PYK.metabolites.get_by_any(new_metabolite_order))\n",
    "    \n",
    "new_reaction_order = [\n",
    "    \"PYK_R01\", \"PYK_R02\", \"PYK_R03\", \"PYK_R04\", \"PYK_R05\", \"PYK_R10\",\n",
    "    \"PYK_R11\", \"PYK_R12\", \"PYK_R13\", \"PYK_R14\", \"PYK_R15\", \"PYK_R20\",\n",
    "    \"PYK_R21\", \"PYK_R22\", \"PYK_R23\", \"PYK_R24\", \"PYK_R25\", \"PYK_R30\", \n",
    "    \"PYK_R31\", \"PYK_R32\", \"PYK_R33\", \"PYK_R34\", \"PYK_R35\", \"PYK_R40\", \n",
    "    \"PYK_R41\", \"PYK_R42\", \"PYK_R43\", \"PYK_R44\", \"PYK_R45\", \"PYK_L\",\n",
    "    \"PYK_T1\", \"PYK_T2\", \"PYK_T3\", \"PYK_T4\"]\n",
    "\n",
    "if len(PYK.reactions) == len(new_reaction_order):\n",
    "    PYK.reactions = DictList(\n",
    "        PYK.reactions.get_by_any(new_reaction_order))"
   ]
  },
  {
   "cell_type": "markdown",
   "metadata": {},
   "source": [
    "## Simulation\n",
    "### Merge model"
   ]
  },
  {
   "cell_type": "code",
   "execution_count": null,
   "metadata": {
    "execution": {
     "iopub.execute_input": "2020-10-24T16:54:30.580477Z",
     "iopub.status.busy": "2020-10-24T16:54:30.579890Z",
     "iopub.status.idle": "2020-10-24T16:54:30.646712Z",
     "shell.execute_reply": "2020-10-24T16:54:30.647169Z"
    }
   },
   "outputs": [],
   "source": [
    "# Merge the EnzymeModule into the MassModel\n",
    "glycolysis_PYK = glycolysis.merge(PYK, inplace=False)\n",
    "# Remove the PYK MassReaction\n",
    "glycolysis_PYK.remove_reactions([\n",
    "    glycolysis_PYK.reactions.get_by_id(\"PYK\")])"
   ]
  },
  {
   "cell_type": "markdown",
   "metadata": {},
   "source": [
    "### Simulate"
   ]
  },
  {
   "cell_type": "code",
   "execution_count": null,
   "metadata": {
    "execution": {
     "iopub.execute_input": "2020-10-24T16:54:30.651028Z",
     "iopub.status.busy": "2020-10-24T16:54:30.650141Z",
     "iopub.status.idle": "2020-10-24T16:54:34.430979Z",
     "shell.execute_reply": "2020-10-24T16:54:34.430461Z"
    }
   },
   "outputs": [],
   "source": [
    "# Setup simulation object, ensure model is at steady state\n",
    "sim = Simulation(glycolysis_PYK, verbose=True)\n",
    "sim.find_steady_state(glycolysis_PYK, strategy=\"simulate\",\n",
    "                      update_values=True, tfinal=1e4)\n",
    "# Simulate from 0 to 1000 with 10001 points in the output\n",
    "conc_sol, flux_sol = sim.simulate(glycolysis_PYK,\n",
    "                                  time=(0, 1e3, 1e4 + 1))\n",
    "# Quickly render and display time profiles \n",
    "conc_sol.view_time_profile()"
   ]
  },
  {
   "cell_type": "markdown",
   "metadata": {},
   "source": [
    "## Export"
   ]
  },
  {
   "cell_type": "code",
   "execution_count": null,
   "metadata": {
    "execution": {
     "iopub.execute_input": "2020-10-24T16:54:34.452781Z",
     "iopub.status.busy": "2020-10-24T16:54:34.441803Z",
     "iopub.status.idle": "2020-10-24T16:54:35.108596Z",
     "shell.execute_reply": "2020-10-24T16:54:35.108087Z"
    }
   },
   "outputs": [],
   "source": [
    "# Export model as JSON\n",
    "json.save_json_model(\n",
    "    mass_model=PYK,\n",
    "    filename=path.abspath(path.join(\"data\", \"models\", \"JSON\", PYK.id + \".json\")))\n",
    "# Export model as SBML\n",
    "sbml.write_sbml_model(\n",
    "    mass_model=PYK,\n",
    "    filename=path.abspath(path.join(\"data\", \"models\", \"SBML\", PYK.id + \".xml.zip\")))"
   ]
  },
  {
   "cell_type": "code",
   "execution_count": null,
   "metadata": {
    "execution": {
     "iopub.execute_input": "2020-10-24T16:54:35.114882Z",
     "iopub.status.busy": "2020-10-24T16:54:35.114170Z",
     "iopub.status.idle": "2020-10-24T16:54:35.146413Z",
     "shell.execute_reply": "2020-10-24T16:54:35.145701Z"
    }
   },
   "outputs": [],
   "source": [
    "# Export value tables\n",
    "from table_export import export_csv_files_for_models\n",
    "export_csv_files_for_models([PYK], \"for_pyk_notebook\")"
   ]
  }
 ],
 "metadata": {
  "kernelspec": {
   "display_name": "Python 3",
   "language": "python",
   "name": "python3"
  },
  "language_info": {
   "codemirror_mode": {
    "name": "ipython",
    "version": 3
   },
   "file_extension": ".py",
   "mimetype": "text/x-python",
   "name": "python",
   "nbconvert_exporter": "python",
   "pygments_lexer": "ipython3",
   "version": "3.7.9"
  }
 },
 "nbformat": 4,
 "nbformat_minor": 2
}
