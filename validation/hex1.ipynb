{
 "cells": [
  {
   "cell_type": "markdown",
   "metadata": {},
   "source": [
    "# Hexokinase (HEX1)\n",
    "\n",
    "For the construction of the HEX1 `EnzymeModule`, the following assumptions were made:\n",
    "\n",
    "1. The enzyme is a monomer.\n",
    "2. The enzyme binding and catalyzation of substrates occurs in an random sequential mechanism.\n",
    "3. The enzyme experiences product inhibtion, and is competitively inhibited by 23DPG when complexed with D-glucose.\n",
    "\n",
    "\\\\(\\text{[HEX1]}_{total} = 24 nM = 0.024 \\mu M = 0.000024 mM\\\\).\n",
    "\n",
    "Based on “Network-Level Allosteric Effects Are Elucidated by Detailing How Ligand-Binding Events Modulate Utilization of Catalytic Potentials.\"\n",
    "\n",
    "__URL:__ https://doi.org/10.1371/journal.pcbi.1006356"
   ]
  },
  {
   "cell_type": "code",
   "execution_count": 1,
   "metadata": {
    "execution": {
     "iopub.execute_input": "2020-10-25T22:26:32.673755Z",
     "iopub.status.busy": "2020-10-25T22:26:32.672450Z",
     "iopub.status.idle": "2020-10-25T22:26:37.399107Z",
     "shell.execute_reply": "2020-10-25T22:26:37.399908Z"
    }
   },
   "outputs": [
    {
     "name": "stdout",
     "output_type": "stream",
     "text": [
      "MASSpy version: 0.1.1\n"
     ]
    }
   ],
   "source": [
    "from operator import attrgetter\n",
    "from os import path\n",
    "\n",
    "from cobra import DictList\n",
    "\n",
    "import matplotlib.pyplot as plt\n",
    "\n",
    "from scipy import optimize\n",
    "\n",
    "import sympy as sym\n",
    "\n",
    "import mass\n",
    "from mass import MassMetabolite, Simulation, UnitDefinition\n",
    "from mass.enzyme_modules import EnzymeModule\n",
    "from mass.io import json, sbml\n",
    "from mass.util import strip_time, qcqa_model\n",
    "\n",
    "print(\"MASSpy version: \" + mass.__version__)"
   ]
  },
  {
   "cell_type": "markdown",
   "metadata": {},
   "source": [
    "## Load Models"
   ]
  },
  {
   "cell_type": "code",
   "execution_count": 2,
   "metadata": {
    "execution": {
     "iopub.execute_input": "2020-10-25T22:26:37.411945Z",
     "iopub.status.busy": "2020-10-25T22:26:37.405942Z",
     "iopub.status.idle": "2020-10-25T22:26:37.522069Z",
     "shell.execute_reply": "2020-10-25T22:26:37.525608Z"
    }
   },
   "outputs": [],
   "source": [
    "# Load the glycolysis model and hemoglobin model\n",
    "glycolysis = json.load_json_model(\n",
    "    filename=path.abspath(path.join(\"data\", \"models\", \"JSON\", \"Glycolysis.json\")))\n",
    "hemoglobin = json.load_json_model(\n",
    "    filename=path.abspath(path.join(\"data\", \"models\", \"JSON\", \"Hemoglobin.json\")))\n",
    "glycolysis_hb = glycolysis.merge(hemoglobin, inplace=False)"
   ]
  },
  {
   "cell_type": "markdown",
   "metadata": {},
   "source": [
    "## Module Construction"
   ]
  },
  {
   "cell_type": "code",
   "execution_count": 3,
   "metadata": {
    "execution": {
     "iopub.execute_input": "2020-10-25T22:26:37.534280Z",
     "iopub.status.busy": "2020-10-25T22:26:37.532395Z",
     "iopub.status.idle": "2020-10-25T22:26:37.545444Z",
     "shell.execute_reply": "2020-10-25T22:26:37.546194Z"
    }
   },
   "outputs": [],
   "source": [
    "HEX1 = EnzymeModule(\"HEX1\", name=\"Hexokinase (D-glucose:ATP)\",\n",
    "                    subsystem=\"Glycolysis\")"
   ]
  },
  {
   "cell_type": "markdown",
   "metadata": {},
   "source": [
    "### Metabolites\n",
    "#### Ligands"
   ]
  },
  {
   "cell_type": "code",
   "execution_count": 4,
   "metadata": {
    "execution": {
     "iopub.execute_input": "2020-10-25T22:26:37.562259Z",
     "iopub.status.busy": "2020-10-25T22:26:37.561302Z",
     "iopub.status.idle": "2020-10-25T22:26:37.573255Z",
     "shell.execute_reply": "2020-10-25T22:26:37.577615Z"
    }
   },
   "outputs": [
    {
     "name": "stdout",
     "output_type": "stream",
     "text": [
      "substrates: ['glc__D_c']\n",
      "cofactors: ['atp_c']\n",
      "inhibitors: ['_23dpg_c']\n",
      "products: ['adp_c', 'g6p_c', 'h_c']\n"
     ]
    }
   ],
   "source": [
    "glc__D_c = MassMetabolite(\n",
    "    \"glc__D_c\",\n",
    "    name=\"D-Glucose\",\n",
    "    formula=\"C6H12O6\",\n",
    "    charge=0,\n",
    "    compartment=\"c\")\n",
    "g6p_c = MassMetabolite(\n",
    "    \"g6p_c\",\n",
    "    name=\"D-Glucose 6-phosphate\",\n",
    "    formula=\"C6H11O9P\",\n",
    "    charge=-2,\n",
    "    compartment=\"c\")\n",
    "atp_c = MassMetabolite(\n",
    "    \"atp_c\",\n",
    "    name=\"ATP\",\n",
    "    formula=\"C10H12N5O13P3\",\n",
    "    charge=-4,\n",
    "    compartment=\"c\")\n",
    "adp_c = MassMetabolite(\n",
    "    \"adp_c\",\n",
    "    name=\"ADP\",\n",
    "    formula=\"C10H12N5O10P2\",\n",
    "    charge=-3,\n",
    "    compartment=\"c\")\n",
    "_23dpg_c = MassMetabolite(\n",
    "    \"_23dpg_c\", \n",
    "    name=\"2,3-Disphospho-D-glycerate\", \n",
    "    formula=\"C3H3O10P2\",\n",
    "    charge=-5,\n",
    "    compartment=\"c\")\n",
    "h_c = MassMetabolite(\n",
    "    \"h_c\",\n",
    "    name=\"H+\",\n",
    "    formula=\"H\",\n",
    "    charge=1,\n",
    "    compartment=\"c\")\n",
    "\n",
    "HEX1.add_metabolites([glc__D_c, g6p_c, atp_c, adp_c, _23dpg_c, h_c])\n",
    "\n",
    "HEX1.enzyme_module_ligands_categorized =  {\n",
    "    \"substrates\": glc__D_c,\n",
    "    \"cofactors\": atp_c,\n",
    "    \"inhibitors\": _23dpg_c,\n",
    "    \"products\": [adp_c, g6p_c, h_c]}\n",
    "\n",
    "for group in HEX1.enzyme_module_ligands_categorized:\n",
    "    print(\"{0}: {1}\".format(\n",
    "        group.id, str(sorted([m.id for m in group.members]))))"
   ]
  },
  {
   "cell_type": "markdown",
   "metadata": {},
   "source": [
    "#### EnzymeModuleForms"
   ]
  },
  {
   "cell_type": "code",
   "execution_count": 5,
   "metadata": {
    "execution": {
     "iopub.execute_input": "2020-10-25T22:26:37.596909Z",
     "iopub.status.busy": "2020-10-25T22:26:37.595068Z",
     "iopub.status.idle": "2020-10-25T22:26:37.614101Z",
     "shell.execute_reply": "2020-10-25T22:26:37.614679Z"
    }
   },
   "outputs": [
    {
     "name": "stdout",
     "output_type": "stream",
     "text": [
      "Active: ['hex1_AG_c', 'hex1_A_c', 'hex1_G_c', 'hex1_c']\n",
      "\n",
      "Inhibited: ['hex1_A_PI_c', 'hex1_G_CI_c', 'hex1_G_PI_c']\n",
      "\n"
     ]
    }
   ],
   "source": [
    "HEX1.make_enzyme_module_form(\n",
    "    \"hex1_c\",\n",
    "    name=\"Automatic\",\n",
    "    categories=\"Active\",\n",
    "    compartment=\"c\");\n",
    "\n",
    "HEX1.make_enzyme_module_form(\n",
    "    \"hex1_A_c\",\n",
    "    name=\"Automatic\",\n",
    "    categories=\"Active\",\n",
    "    bound_metabolites={atp_c: 1},\n",
    "    compartment=\"c\");\n",
    "\n",
    "HEX1.make_enzyme_module_form(\n",
    "    \"hex1_G_c\",\n",
    "    name=\"Automatic\",\n",
    "    categories=\"Active\",\n",
    "    bound_metabolites={glc__D_c: 1},\n",
    "    compartment=\"c\");\n",
    "\n",
    "HEX1.make_enzyme_module_form(\n",
    "    \"hex1_AG_c\",\n",
    "    name=\"Automatic\",\n",
    "    categories=\"Active\",\n",
    "    bound_metabolites={glc__D_c: 1, atp_c: 1},\n",
    "    compartment=\"c\");\n",
    "\n",
    "HEX1.make_enzyme_module_form(\n",
    "    \"hex1_G_CI_c\",\n",
    "    name=\"Automatic\",\n",
    "    categories=\"Inhibited\",\n",
    "    bound_metabolites={glc__D_c: 1, _23dpg_c: 1},\n",
    "    compartment=\"c\");\n",
    "\n",
    "HEX1.make_enzyme_module_form(\n",
    "    \"hex1_A_PI_c\",\n",
    "    name=\"Automatic\",\n",
    "    categories=\"Inhibited\",\n",
    "    bound_metabolites={adp_c: 1},\n",
    "    compartment=\"c\");\n",
    "\n",
    "HEX1.make_enzyme_module_form(\n",
    "    \"hex1_G_PI_c\",\n",
    "    name=\"Automatic\",\n",
    "    categories=\"Inhibited\",\n",
    "    bound_metabolites={g6p_c: 1},\n",
    "    compartment=\"c\");\n",
    "\n",
    "for group in HEX1.enzyme_module_forms_categorized:\n",
    "    print(\"{0}: {1}\\n\".format(\n",
    "        group.id, str(sorted([m.id for m in group.members]))))"
   ]
  },
  {
   "cell_type": "markdown",
   "metadata": {},
   "source": [
    "### Reactions\n",
    "#### EnzymeModuleReactions"
   ]
  },
  {
   "cell_type": "code",
   "execution_count": 6,
   "metadata": {
    "execution": {
     "iopub.execute_input": "2020-10-25T22:26:37.655417Z",
     "iopub.status.busy": "2020-10-25T22:26:37.630331Z",
     "iopub.status.idle": "2020-10-25T22:26:37.671302Z",
     "shell.execute_reply": "2020-10-25T22:26:37.670217Z"
    }
   },
   "outputs": [
    {
     "name": "stdout",
     "output_type": "stream",
     "text": [
      "product_inhibition: ['HEX1_1', 'HEX1_2']\n",
      "\n",
      "glc__D_c_binding: ['HEX1_3', 'HEX1_7']\n",
      "\n",
      "atp_c_binding: ['HEX1_4', 'HEX1_6']\n",
      "\n",
      "competitive_inhibition: ['HEX1_5']\n",
      "\n",
      "catalyzation: ['HEX1_8']\n",
      "\n"
     ]
    }
   ],
   "source": [
    "HEX1.make_enzyme_module_reaction(\n",
    "    \"HEX1_1\",\n",
    "    name=\"Automatic\",\n",
    "    subsystem=\"Glycolysis\",\n",
    "    reversible=True,\n",
    "    categories=\"product_inhibition\",\n",
    "    metabolites_to_add={\n",
    "        \"hex1_c\": -1,\n",
    "        \"adp_c\": -1,\n",
    "        \"hex1_A_PI_c\": 1});\n",
    "\n",
    "HEX1.make_enzyme_module_reaction(\n",
    "    \"HEX1_2\",\n",
    "    name=\"Automatic\",\n",
    "    subsystem=\"Glycolysis\",\n",
    "    reversible=True,\n",
    "    categories=\"product_inhibition\",\n",
    "    metabolites_to_add={\n",
    "        \"hex1_c\": -1,\n",
    "        \"g6p_c\": -1,\n",
    "        \"hex1_G_PI_c\": 1});\n",
    "\n",
    "HEX1.make_enzyme_module_reaction(\n",
    "    \"HEX1_3\",\n",
    "    name=\"Automatic\",\n",
    "    subsystem=\"Glycolysis\",\n",
    "    reversible=True,\n",
    "    categories=\"glc__D_c_binding\",\n",
    "    metabolites_to_add={\n",
    "        \"hex1_c\": -1,\n",
    "        \"glc__D_c\": -1,\n",
    "        \"hex1_G_c\": 1});\n",
    "\n",
    "HEX1.make_enzyme_module_reaction(\n",
    "    \"HEX1_4\",\n",
    "    name=\"Automatic\",\n",
    "    subsystem=\"Glycolysis\",\n",
    "    reversible=True,\n",
    "    categories=\"atp_c_binding\",\n",
    "    metabolites_to_add={\n",
    "        \"hex1_c\": -1,\n",
    "        \"atp_c\": -1,\n",
    "        \"hex1_A_c\": 1});\n",
    "\n",
    "HEX1.make_enzyme_module_reaction(\n",
    "    \"HEX1_5\",\n",
    "    name=\"Automatic\",\n",
    "    subsystem=\"Glycolysis\",\n",
    "    reversible=True,\n",
    "    categories=\"competitive_inhibition\",\n",
    "    metabolites_to_add={\n",
    "        \"hex1_G_c\": -1,\n",
    "        \"_23dpg_c\": -1,\n",
    "        \"hex1_G_CI_c\": 1});\n",
    "\n",
    "HEX1.make_enzyme_module_reaction(\n",
    "    \"HEX1_6\",\n",
    "    name=\"Automatic\",\n",
    "    subsystem=\"Glycolysis\",\n",
    "    reversible=True,\n",
    "    categories=\"atp_c_binding\",\n",
    "    metabolites_to_add={\n",
    "        \"hex1_G_c\": -1,\n",
    "        \"atp_c\": -1,\n",
    "        \"hex1_AG_c\": 1});\n",
    "\n",
    "HEX1.make_enzyme_module_reaction(\n",
    "    \"HEX1_7\",\n",
    "    name=\"Automatic\",\n",
    "    subsystem=\"Glycolysis\",\n",
    "    reversible=True,\n",
    "    categories=\"glc__D_c_binding\",\n",
    "    metabolites_to_add={\n",
    "        \"hex1_A_c\": -1,\n",
    "        \"glc__D_c\": -1,\n",
    "        \"hex1_AG_c\": 1});\n",
    "\n",
    "HEX1.make_enzyme_module_reaction(\n",
    "    \"HEX1_8\",\n",
    "    name=\"Automatic\",\n",
    "    subsystem=\"Glycolysis\",\n",
    "    reversible=True,\n",
    "    categories=\"catalyzation\",\n",
    "    metabolites_to_add={\n",
    "        \"hex1_AG_c\": -1,\n",
    "        \"hex1_c\": 1,\n",
    "        \"adp_c\": 1,\n",
    "        \"g6p_c\": 1,\n",
    "        \"h_c\": 1});\n",
    "\n",
    "# Access categorized attribute for enzyme module reactions and print\n",
    "for group in HEX1.enzyme_module_reactions_categorized:\n",
    "    print(\"{0}: {1}\\n\".format(\n",
    "        group.id, str(sorted([m.id for m in group.members]))))"
   ]
  },
  {
   "cell_type": "markdown",
   "metadata": {},
   "source": [
    "#### Unify Rate Parameters"
   ]
  },
  {
   "cell_type": "code",
   "execution_count": 7,
   "metadata": {
    "execution": {
     "iopub.execute_input": "2020-10-25T22:26:37.683537Z",
     "iopub.status.busy": "2020-10-25T22:26:37.682476Z",
     "iopub.status.idle": "2020-10-25T22:26:37.920640Z",
     "shell.execute_reply": "2020-10-25T22:26:37.921469Z"
    }
   },
   "outputs": [
    {
     "name": "stdout",
     "output_type": "stream",
     "text": [
      "\n",
      "Category: product_inhibition\n",
      "----------------------------\n",
      "HEX1_1: kf_HEX1_1*(adp_c(t)*hex1_c(t) - hex1_A_PI_c(t)/Keq_HEX1_1)\n",
      "HEX1_2: kf_HEX1_2*(g6p_c(t)*hex1_c(t) - hex1_G_PI_c(t)/Keq_HEX1_2)\n",
      "\n",
      "Category: glc__D_c_binding\n",
      "--------------------------\n",
      "HEX1_3: kf_HEX1_G*(glc__D_c(t)*hex1_c(t) - hex1_G_c(t)/Keq_HEX1_G)\n",
      "HEX1_7: kf_HEX1_G*(glc__D_c(t)*hex1_A_c(t) - hex1_AG_c(t)/Keq_HEX1_G)\n",
      "\n",
      "Category: atp_c_binding\n",
      "-----------------------\n",
      "HEX1_4: kf_HEX1_A*(atp_c(t)*hex1_c(t) - hex1_A_c(t)/Keq_HEX1_A)\n",
      "HEX1_6: kf_HEX1_A*(atp_c(t)*hex1_G_c(t) - hex1_AG_c(t)/Keq_HEX1_A)\n",
      "\n",
      "Category: competitive_inhibition\n",
      "--------------------------------\n",
      "HEX1_5: kf_HEX1_5*(_23dpg_c(t)*hex1_G_c(t) - hex1_G_CI_c(t)/Keq_HEX1_5)\n",
      "\n",
      "Category: catalyzation\n",
      "----------------------\n",
      "HEX1_8: kf_HEX1*(hex1_AG_c(t) - adp_c(t)*g6p_c(t)*hex1_c(t)/Keq_HEX1)\n"
     ]
    }
   ],
   "source": [
    "abbreviations = [\"A\", \"G\"]\n",
    "ligands = [atp_c, glc__D_c]\n",
    "\n",
    "for met, unified_id in zip(ligands, abbreviations):\n",
    "    group = HEX1.enzyme_module_reactions_categorized.get_by_id(\n",
    "        \"_\".join((met.id, \"binding\")))\n",
    "    reactions = sorted(group.members, key=attrgetter(\"id\"))\n",
    "    HEX1.unify_rate_parameters(\n",
    "        reactions, unified_id, rate_type=1,\n",
    "        enzyme_prefix=True)\n",
    "\n",
    "HEX1.unify_rate_parameters(\n",
    "    HEX1.enzyme_module_reactions_categorized.get_by_id(\"catalyzation\").members,\n",
    "    \"HEX1\")\n",
    "\n",
    "# Access categorized attribute for enzyme module reactions and print\n",
    "for group in HEX1.enzyme_module_reactions_categorized:\n",
    "    header = \"Category: \" + group.id\n",
    "    print(\"\\n\" + header + \"\\n\" + \"-\" * len(header))\n",
    "    for reaction in sorted(group.members, key=attrgetter(\"id\")):\n",
    "        print(reaction.id + \": \" + str(reaction.rate))"
   ]
  },
  {
   "cell_type": "markdown",
   "metadata": {},
   "source": [
    "### Compartments"
   ]
  },
  {
   "cell_type": "code",
   "execution_count": 8,
   "metadata": {
    "execution": {
     "iopub.execute_input": "2020-10-25T22:26:37.940558Z",
     "iopub.status.busy": "2020-10-25T22:26:37.939342Z",
     "iopub.status.idle": "2020-10-25T22:26:37.941533Z",
     "shell.execute_reply": "2020-10-25T22:26:37.939908Z"
    }
   },
   "outputs": [],
   "source": [
    "HEX1.compartments = {\"c\": \"Cytosol\"}"
   ]
  },
  {
   "cell_type": "markdown",
   "metadata": {},
   "source": [
    "## Steady State Concentrations and Rate Constants\n",
    "### Rate Equation"
   ]
  },
  {
   "cell_type": "code",
   "execution_count": 9,
   "metadata": {
    "execution": {
     "iopub.execute_input": "2020-10-25T22:26:37.954871Z",
     "iopub.status.busy": "2020-10-25T22:26:37.954196Z",
     "iopub.status.idle": "2020-10-25T22:26:38.068993Z",
     "shell.execute_reply": "2020-10-25T22:26:38.069849Z"
    }
   },
   "outputs": [
    {
     "name": "stdout",
     "output_type": "stream",
     "text": [
      "kf_HEX1*(Keq_HEX1*hex1_AG_c(t) - adp_c(t)*g6p_c(t)*hex1_c(t))/Keq_HEX1\n"
     ]
    }
   ],
   "source": [
    "catalyzation_rxns = HEX1.enzyme_module_reactions_categorized.get_by_id(\n",
    "    \"catalyzation\").members\n",
    "HEX1.make_enzyme_rate_equation(\n",
    "    catalyzation_rxns,\n",
    "    use_rates=True, update_enzyme=True)\n",
    "\n",
    "print(HEX1.enzyme_rate_equation)"
   ]
  },
  {
   "cell_type": "markdown",
   "metadata": {},
   "source": [
    "### Solve steady state concentrations symbolically"
   ]
  },
  {
   "cell_type": "code",
   "execution_count": 10,
   "metadata": {
    "execution": {
     "iopub.execute_input": "2020-10-25T22:26:38.082955Z",
     "iopub.status.busy": "2020-10-25T22:26:38.081508Z",
     "iopub.status.idle": "2020-10-25T22:27:04.311921Z",
     "shell.execute_reply": "2020-10-25T22:27:04.312465Z"
    }
   },
   "outputs": [],
   "source": [
    "ode_dict = {\n",
    "    sym.Symbol(enzyme_module_form.id): sym.Eq(strip_time(enzyme_module_form.ode), 0)\n",
    "    for enzyme_module_form in HEX1.enzyme_module_forms}\n",
    "\n",
    "# Get enzyme module forms\n",
    "enzyme_module_forms = HEX1.enzyme_module_forms.copy()\n",
    "# Reverse list for increased performance (due to symmetry assumption)\n",
    "# by solving for the most activated/inhibitors bound first.\n",
    "enzyme_module_forms.reverse()\n",
    "\n",
    "enzyme_solutions = {}\n",
    "for enzyme_module_form in enzyme_module_forms:\n",
    "    # Skip dependent variable\n",
    "    if \"hex1_c\" == str(enzyme_module_form):\n",
    "        continue\n",
    "    enzyme_module_form = sym.Symbol(enzyme_module_form.id)\n",
    "    # Susbtitute in previous solutions and solve for the enzyme module form, \n",
    "    equation = ode_dict[enzyme_module_form]\n",
    "    sol = sym.solveset(equation.subs(enzyme_solutions),\n",
    "                       enzyme_module_form)\n",
    "    enzyme_solutions[enzyme_module_form] = list(sol)[0]\n",
    "    # Update the dictionary of solutions with the solutions\n",
    "    enzyme_solutions.update({\n",
    "        enzyme_module_form: sol.subs(enzyme_solutions) \n",
    "        for enzyme_module_form, sol in enzyme_solutions.items()})\n",
    "    \n",
    "enzyme_rate_equation = strip_time(HEX1.enzyme_rate_error(False))\n",
    "\n",
    "# Solve for last unknown concentration symbolically\n",
    "sol = sym.solveset(enzyme_rate_equation.subs(enzyme_solutions),\n",
    "                   \"hex1_c\")\n",
    "\n",
    "# Update solution dictionary with the new solution\n",
    "enzyme_solutions[sym.Symbol(\"hex1_c\")] = list(sol)[0]\n",
    "\n",
    "# Update solutions with free variable solutions\n",
    "enzyme_solutions = {\n",
    "    enzyme_module_form: sym.simplify(solution.subs(enzyme_solutions))\n",
    "    for enzyme_module_form, solution in enzyme_solutions.items()}"
   ]
  },
  {
   "cell_type": "markdown",
   "metadata": {},
   "source": [
    "#### Numerical Values"
   ]
  },
  {
   "cell_type": "code",
   "execution_count": 11,
   "metadata": {
    "execution": {
     "iopub.execute_input": "2020-10-25T22:27:04.317359Z",
     "iopub.status.busy": "2020-10-25T22:27:04.316287Z",
     "iopub.status.idle": "2020-10-25T22:27:04.344884Z",
     "shell.execute_reply": "2020-10-25T22:27:04.341771Z"
    }
   },
   "outputs": [
    {
     "name": "stdout",
     "output_type": "stream",
     "text": [
      "\n",
      "Numerical Values\n",
      "----------------\n",
      "v_HEX1 = 1.12\n",
      "_23dpg_c = 3.1\n",
      "adp_c = 0.29\n",
      "atp_c = 1.6\n",
      "g6p_c = 0.0486\n",
      "glc__D_c = 1.0\n",
      "h_c = 8.99757e-05\n",
      "Keq_HEX1_A = 0.4854368932038835\n",
      "Keq_HEX1_G = 26.315789473684212\n",
      "Keq_HEX1 = 313.11999999999995\n",
      "Keq_HEX1_1 = 1\n",
      "Keq_HEX1_2 = 0.015\n",
      "Keq_HEX1_5 = 0.18181818181818182\n"
     ]
    }
   ],
   "source": [
    "numerical_values = {}\n",
    "\n",
    "# Get ligand IDs and parameter IDs\n",
    "ligand_ids = sorted([str(ligand) for ligand in HEX1.enzyme_module_ligands])\n",
    "parameter_ids = [\"_\".join((HEX1.id, abbrev)) for abbrev in abbreviations]\n",
    "parameter_ids.extend([HEX1.id])\n",
    "\n",
    "# Get the steady state flux value and add to numerical values\n",
    "HEX1.enzyme_rate = glycolysis_hb.reactions.get_by_id(HEX1.id).steady_state_flux\n",
    "numerical_values.update({HEX1.enzyme_flux_symbol_str: HEX1.enzyme_rate})\n",
    "\n",
    "# Get the steady state concentration values and add to numerical values\n",
    "initial_conditions = {\n",
    "    str(ligand): glycolysis_hb.initial_conditions[glycolysis_hb.metabolites.get_by_id(ligand)]\n",
    "    for ligand in ligand_ids}\n",
    "numerical_values.update(initial_conditions)\n",
    "\n",
    "# Define parameter values and add to numerical values\n",
    "# Because of the QEA, invert dissociation constants for Keq\n",
    "parameter_values = {\n",
    "    \"Keq_\" + parameter_id: value \n",
    "    for parameter_id, value in zip(parameter_ids, [1/2.06, 1/0.038, 4000/((1/2.06) * (1/0.038))])}\n",
    "\n",
    "for reaction, value in zip([\"HEX1_1\", \"HEX1_2\", \"HEX1_5\"], [1, 0.015, 1/5.5]):\n",
    "    reaction = HEX1.reactions.get_by_id(reaction)\n",
    "    parameter_values[reaction.Keq_str] = value\n",
    "numerical_values.update(parameter_values)\n",
    "\n",
    "# Display numerical values\n",
    "print(\"\\nNumerical Values\\n----------------\")\n",
    "for k, v in numerical_values.items():\n",
    "    print(\"{0} = {1}\".format(k, v))"
   ]
  },
  {
   "cell_type": "markdown",
   "metadata": {},
   "source": [
    "### Calculate Steady State Concentrations"
   ]
  },
  {
   "cell_type": "markdown",
   "metadata": {},
   "source": [
    "#### Set total enzyme concentration"
   ]
  },
  {
   "cell_type": "code",
   "execution_count": 12,
   "metadata": {
    "execution": {
     "iopub.execute_input": "2020-10-25T22:27:04.352960Z",
     "iopub.status.busy": "2020-10-25T22:27:04.351951Z",
     "iopub.status.idle": "2020-10-25T22:27:04.358204Z",
     "shell.execute_reply": "2020-10-25T22:27:04.358987Z"
    }
   },
   "outputs": [],
   "source": [
    "HEX1.enzyme_concentration_total = 24e-6"
   ]
  },
  {
   "cell_type": "markdown",
   "metadata": {},
   "source": [
    "#### Determine rate constants"
   ]
  },
  {
   "cell_type": "code",
   "execution_count": 13,
   "metadata": {
    "execution": {
     "iopub.execute_input": "2020-10-25T22:27:04.386151Z",
     "iopub.status.busy": "2020-10-25T22:27:04.380228Z",
     "iopub.status.idle": "2020-10-25T22:27:11.912127Z",
     "shell.execute_reply": "2020-10-25T22:27:11.913323Z"
    }
   },
   "outputs": [
    {
     "name": "stdout",
     "output_type": "stream",
     "text": [
      "`xtol` termination condition is satisfied.\n",
      "Number of iterations: 80, function evaluations: 244, CG iterations: 66, optimality: 3.78e-10, constraint violation: 0.00e+00, execution time:  3.3 s.\n",
      "\n",
      "Optimization Success: True\n",
      "Optimization Optimality: 3.7829e-10\n",
      "Parameter Solutions: {'kf_HEX1': 100000000, 'kf_HEX1_A': 9376585, 'kf_HEX1_G': 54549}\n",
      "Concentration Error: 2.2021e-11\n"
     ]
    }
   ],
   "source": [
    "# Substitute values into equations\n",
    "enzyme_solutions = {\n",
    "    enzyme_module_form: sym.simplify(solution.subs(numerical_values))\n",
    "    for enzyme_module_form, solution in enzyme_solutions.items()}\n",
    "\n",
    "args = set()\n",
    "for sol in enzyme_solutions.values():\n",
    "    args.update(sol.atoms(sym.Symbol))\n",
    "\n",
    "enzyme_total_constraint = abs(\n",
    "    strip_time(HEX1.enzyme_concentration_total_error(use_values=False)))\n",
    "\n",
    "# Substitute value for enzyme concentration total\n",
    "enzyme_total_constraint = enzyme_total_constraint.subs({\n",
    "    HEX1.enzyme_total_symbol_str: HEX1.enzyme_concentration_total})\n",
    "# Substitute solutions into constraint and simplify\n",
    "enzyme_total_constraint = sym.simplify(\n",
    "    enzyme_total_constraint.subs(enzyme_solutions))\n",
    "\n",
    "# Create a sorted tuple of the arguments to ensure the input format does not change\n",
    "args = tuple(sorted([str(arg) for arg in list(args)]))\n",
    "# Create the objective function as a lambda function\n",
    "objective_function = lambda x: sym.lambdify(args, enzyme_total_constraint)(*x)\n",
    "\n",
    "# Set arguments for minimization \n",
    "initial_guess = [1e8, 9376585, 52001]\n",
    "kf_bounds = ((1e3, 1e9), (1e3, 1e9), (1e3, 1e9))\n",
    "constraints = (\n",
    "    {\"type\": \"eq\", \"fun\": objective_function})\n",
    "# Find a feasible solution\n",
    "sol = optimize.minimize(\n",
    "    objective_function, x0=initial_guess, method=\"trust-constr\",\n",
    "    bounds=kf_bounds,\n",
    "    options={\"gtol\": 1e-12, \"xtol\": 1e-12, \"maxiter\": 1e4, \"disp\": True})\n",
    "\n",
    "# Check whether optimzation was successful\n",
    "print(\"\\nOptimization Success: {0}\".format(sol.success))\n",
    "if sol.success:\n",
    "    # Update the paramter values dictionary with the feasible solution\n",
    "    parameter_values.update(\n",
    "        dict(zip(args, [round(x) for x in sol.x])))\n",
    "    print(\"Optimization Optimality: {0:.4e}\".format(sol.optimality))\n",
    "    print(\"Parameter Solutions: {:}\".format(str({\n",
    "        arg: parameter_values[arg] for arg in args})))\n",
    "    # Plug solutions back into constraints for validation\n",
    "    print(\"Concentration Error: {0:.4e}\".format(\n",
    "        enzyme_total_constraint.subs(parameter_values)))"
   ]
  },
  {
   "cell_type": "markdown",
   "metadata": {},
   "source": [
    "#### Set initial conditions"
   ]
  },
  {
   "cell_type": "code",
   "execution_count": 14,
   "metadata": {
    "execution": {
     "iopub.execute_input": "2020-10-25T22:27:11.918292Z",
     "iopub.status.busy": "2020-10-25T22:27:11.917085Z",
     "iopub.status.idle": "2020-10-25T22:27:12.108351Z",
     "shell.execute_reply": "2020-10-25T22:27:12.108855Z"
    }
   },
   "outputs": [
    {
     "name": "stdout",
     "output_type": "stream",
     "text": [
      "Ligand Concentrations\n",
      "---------------------\n",
      "glc__D_c = 1.0\n",
      "g6p_c = 0.0486\n",
      "atp_c = 1.6\n",
      "adp_c = 0.29\n",
      "_23dpg_c = 3.1\n",
      "h_c = 8.99757e-05\n",
      "\n",
      "Enzyme Concentrations\n",
      "----------------------\n",
      "hex1_c = 1.157198019683411e-05\n",
      "hex1_A_c = 8.962635964175788e-06\n",
      "hex1_G_c = 5.715827509672656e-08\n",
      "hex1_AG_c = 1.1720872154107623e-08\n",
      "hex1_G_CI_c = 3.221648232724589e-08\n",
      "hex1_A_PI_c = 3.3558742570818916e-06\n",
      "hex1_G_PI_c = 8.435973563492064e-09\n"
     ]
    }
   ],
   "source": [
    "parameter_values.update({\n",
    "    \"kf_\" + rxn: 1e6 for rxn in [\"HEX1_1\", \"HEX1_2\", \"HEX1_5\"]})\n",
    "\n",
    "initial_conditions.update({\n",
    "    str(enzyme_module_form): float(sym.simplify(solution.subs(parameter_values)))\n",
    "    for enzyme_module_form, solution in enzyme_solutions.items()})\n",
    "\n",
    "# Set initial conditions\n",
    "for met, concentration in initial_conditions.items():\n",
    "    HEX1.metabolites.get_by_id(str(met)).ic = concentration\n",
    "    \n",
    "for header, dictlist in zip([\"Ligand\", \"\\nEnzyme\"],\n",
    "                            [HEX1.enzyme_module_ligands, HEX1.enzyme_module_forms]):\n",
    "    header += \" Concentrations\"\n",
    "    print(\"\\n\".join([header, \"-\" * len(header)]))\n",
    "    for forms in dictlist:\n",
    "        ic = initial_conditions[forms.id]\n",
    "        print(\"{0} = {1}\".format(forms.id, ic))"
   ]
  },
  {
   "cell_type": "markdown",
   "metadata": {},
   "source": [
    "### Set Parameters"
   ]
  },
  {
   "cell_type": "code",
   "execution_count": 15,
   "metadata": {
    "execution": {
     "iopub.execute_input": "2020-10-25T22:27:12.113025Z",
     "iopub.status.busy": "2020-10-25T22:27:12.112014Z",
     "iopub.status.idle": "2020-10-25T22:27:12.116944Z",
     "shell.execute_reply": "2020-10-25T22:27:12.117385Z"
    }
   },
   "outputs": [],
   "source": [
    "# Update based on publication values\n",
    "parameter_values.update({\n",
    "    'kf_HEX1': 100000000.0,\n",
    "    'kf_HEX1_A': 9376585.0,\n",
    "    'kf_HEX1_G': 52001.0})\n",
    "\n",
    "# Add the custom parameters and values for kf and Keq to module\n",
    "HEX1.custom_parameters.update(parameter_values)\n",
    "# Assign parameter values for reactions that do not use custom parameters\n",
    "for reaction in HEX1.reactions:\n",
    "    if reaction not in HEX1.custom_rates:\n",
    "        reaction.kf = HEX1.custom_parameters.pop(reaction.kf_str)\n",
    "        reaction.Keq = HEX1.custom_parameters.pop(reaction.Keq_str)"
   ]
  },
  {
   "cell_type": "markdown",
   "metadata": {},
   "source": [
    "### Units"
   ]
  },
  {
   "cell_type": "code",
   "execution_count": 16,
   "metadata": {
    "execution": {
     "iopub.execute_input": "2020-10-25T22:27:12.121374Z",
     "iopub.status.busy": "2020-10-25T22:27:12.120411Z",
     "iopub.status.idle": "2020-10-25T22:27:12.125098Z",
     "shell.execute_reply": "2020-10-25T22:27:12.125520Z"
    }
   },
   "outputs": [],
   "source": [
    "concentration = UnitDefinition(\"mM\", name=\"Millimolar\", list_of_units=[\"millimole\", \"per_litre\"])\n",
    "time = UnitDefinition(\"hr\", name=\"hour\", list_of_units=[\"hour\"])\n",
    "\n",
    "HEX1.add_units([concentration, time])"
   ]
  },
  {
   "cell_type": "markdown",
   "metadata": {},
   "source": [
    "## QC model"
   ]
  },
  {
   "cell_type": "code",
   "execution_count": 17,
   "metadata": {
    "execution": {
     "iopub.execute_input": "2020-10-25T22:27:12.129231Z",
     "iopub.status.busy": "2020-10-25T22:27:12.128470Z",
     "iopub.status.idle": "2020-10-25T22:27:12.139716Z",
     "shell.execute_reply": "2020-10-25T22:27:12.139045Z"
    }
   },
   "outputs": [
    {
     "name": "stdout",
     "output_type": "stream",
     "text": [
      "╒══════════════════════════════════════════╕\n",
      "│ MODEL ID: HEX1                           │\n",
      "│ SIMULATABLE: True                        │\n",
      "│ PARAMETERS NUMERICALY CONSISTENT: True   │\n",
      "╞══════════════════════════════════════════╡\n",
      "╘══════════════════════════════════════════╛\n"
     ]
    }
   ],
   "source": [
    "qcqa_model(HEX1, parameters=True, concentrations=True, \n",
    "           fluxes=False, superfluous=True, elemental=True)"
   ]
  },
  {
   "cell_type": "markdown",
   "metadata": {},
   "source": [
    "#### Errors"
   ]
  },
  {
   "cell_type": "code",
   "execution_count": 18,
   "metadata": {
    "execution": {
     "iopub.execute_input": "2020-10-25T22:27:12.164198Z",
     "iopub.status.busy": "2020-10-25T22:27:12.153397Z",
     "iopub.status.idle": "2020-10-25T22:27:12.180227Z",
     "shell.execute_reply": "2020-10-25T22:27:12.179310Z"
    }
   },
   "outputs": [
    {
     "name": "stdout",
     "output_type": "stream",
     "text": [
      "Concentration Absolute Error: 2.2021e-11\n"
     ]
    }
   ],
   "source": [
    "print(\"Concentration Absolute Error: {0:.4e}\".format(\n",
    "    abs(HEX1.enzyme_concentration_total_error(use_values=True))))"
   ]
  },
  {
   "cell_type": "markdown",
   "metadata": {},
   "source": [
    "### Ordering of internal forms and reactions"
   ]
  },
  {
   "cell_type": "code",
   "execution_count": 19,
   "metadata": {
    "execution": {
     "iopub.execute_input": "2020-10-25T22:27:12.188072Z",
     "iopub.status.busy": "2020-10-25T22:27:12.187399Z",
     "iopub.status.idle": "2020-10-25T22:27:12.191437Z",
     "shell.execute_reply": "2020-10-25T22:27:12.190858Z"
    }
   },
   "outputs": [],
   "source": [
    "new_metabolite_order = [\n",
    "    \"glc__D_c\",\"g6p_c\", \"_23dpg_c\", \"atp_c\", \"adp_c\", \"h_c\", \n",
    "    \"hex1_c\", \"hex1_A_c\", \"hex1_G_c\",\"hex1_AG_c\", \"hex1_G_CI_c\", \n",
    "    \"hex1_A_PI_c\", \"hex1_G_PI_c\"]\n",
    "\n",
    "if len(HEX1.metabolites) == len(new_metabolite_order):\n",
    "    HEX1.metabolites = DictList(\n",
    "        HEX1.metabolites.get_by_any(new_metabolite_order))\n",
    "    \n",
    "new_reaction_order = [\n",
    "    \"HEX1_1\", \"HEX1_2\", \"HEX1_3\", \"HEX1_4\",\n",
    "    \"HEX1_5\", \"HEX1_6\", \"HEX1_7\", \"HEX1_8\"]\n",
    "\n",
    "if len(HEX1.reactions) == len(new_reaction_order):\n",
    "    HEX1.reactions = DictList(\n",
    "        HEX1.reactions.get_by_any(new_reaction_order))"
   ]
  },
  {
   "cell_type": "markdown",
   "metadata": {},
   "source": [
    "## Simulation\n",
    "### Merge model"
   ]
  },
  {
   "cell_type": "code",
   "execution_count": 20,
   "metadata": {
    "execution": {
     "iopub.execute_input": "2020-10-25T22:27:12.200857Z",
     "iopub.status.busy": "2020-10-25T22:27:12.199450Z",
     "iopub.status.idle": "2020-10-25T22:27:12.289803Z",
     "shell.execute_reply": "2020-10-25T22:27:12.288709Z"
    }
   },
   "outputs": [],
   "source": [
    "# Merge the EnzymeModule into the MassModel\n",
    "glycolysis_hb_HEX1 = glycolysis_hb.merge(HEX1, inplace=False)\n",
    "# Remove the HEX1 MassReaction\n",
    "glycolysis_hb_HEX1.remove_reactions([\n",
    "    glycolysis_hb_HEX1.reactions.get_by_id(\"HEX1\")])"
   ]
  },
  {
   "cell_type": "markdown",
   "metadata": {},
   "source": [
    "### Simulate"
   ]
  },
  {
   "cell_type": "code",
   "execution_count": 21,
   "metadata": {
    "execution": {
     "iopub.execute_input": "2020-10-25T22:27:12.316895Z",
     "iopub.status.busy": "2020-10-25T22:27:12.309212Z",
     "iopub.status.idle": "2020-10-25T22:27:16.663849Z",
     "shell.execute_reply": "2020-10-25T22:27:16.663050Z"
    }
   },
   "outputs": [
    {
     "name": "stdout",
     "output_type": "stream",
     "text": [
      "Successfully loaded MassModel 'Glycolysis_Hemoglobin_HEX1' into RoadRunner.\n"
     ]
    },
    {
     "data": {
      "image/png": "[encoded data removed]",
      "text/plain": [
       "<Figure size 432x288 with 1 Axes>"
      ]
     },
     "metadata": {
      "needs_background": "light"
     },
     "output_type": "display_data"
    }
   ],
   "source": [
    "# Setup simulation object, ensure model is at steady state\n",
    "sim = Simulation(glycolysis_hb_HEX1, verbose=True)\n",
    "\n",
    "sim.find_steady_state(glycolysis_hb_HEX1, strategy=\"simulate\",\n",
    "                      update_values=True, tfinal=1e4)\n",
    "# Simulate from 0 to 1000 with 10001 points in the output\n",
    "conc_sol, flux_sol = sim.simulate(glycolysis_hb_HEX1,\n",
    "                                  time=(0, 1e3, 1e4 + 1))\n",
    "# Quickly render and display time profiles \n",
    "conc_sol.view_time_profile()"
   ]
  },
  {
   "cell_type": "markdown",
   "metadata": {},
   "source": [
    "## Export"
   ]
  },
  {
   "cell_type": "code",
   "execution_count": 22,
   "metadata": {
    "execution": {
     "iopub.execute_input": "2020-10-25T22:27:16.680928Z",
     "iopub.status.busy": "2020-10-25T22:27:16.679175Z",
     "iopub.status.idle": "2020-10-25T22:27:16.874069Z",
     "shell.execute_reply": "2020-10-25T22:27:16.874502Z"
    }
   },
   "outputs": [],
   "source": [
    "# Export model as JSON\n",
    "json.save_json_model(\n",
    "    mass_model=HEX1,\n",
    "    filename=path.abspath(path.join(\"data\", \"models\", \"JSON\", HEX1.id + \".json\")))\n",
    "# Export model as SBML\n",
    "sbml.write_sbml_model(\n",
    "    mass_model=HEX1,\n",
    "    filename=path.abspath(path.join(\"data\", \"models\", \"SBML\", HEX1.id + \".xml.zip\")))"
   ]
  },
  {
   "cell_type": "code",
   "execution_count": 23,
   "metadata": {
    "execution": {
     "iopub.execute_input": "2020-10-25T22:27:16.878692Z",
     "iopub.status.busy": "2020-10-25T22:27:16.877975Z",
     "iopub.status.idle": "2020-10-25T22:27:16.976859Z",
     "shell.execute_reply": "2020-10-25T22:27:16.977341Z"
    }
   },
   "outputs": [
    {
     "name": "stdout",
     "output_type": "stream",
     "text": [
      "Exports finished for 1 models\n"
     ]
    }
   ],
   "source": [
    "# Export value tables\n",
    "from table_export import export_csv_files_for_models\n",
    "export_csv_files_for_models([HEX1], \"for_hex1_notebook\")"
   ]
  }
 ],
 "metadata": {
  "kernelspec": {
   "display_name": "Python 3",
   "language": "python",
   "name": "python3"
  },
  "language_info": {
   "codemirror_mode": {
    "name": "ipython",
    "version": 3
   },
   "file_extension": ".py",
   "mimetype": "text/x-python",
   "name": "python",
   "nbconvert_exporter": "python",
   "pygments_lexer": "ipython3",
   "version": "3.7.9"
  }
 },
 "nbformat": 4,
 "nbformat_minor": 2
}
