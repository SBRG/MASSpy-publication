{
 "cells": [
  {
   "cell_type": "markdown",
   "metadata": {},
   "source": [
    "# Validation of Catalytic Potential Models\n",
    "All models are reconstructed based on the information from Yurkovich et al., “Network-Level Allosteric Effects Are Elucidated by Detailing How Ligand-Binding Events Modulate Utilization of Catalytic Potentials.”\n",
    "\n",
    "__URL:__ https://doi.org/10.1371/journal.pcbi.1006356\n",
    "\n",
    "## Setup\n",
    "#### Import packages"
   ]
  },
  {
   "cell_type": "code",
   "execution_count": null,
   "metadata": {
    "execution": {
     "iopub.execute_input": "2020-10-24T16:55:56.413624Z",
     "iopub.status.busy": "2020-10-24T16:55:56.412578Z",
     "iopub.status.idle": "2020-10-24T16:55:58.613407Z",
     "shell.execute_reply": "2020-10-24T16:55:58.613918Z"
    }
   },
   "outputs": [],
   "source": [
    "from os import path \n",
    "\n",
    "import matplotlib as mpl\n",
    "import matplotlib.pyplot as plt\n",
    "\n",
    "import numpy as np\n",
    "\n",
    "import roadrunner as rr\n",
    "\n",
    "import mass\n",
    "from mass import MassConfiguration, Simulation, MassSolution\n",
    "from mass.io import json\n",
    "from mass.visualization import plot_time_profile, plot_phase_portrait\n",
    "\n",
    "print(\"MASSpy version: \" + mass.__version__)"
   ]
  },
  {
   "cell_type": "markdown",
   "metadata": {},
   "source": [
    "#### Set configurations"
   ]
  },
  {
   "cell_type": "code",
   "execution_count": null,
   "metadata": {
    "execution": {
     "iopub.execute_input": "2020-10-24T16:55:58.617401Z",
     "iopub.status.busy": "2020-10-24T16:55:58.616829Z",
     "iopub.status.idle": "2020-10-24T16:55:58.622569Z",
     "shell.execute_reply": "2020-10-24T16:55:58.623096Z"
    }
   },
   "outputs": [],
   "source": [
    "MASSCONFIGURATION = MassConfiguration()\n",
    "\n",
    "MASSCONFIGURATION.decimal_precision = 12\n",
    "\n",
    "# Configure the roadrunner options to prevent excessive logging output and increase performance\n",
    "rr.Config.setValue(\n",
    "    rr.Config.ROADRUNNER_DISABLE_PYTHON_DYNAMIC_PROPERTIES, False)\n",
    "rr.Config.setValue(rr.Config.MAX_OUTPUT_ROWS, 1e6)"
   ]
  },
  {
   "cell_type": "markdown",
   "metadata": {},
   "source": [
    "## Load Models"
   ]
  },
  {
   "cell_type": "code",
   "execution_count": null,
   "metadata": {
    "execution": {
     "iopub.execute_input": "2020-10-24T16:55:58.626440Z",
     "iopub.status.busy": "2020-10-24T16:55:58.625859Z",
     "iopub.status.idle": "2020-10-24T16:55:58.631970Z",
     "shell.execute_reply": "2020-10-24T16:55:58.632445Z"
    }
   },
   "outputs": [],
   "source": [
    "# Function to load a model \n",
    "def load_model(model_id):\n",
    "    filename = model_id + \".json\"\n",
    "    filepath = path.abspath(path.join(\"data\", \"models\", \"JSON\", filename))\n",
    "    model = json.load_json_model(filepath)\n",
    "    return model\n",
    "\n",
    "# Function to save a figure\n",
    "def save_figure(filename):\n",
    "    plt.gca().get_figure()\n",
    "    filepath = path.abspath(path.join(\"data\", \"figures\", filename))\n",
    "    plt.savefig(fname=filepath)"
   ]
  },
  {
   "cell_type": "code",
   "execution_count": null,
   "metadata": {
    "execution": {
     "iopub.execute_input": "2020-10-24T16:55:58.636492Z",
     "iopub.status.busy": "2020-10-24T16:55:58.635921Z",
     "iopub.status.idle": "2020-10-24T16:56:18.945530Z",
     "shell.execute_reply": "2020-10-24T16:56:18.944577Z"
    },
    "scrolled": false
   },
   "outputs": [],
   "source": [
    "model_ids = [\n",
    "    \"Glycolysis\", \n",
    "    \"Glycolysis_Hb\",\n",
    "    \"Glycolysis_PFK\",\n",
    "    \"Glycolysis_PYK\",\n",
    "    \"Glycolysis_Hb_HEX1\",\n",
    "    \"Glycolysis_Hb_PFK\",\n",
    "    \"Glycolysis_Hb_PYK\",\n",
    "    \"Glycolysis_PFK_PYK\",\n",
    "    \"Glycolysis_Hb_PFK_PYK\",\n",
    "    \"Glycolysis_Hb_HEX1_PFK\",\n",
    "    \"Glycolysis_Hb_HEX1_PYK\",\n",
    "    \"Glycolysis_FKRM\",\n",
    "]\n",
    "\n",
    "models = list(map(load_model, model_ids))\n",
    "simulations = [Simulation(model, verbose=True) for model in models]"
   ]
  },
  {
   "cell_type": "markdown",
   "metadata": {},
   "source": [
    "## Reproduce Figures\n",
    "### Define functions for catalytic potential"
   ]
  },
  {
   "cell_type": "code",
   "execution_count": null,
   "metadata": {
    "execution": {
     "iopub.execute_input": "2020-10-24T16:56:18.953450Z",
     "iopub.status.busy": "2020-10-24T16:56:18.952811Z",
     "iopub.status.idle": "2020-10-24T16:56:18.956154Z",
     "shell.execute_reply": "2020-10-24T16:56:18.955498Z"
    }
   },
   "outputs": [],
   "source": [
    "def make_energy_charge(conc_sol):\n",
    "    occ = 2 * conc_sol.atp_c + conc_sol.adp_c\n",
    "    cap = 2 * conc_sol.atp_c + 2 * conc_sol.adp_c + 2 * conc_sol.amp_c\n",
    "    return  occ / cap\n",
    "\n",
    "def make_active_fraction(conc_sol, enzyme_module):\n",
    "    active = enzyme_module.enzyme_module_forms_categorized.get_by_id(\n",
    "        enzyme_module.id + \"_Active\")\n",
    "    active = np.array(sum([conc_sol[m.id] for m in active.members]))\n",
    "    total = np.array(sum([conc_sol[m.id] for m in enzyme_module.enzyme_module_forms]))\n",
    "    return active / total"
   ]
  },
  {
   "cell_type": "markdown",
   "metadata": {},
   "source": [
    "### Figures from Main Text\n",
    "#### Figure 2"
   ]
  },
  {
   "cell_type": "code",
   "execution_count": null,
   "metadata": {
    "execution": {
     "iopub.execute_input": "2020-10-24T16:56:18.971108Z",
     "iopub.status.busy": "2020-10-24T16:56:18.965504Z",
     "iopub.status.idle": "2020-10-24T16:56:25.079972Z",
     "shell.execute_reply": "2020-10-24T16:56:25.079337Z"
    }
   },
   "outputs": [],
   "source": [
    "tfinal = 1000\n",
    "npoints = tfinal*5 + 1\n",
    "fig, axes = plt.subplots(nrows=1, ncols=3, figsize=(15, 6), constrained_layout=True)\n",
    "axes = axes.flatten()\n",
    "\n",
    "xlims = [(0.65, 1.), (0.67, 0.98), (0.6, 1.)]\n",
    "ylims = [(0.78, 0.885), (0.84, 1.01), (0.15, 0.88)]\n",
    "colors = [\"blue\", \"red\"]\n",
    "\n",
    "# Initialize counter\n",
    "i = 0\n",
    "for model, sim in zip(models, simulations):\n",
    "    if model.id not in [\"Glycolysis_Hb_HEX1\",\n",
    "                        \"Glycolysis_Hb_PFK\",\n",
    "                        \"Glycolysis_Hb_PYK\"]:\n",
    "        continue\n",
    "    ax = axes[i]\n",
    "    # Get enzyme module\n",
    "    enzyme_id = model.id.split(\"_\")[-1]\n",
    "    enzyme_module = model.enzyme_modules.get_by_id(enzyme_id)\n",
    "    # Ensure model is in steady state\n",
    "    conc_sol, flux_sol = sim.find_steady_state(model, strategy=\"simulate\",\n",
    "                                               update_values=True,\n",
    "                                               decimal_precision=True,\n",
    "                                               steps=1e5, tfinal=1e4)\n",
    "\n",
    "    # Plot initial energy charge and active fractions\n",
    "    conc_sol[\"Energy_Charge\"] = make_energy_charge(conc_sol)\n",
    "    ax.plot([conc_sol[\"Energy_Charge\"], conc_sol[\"Energy_Charge\"]], [0, 1.1],\n",
    "            color=\"grey\", linestyle=\"--\")\n",
    "\n",
    "    active_key = enzyme_id + \" active fraction\"\n",
    "    conc_sol[active_key] = make_active_fraction(conc_sol, enzyme_module)\n",
    "    ax.plot([0, 1.1], [conc_sol[active_key], conc_sol[active_key]],\n",
    "            color=\"grey\", linestyle=\"--\")\n",
    "\n",
    "    # Simulate with perturbations, use variable step size in solution output\n",
    "    for j, perturbation in enumerate([{\"kf_ATPM\": \"kf_ATPM * 1.5\"}, {\"kf_ATPM\": \"kf_ATPM * 0.85\"}]):\n",
    "        if j == 0:\n",
    "            label = \"50% increase\"\n",
    "        else:\n",
    "            label = \"15% decrease\"\n",
    "\n",
    "        # Set options for plot legends\n",
    "        if i == 1:\n",
    "            legend = [label + \" in ATP utilization\", \"lower outside\"]\n",
    "            time_points_legend=\"upper outside\"\n",
    "\n",
    "        else:\n",
    "            legend = None\n",
    "            time_points_legend = None\n",
    "\n",
    "        # Simulate model with percent change\n",
    "        print(\" \".join((\"Simulating\", model.id, \"with\", label)))\n",
    "        conc_sol, flux_sol = sim.simulate(\n",
    "            model, time=(0, tfinal, npoints),\n",
    "            perturbations=perturbation)\n",
    "\n",
    "        conc_sol[active_key] = make_active_fraction(conc_sol, enzyme_module)\n",
    "        conc_sol[\"Energy_Charge\"] = make_energy_charge(conc_sol)\n",
    "\n",
    "        plot_phase_portrait(\n",
    "            conc_sol, x=\"Energy_Charge\", y=active_key, ax=ax, legend=legend,\n",
    "            xlabel=\"Energy Charge (E.C.)\", ylabel=active_key,\n",
    "            xlim=xlims[i], ylim=ylims[i], title=model.id,\n",
    "            color=colors[j], linestyle=\"--\",\n",
    "            annotate_time_points=\"endpoints\",\n",
    "            annotate_time_points_color=[\"black\"],\n",
    "            annotate_time_points_legend=time_points_legend)\n",
    "\n",
    "    i += 1\n",
    "    print(\"Finished for \" + model.id)\n",
    "save_figure(\"Reproduced-Fig2.pdf\")"
   ]
  },
  {
   "cell_type": "markdown",
   "metadata": {},
   "source": [
    "#### Figure 4"
   ]
  },
  {
   "cell_type": "code",
   "execution_count": null,
   "metadata": {
    "execution": {
     "iopub.execute_input": "2020-10-24T16:56:25.094355Z",
     "iopub.status.busy": "2020-10-24T16:56:25.088905Z",
     "iopub.status.idle": "2020-10-24T16:56:30.668866Z",
     "shell.execute_reply": "2020-10-24T16:56:30.668141Z"
    },
    "scrolled": false
   },
   "outputs": [],
   "source": [
    "tfinal = 1000\n",
    "npoints = tfinal*5 + 1\n",
    "fig, axes = plt.subplots(nrows=2, ncols=3, figsize=(15, 11),\n",
    "                         constrained_layout=True)\n",
    "\n",
    "i = 0\n",
    "xlims = [(0.68, 0.92), (0.68, 1.02), (0.68, 0.92),\n",
    "         (0.75, 1.02), (0.75, 1.02), (0.78, 0.89)]\n",
    "\n",
    "ylims = [(0.77, 0.89), (0.70, 1.02), (0.35, 1.01),\n",
    "         (0.78, 0.89), (0.38, 0.91), (0.38, 0.94)]\n",
    "\n",
    "colors = [\"blue\", \"red\"]\n",
    "\n",
    "for model, sim in zip(models, simulations):\n",
    "    if model.id not in [\"Glycolysis_FKRM\"]:\n",
    "        continue\n",
    "    else:\n",
    "        enzyme_ids = [\"HEX1\", \"PFK\", \"PYK\"]\n",
    "    # Get enzyme modules\n",
    "    HEX1 = model.enzyme_modules.get_by_id(enzyme_ids[0])\n",
    "    PFK = model.enzyme_modules.get_by_id(enzyme_ids[1])\n",
    "    PYK = model.enzyme_modules.get_by_id(enzyme_ids[2])\n",
    "\n",
    "    # Plot initial energy charge and active fractions\n",
    "    conc_sol, flux_sol = sim.find_steady_state(model, strategy=\"simulate\",\n",
    "                                               update_values=True,\n",
    "                                               decimal_precision=True,\n",
    "                                               steps=1e5, tfinal=1e4)\n",
    "    conc_sol[\"Energy_Charge\"] = make_energy_charge(conc_sol)\n",
    "    conc_sol[\"HEX1_active_fraction\"] = make_active_fraction(conc_sol, HEX1)\n",
    "    conc_sol[\"PFK_active_fraction\"] = make_active_fraction(conc_sol, PFK)\n",
    "    conc_sol[\"PYK_active_fraction\"] = make_active_fraction(conc_sol, PYK)\n",
    "    for i, enzyme_id in enumerate(enzyme_ids):\n",
    "        # Plot energy charge\n",
    "        axes[0][i].plot([conc_sol[\"Energy_Charge\"], conc_sol[\"Energy_Charge\"]], [0, 1.1],\n",
    "                        color=\"grey\", linestyle=\"--\")\n",
    "        # Plot active fraction\n",
    "        active_key = enzyme_id + \"_active_fraction\"\n",
    "        axes[0][i].plot([0, 1.1], [conc_sol[active_key], conc_sol[active_key]],\n",
    "                        color=\"grey\", linestyle=\"--\")\n",
    "    \n",
    "    # Simulate with perturbations\n",
    "    for j, perturbation in enumerate([{\"kf_ATPM\": \"kf_ATPM * 1.5\"}, {\"kf_ATPM\": \"kf_ATPM * 0.85\"}]):\n",
    "        if j == 0:\n",
    "            label = \"50% increase\"\n",
    "        else:\n",
    "            label = \"15% decrease\"\n",
    "            \n",
    "        # Simulate model with percent change and make pooled solutions\n",
    "        print(\" \".join((\"Simulating\", model.id, \"with\", label)))\n",
    "        conc_sol, flux_sol = sim.simulate(\n",
    "            model, time=(0, tfinal, npoints),\n",
    "            perturbations=perturbation)\n",
    "        conc_sol[\"Energy_Charge\"] = make_energy_charge(conc_sol)\n",
    "        conc_sol[\"HEX1_active_fraction\"] = make_active_fraction(conc_sol, HEX1)\n",
    "        conc_sol[\"PFK_active_fraction\"] = make_active_fraction(conc_sol, PFK)\n",
    "        conc_sol[\"PYK_active_fraction\"] = make_active_fraction(conc_sol, PYK)\n",
    "\n",
    "        # Plot energy charge vs active fraction for each enzyme.\n",
    "        for i, enzyme_id in enumerate(enzyme_ids):\n",
    "            if i == 1:\n",
    "                time_points_legend = \"upper outside\"\n",
    "            else:\n",
    "                time_points_legend = None\n",
    "\n",
    "            active_key = enzyme_id + \"_active_fraction\"\n",
    "            plot_phase_portrait(\n",
    "                conc_sol, x=\"Energy_Charge\", y=active_key, ax=axes[0][i],\n",
    "                xlabel=\"Energy Charge (E.C.)\", ylabel=active_key.replace(\"_\", \" \"),\n",
    "                xlim=xlims[i], ylim=ylims[i],\n",
    "                color=colors[j], linestyle=\"--\",\n",
    "                annotate_time_points=\"endpoints\",\n",
    "                annotate_time_points_color=[\"black\"],\n",
    "                annotate_time_points_legend=time_points_legend)\n",
    "\n",
    "        # Plot active fractions against one another\n",
    "        for i, (x, y) in enumerate(zip([\"PFK_active_fraction\", \"PFK_active_fraction\", \"HEX1_active_fraction\"],\n",
    "                                       [\"HEX1_active_fraction\", \"PYK_active_fraction\", \"PYK_active_fraction\"])):\n",
    "            if i == 1:\n",
    "                legend = [label + \" in ATP utilization\", \"lower outside\"]\n",
    "            else:\n",
    "                legend = None\n",
    "\n",
    "            plot_phase_portrait(\n",
    "                conc_sol, x=x, y=y, ax=axes[1][i], legend=legend,\n",
    "                xlabel=x.replace(\"_\", \" \"), ylabel=y.replace(\"_\", \" \"),\n",
    "                xlim=xlims[i + 3], ylim=ylims[i + 3],\n",
    "                color=colors[j], linestyle=\"--\",\n",
    "                annotate_time_points=\"endpoints\",\n",
    "                annotate_time_points_color=[\"black\"])\n",
    "save_figure(\"Reproduced-Fig4.pdf\")"
   ]
  },
  {
   "cell_type": "markdown",
   "metadata": {},
   "source": [
    "### Supplemental Figures\n",
    "#### Figure A"
   ]
  },
  {
   "cell_type": "code",
   "execution_count": null,
   "metadata": {
    "execution": {
     "iopub.execute_input": "2020-10-24T16:56:30.684284Z",
     "iopub.status.busy": "2020-10-24T16:56:30.677892Z",
     "iopub.status.idle": "2020-10-24T16:56:33.032372Z",
     "shell.execute_reply": "2020-10-24T16:56:33.032791Z"
    },
    "scrolled": false
   },
   "outputs": [],
   "source": [
    "tfinal = 20\n",
    "npoints = tfinal*25 + 1\n",
    "colors = mpl.cm.RdBu(np.linspace(0, 1, len(models)), alpha=0.5)\n",
    "colors = [mpl.colors.to_hex(c) for c in colors]\n",
    "fig, (ax1, ax2) = plt.subplots(nrows=2, ncols=1, figsize=(12, 6),\n",
    "                               constrained_layout=True)\n",
    "\n",
    "for i, (model, sim) in enumerate(zip(models, simulations)):\n",
    "    # Simulate model\n",
    "    conc_sol, flux_sol = sim.simulate(\n",
    "        model, time=(0, tfinal, npoints),\n",
    "        perturbations={\"kf_ATPM\": \"kf_ATPM * 1.5\"})\n",
    "    # Get ATP metabolite\n",
    "    atp_c = model.metabolites.get_by_id(\"atp_c\")\n",
    "    # Get reactions that utilize ATP\n",
    "    atp_reactions = list(atp_c.reactions)\n",
    "    production = []\n",
    "    consumption = []\n",
    "    for rxn in atp_reactions:\n",
    "        if atp_c in rxn.products:\n",
    "            production.append(rxn)\n",
    "        else:\n",
    "            consumption.append(rxn)\n",
    "    # Create solution for net rate of ATP usage\n",
    "    flux_sol.make_aggregate_solution(\n",
    "        \"Net_ATP_Usage_Rate\", variables=production + consumption,\n",
    "        equation=\"({0}) - ({1})\".format(\n",
    "            \" + \".join([r.id for r in production]),\n",
    "            \" + \".join([r.id for r in consumption])))\n",
    "    plot_time_profile(\n",
    "        flux_sol, observable=\"Net_ATP_Usage_Rate\", ax=ax1,\n",
    "        legend=(model.id, \"right outside\"), plot_function=\"plot\",\n",
    "        xlabel=\"Time [hr]\", ylabel=\"Rate [mM/hr]\",\n",
    "        xlim=(0, tfinal), ylim=(-1, 0.2),\n",
    "        title=(\"(A)\", {\"size\": \"x-large\"}), color=colors[i])\n",
    "\n",
    "    # Create solution for energy charge\n",
    "    conc_sol[\"Energy_Charge\"] = make_energy_charge(conc_sol)\n",
    "    plot_time_profile(\n",
    "        conc_sol, observable=\"Energy_Charge\", ax=ax2,\n",
    "        legend=(model.id, \"right outside\"), plot_function=\"plot\",\n",
    "        xlabel=\"Time [hr]\", ylabel=\"Energy Charge (E.C.)\",\n",
    "        xlim=(0, tfinal), ylim=(0.6, 0.9),\n",
    "        title=(\"(B)\", {\"size\": \"x-large\"}), color=colors[i])\n",
    "    print(\"Finished for \" + model.id)\n",
    "save_figure(\"Reproduced-Supplemental-FigA.pdf\")"
   ]
  },
  {
   "cell_type": "markdown",
   "metadata": {},
   "source": [
    "#### Figure B"
   ]
  },
  {
   "cell_type": "code",
   "execution_count": null,
   "metadata": {
    "execution": {
     "iopub.execute_input": "2020-10-24T16:56:33.042226Z",
     "iopub.status.busy": "2020-10-24T16:56:33.036123Z",
     "iopub.status.idle": "2020-10-24T16:56:37.272652Z",
     "shell.execute_reply": "2020-10-24T16:56:37.272057Z"
    },
    "scrolled": false
   },
   "outputs": [],
   "source": [
    "tfinal = 1000\n",
    "npoints = tfinal*5 + 1\n",
    "fig, axes = plt.subplots(nrows=2, ncols=2, figsize=(10, 6),\n",
    "                         constrained_layout=True)\n",
    "axes = axes.flatten()\n",
    "fig.delaxes(axes[-1])\n",
    "\n",
    "i = 0\n",
    "for model, sim in zip(models, simulations):\n",
    "    if model.id not in [\"Glycolysis_PFK\", \"Glycolysis_Hb_PFK_PYK\", \"Glycolysis_Hb_HEX1_PFK\"]:\n",
    "        continue\n",
    "    # Simulate model\n",
    "    conc_sol, flux_sol = sim.simulate(\n",
    "        model, time=(0, tfinal, npoints),\n",
    "        perturbations={\"kf_ATPM\": \"kf_ATPM * 1.5\"})\n",
    "    try:\n",
    "        reactions = model.reactions.get_by_any([\n",
    "            \"PFK_R03\", \"PFK_R13\", \"PFK_R23\", \"PFK_R33\", \"PFK_R43\"])\n",
    "        flux_sol.make_aggregate_solution(\n",
    "            \"PFK\", variables=reactions,\n",
    "            equation=\" + \".join([r.id for r in reactions]))\n",
    "        observable = \"PFK\"\n",
    "    except KeyError:\n",
    "        observable = model.reactions.get_by_id(\"PFK\").id\n",
    "    plot_time_profile(\n",
    "        flux_sol, observable=observable, ax=axes[i],\n",
    "        legend=\"lower left\", plot_function=\"semilogx\",\n",
    "        xlabel=\"Time [hr]\", ylabel=\"Rate [mM/hr]\",\n",
    "        xlim=(1e-6, tfinal), \n",
    "        title=(model.id, {\"size\": \"x-large\"}))\n",
    "    i += 1\n",
    "    print(\"Finished for \" + model.id)\n",
    "save_figure(\"Reproduced-Supplemental-FigB.pdf\")"
   ]
  },
  {
   "cell_type": "markdown",
   "metadata": {},
   "source": [
    "#### Figure D"
   ]
  },
  {
   "cell_type": "code",
   "execution_count": null,
   "metadata": {
    "execution": {
     "iopub.execute_input": "2020-10-24T16:56:37.283228Z",
     "iopub.status.busy": "2020-10-24T16:56:37.281993Z",
     "iopub.status.idle": "2020-10-24T16:56:40.327974Z",
     "shell.execute_reply": "2020-10-24T16:56:40.327499Z"
    }
   },
   "outputs": [],
   "source": [
    "tfinal = 1000\n",
    "npoints = tfinal*10 + 1\n",
    "fig, axes = plt.subplots(nrows=2, ncols=1, figsize=(6, 8),\n",
    "                         constrained_layout=True)\n",
    "axes = axes.flatten()\n",
    "colors = [\"blue\", \"red\"]\n",
    "\n",
    "i = 0\n",
    "for model, sim in zip(models, simulations):\n",
    "    if model.id not in [\"Glycolysis_Hb_PYK\", \"Glycolysis_FKRM\"]:\n",
    "        continue\n",
    "    # Use a variable step size for the solution output\n",
    "    for j, perturbation in enumerate([{\"kf_ATPM\": \"kf_ATPM * 1.5\"}, {\"kf_ATPM\": \"kf_ATPM * 0.85\"}]):\n",
    "        if j == 0:\n",
    "            label = \"50% increase\"\n",
    "        else:\n",
    "            label = \"15% decrease\"\n",
    "            \n",
    "        # Simulate model with perturbation\n",
    "        print(\"Simulating \" + model.id + \" with \" + label)\n",
    "        conc_sol, flux_sol = sim.simulate(\n",
    "            model, time=(0, tfinal, npoints),\n",
    "            perturbations=perturbation)\n",
    "        \n",
    "        if i == 1:\n",
    "            legend = [label + \" in ATP utilization\", \"lower outside\"]\n",
    "        else:\n",
    "            legend = None\n",
    "        plot_time_profile(conc_sol, observable=\"fdp_c\", ax=axes[i],\n",
    "                          legend=legend, plot_function=\"semilogx\",\n",
    "                          color=colors[j], xlim=(1e-6, tfinal),\n",
    "                          xlabel= \"Time [hr]\", ylabel=\"Concentration [mM]\",\n",
    "                          title=model.id)\n",
    "    i += 1\n",
    "save_figure(\"Reproduced-Supplemental-FigD.pdf\")"
   ]
  },
  {
   "cell_type": "markdown",
   "metadata": {},
   "source": [
    "#### Figure F"
   ]
  },
  {
   "cell_type": "code",
   "execution_count": null,
   "metadata": {
    "execution": {
     "iopub.execute_input": "2020-10-24T16:56:40.333517Z",
     "iopub.status.busy": "2020-10-24T16:56:40.332742Z",
     "iopub.status.idle": "2020-10-24T16:56:40.377138Z",
     "shell.execute_reply": "2020-10-24T16:56:40.376448Z"
    }
   },
   "outputs": [],
   "source": [
    "from mass.test import create_test_model"
   ]
  },
  {
   "cell_type": "code",
   "execution_count": null,
   "metadata": {
    "execution": {
     "iopub.execute_input": "2020-10-24T16:56:40.386973Z",
     "iopub.status.busy": "2020-10-24T16:56:40.386084Z",
     "iopub.status.idle": "2020-10-24T16:56:46.604107Z",
     "shell.execute_reply": "2020-10-24T16:56:46.603510Z"
    }
   },
   "outputs": [],
   "source": [
    "WCRBC_MA = create_test_model(\"WholeCellRBC_MA_Rates\")\n",
    "WCRBC_MA_sim = Simulation(WCRBC_MA, verbose=True)"
   ]
  },
  {
   "cell_type": "code",
   "execution_count": null,
   "metadata": {
    "execution": {
     "iopub.execute_input": "2020-10-24T16:56:46.619405Z",
     "iopub.status.busy": "2020-10-24T16:56:46.613926Z",
     "iopub.status.idle": "2020-10-24T16:56:53.070575Z",
     "shell.execute_reply": "2020-10-24T16:56:53.069987Z"
    }
   },
   "outputs": [],
   "source": [
    "tfinal = 1000\n",
    "npoints = tfinal*10 + 1\n",
    "fig, axes = plt.subplots(nrows=2, ncols=2, figsize=(14, 10),\n",
    "                         constrained_layout=True)\n",
    "axes = axes.flatten()\n",
    "\n",
    "models += [WCRBC_MA]\n",
    "simulations += [WCRBC_MA_sim]\n",
    "for model, sim in zip(models, simulations):\n",
    "    if model.id not in [\"Glycolysis_Hb\",\n",
    "                        \"Glycolysis_Hb_HEX1\",\n",
    "                        \"Glycolysis_Hb_PFK\",\n",
    "                        \"Glycolysis_Hb_PYK\",\n",
    "                        \"Glycolysis_FKRM\",\n",
    "                        \"WholeCellRBC_MA_Rates\"]:\n",
    "        continue\n",
    "    # Simulate model\n",
    "    conc_sol, flux_sol = sim.simulate(\n",
    "        model, time=(0, tfinal, npoints),\n",
    "        perturbations={\"atp_c\": \"atp_c * 1.5\"})\n",
    "    # Flux through HEX1\n",
    "    try:\n",
    "        reactions = model.reactions.get_by_any([\"HEX1_8\"])\n",
    "        flux_sol.make_aggregate_solution(\n",
    "            \"HEX1\", variables=reactions,\n",
    "            equation=\" + \".join([r.id for r in reactions]))\n",
    "        observable = \"HEX1\"\n",
    "    except KeyError:\n",
    "        observable = model.reactions.get_by_id(\"HEX1\").id\n",
    "    plot_time_profile(\n",
    "        flux_sol, observable=observable, ax=axes[0],\n",
    "        plot_function=\"semilogx\",\n",
    "        xlabel=\"Time [hr]\", ylabel=observable + \" Rate [mM/hr]\",\n",
    "        xlim=(1e-6, tfinal),\n",
    "        title=(\"HEX1 Flux\", {\"size\": \"x-large\"}))\n",
    "\n",
    "    # Flux through PFK\n",
    "    try:\n",
    "        reactions = model.reactions.get_by_any([\n",
    "            \"PFK_R03\", \"PFK_R13\", \"PFK_R23\", \"PFK_R33\", \"PFK_R43\"])\n",
    "        flux_sol.make_aggregate_solution(\n",
    "            \"PFK\", variables=reactions,\n",
    "            equation=\" + \".join([r.id for r in reactions]))\n",
    "        observable = \"PFK\"\n",
    "    except KeyError:\n",
    "        observable = model.reactions.get_by_id(\"PFK\").id\n",
    "    plot_time_profile(\n",
    "        flux_sol, observable=observable, ax=axes[1],\n",
    "        plot_function=\"semilogx\",\n",
    "        xlabel=\"Time [hr]\", ylabel=observable + \" Rate [mM/hr]\",\n",
    "        xlim=(1e-6, tfinal),\n",
    "        title=(\"PFK Flux\", {\"size\": \"x-large\"}))\n",
    "        \n",
    "    # Flux through PYK\n",
    "    try:\n",
    "        reactions = model.reactions.get_by_any([\n",
    "            \"PYK_R05\", \"PYK_R15\", \"PYK_R25\", \"PYK_R35\", \"PYK_R45\"])\n",
    "        flux_sol.make_aggregate_solution(\n",
    "            \"PYK\", variables=reactions,\n",
    "            equation=\" + \".join([r.id for r in reactions]))\n",
    "        observable = \"PYK\"\n",
    "    except KeyError:\n",
    "        observable = model.reactions.get_by_id(\"PYK\").id\n",
    "    plot_time_profile(\n",
    "        flux_sol, observable=observable, ax=axes[2],\n",
    "        plot_function=\"semilogx\",\n",
    "        xlabel=\"Time [hr]\", ylabel=observable + \" Rate [mM/hr]\",\n",
    "        xlim=(1e-6, tfinal),\n",
    "        title=(\"PYK Flux\", {\"size\": \"x-large\"}))\n",
    "    \n",
    "    # Energy Charge\n",
    "    conc_sol[\"Energy_Charge\"] = make_energy_charge(conc_sol)\n",
    "    plot_time_profile(\n",
    "        conc_sol, observable=\"Energy_Charge\", ax=axes[3],\n",
    "        legend=(model.id, \"lower outside\"),\n",
    "        plot_function=\"semilogx\",\n",
    "        xlabel=\"Time [hr]\", ylabel=\"Energy Charge (E.C.)\",\n",
    "        xlim=(1e-6, tfinal),\n",
    "        title=(\"Energy Charge\", {\"size\": \"x-large\"}))\n",
    "    print(\"Finished for \" + model.id)\n",
    "save_figure(\"Reproduced-Supplemental-FigF.pdf\")"
   ]
  }
 ],
 "metadata": {
  "kernelspec": {
   "display_name": "Python 3",
   "language": "python",
   "name": "python3"
  },
  "language_info": {
   "codemirror_mode": {
    "name": "ipython",
    "version": 3
   },
   "file_extension": ".py",
   "mimetype": "text/x-python",
   "name": "python",
   "nbconvert_exporter": "python",
   "pygments_lexer": "ipython3",
   "version": "3.7.9"
  }
 },
 "nbformat": 4,
 "nbformat_minor": 2
}
