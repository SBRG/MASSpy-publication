{
 "cells": [
  {
   "cell_type": "markdown",
   "metadata": {},
   "source": [
    "# Construction of Catalytic Potential Models\n",
    "All models are reconstructed based on the information from Yurkovich et al., “Network-Level Allosteric Effects Are Elucidated by Detailing How Ligand-Binding Events Modulate Utilization of Catalytic Potentials.”\n",
    "\n",
    "__URL:__ https://doi.org/10.1371/journal.pcbi.1006356\n",
    "\n",
    "## Setup\n",
    "#### Import packages"
   ]
  },
  {
   "cell_type": "code",
   "execution_count": null,
   "metadata": {
    "execution": {
     "iopub.execute_input": "2020-10-24T16:54:39.972298Z",
     "iopub.status.busy": "2020-10-24T16:54:39.971317Z",
     "iopub.status.idle": "2020-10-24T16:54:42.132784Z",
     "shell.execute_reply": "2020-10-24T16:54:42.132025Z"
    }
   },
   "outputs": [],
   "source": [
    "from os import path \n",
    "\n",
    "import matplotlib.pyplot as plt\n",
    "\n",
    "import numpy as np\n",
    "\n",
    "import pandas as pd\n",
    "\n",
    "import roadrunner as rr\n",
    "\n",
    "import mass\n",
    "from mass import MassConfiguration, Simulation\n",
    "from mass.io import json, sbml\n",
    "from mass.visualization import plot_time_profile\n",
    "\n",
    "from table_export import export_csv_files_for_models\n",
    "\n",
    "print(\"MASSpy version: \" + mass.__version__)"
   ]
  },
  {
   "cell_type": "markdown",
   "metadata": {},
   "source": [
    "#### Set configurations"
   ]
  },
  {
   "cell_type": "code",
   "execution_count": null,
   "metadata": {
    "execution": {
     "iopub.execute_input": "2020-10-24T16:54:42.139673Z",
     "iopub.status.busy": "2020-10-24T16:54:42.139056Z",
     "iopub.status.idle": "2020-10-24T16:54:42.142772Z",
     "shell.execute_reply": "2020-10-24T16:54:42.142088Z"
    }
   },
   "outputs": [],
   "source": [
    "MASSCONFIGURATION = MassConfiguration()\n",
    "\n",
    "MASSCONFIGURATION.decimal_precision = 12\n",
    "\n",
    "# Configure the roadrunner options to prevent excessive logging output and increase performance\n",
    "rr.Config.setValue(\n",
    "    rr.Config.ROADRUNNER_DISABLE_PYTHON_DYNAMIC_PROPERTIES, False)\n",
    "rr.Config.setValue(rr.Config.MAX_OUTPUT_ROWS, 1e6)"
   ]
  },
  {
   "cell_type": "markdown",
   "metadata": {},
   "source": [
    "## Construct Non-personalized models\n",
    "### Load Base Models\n",
    "Load the following models:\n",
    "\n",
    "\\\\(\\text{Glycolysis}\\\\ \\text{Hemoglobin (Hb)}\\\\ \\text{Hexokinase 1 (HEX1)}\\\\ \\text{Phosphofructokinase (PFK)}\\\\ \\text{Pyruvate Kinase (PYK)}\\\\)"
   ]
  },
  {
   "cell_type": "code",
   "execution_count": null,
   "metadata": {
    "execution": {
     "iopub.execute_input": "2020-10-24T16:54:42.152709Z",
     "iopub.status.busy": "2020-10-24T16:54:42.151019Z",
     "iopub.status.idle": "2020-10-24T16:54:42.451052Z",
     "shell.execute_reply": "2020-10-24T16:54:42.450408Z"
    }
   },
   "outputs": [],
   "source": [
    "# Function to print S matrix dimensions\n",
    "def print_S_dimensions(model):\n",
    "    print(\"{0}: Dim(S) = {1}x{2}\".format(model.id, *model.S.shape))\n",
    "\n",
    "# Function to load a model \n",
    "def load_model(model_id):\n",
    "    filename = model_id + \".json\"\n",
    "    filepath = path.abspath(path.join(\"data\", \"models\", \"JSON\", filename))\n",
    "    model = json.load_json_model(filepath)\n",
    "    print_S_dimensions(model)\n",
    "    return model\n",
    "\n",
    "model_ids = [\"Glycolysis\", \"Hemoglobin\", \"HEX1\", \"PFK\", \"PYK\"]\n",
    "glycolysis, hemoglobin, HEX1, PFK, PYK = list(map(load_model, model_ids))\n",
    "\n",
    "for enzyme_module in [HEX1, PFK, PYK]:\n",
    "    for g in enzyme_module.groups:\n",
    "        g.id = \"_\".join((enzyme_module.id, g.id))"
   ]
  },
  {
   "cell_type": "markdown",
   "metadata": {},
   "source": [
    "### Load Concentration and Parameter Data"
   ]
  },
  {
   "cell_type": "code",
   "execution_count": null,
   "metadata": {
    "execution": {
     "iopub.execute_input": "2020-10-24T16:54:42.459691Z",
     "iopub.status.busy": "2020-10-24T16:54:42.459023Z",
     "iopub.status.idle": "2020-10-24T16:54:42.606539Z",
     "shell.execute_reply": "2020-10-24T16:54:42.606005Z"
    }
   },
   "outputs": [],
   "source": [
    "data_filepath = path.abspath(path.join(\"data\", \"Non-personalized-data.xlsx\"))\n",
    "data_dict = pd.read_excel(\n",
    "    data_filepath, sheet_name=[\"Concentrations\", \"Fluxes\", \"Equilibrium Constants\", \"PERCs\"],\n",
    "    index_col=0)\n",
    "\n",
    "# Function to load a DataFrame into the necessary format\n",
    "def load_dataframe(data_key, drop_units=False):\n",
    "    df = data_dict[data_key]\n",
    "    df = df.replace(\"-\", np.nan)\n",
    "    if drop_units:\n",
    "        df = df.drop(\"Units\", axis=1)\n",
    "    df.columns = [col.replace(\" + \", \"_\") for col in df.columns]\n",
    "    return df\n",
    "\n",
    "conc_df = load_dataframe(\"Concentrations\", drop_units=True)\n",
    "flux_df = load_dataframe(\"Fluxes\", drop_units=True)\n",
    "Keqs_df = load_dataframe(\"Equilibrium Constants\", drop_units=False)\n",
    "perc_df = load_dataframe(\"PERCs\", drop_units=False)\n",
    "\n",
    "all_models = []"
   ]
  },
  {
   "cell_type": "markdown",
   "metadata": {},
   "source": [
    "#### Functions to update models with data"
   ]
  },
  {
   "cell_type": "code",
   "execution_count": null,
   "metadata": {
    "execution": {
     "iopub.execute_input": "2020-10-24T16:54:42.616895Z",
     "iopub.status.busy": "2020-10-24T16:54:42.615876Z",
     "iopub.status.idle": "2020-10-24T16:54:42.621095Z",
     "shell.execute_reply": "2020-10-24T16:54:42.621522Z"
    }
   },
   "outputs": [],
   "source": [
    "# Function to update model concentrations\n",
    "def update_concentrations(model, verbose=False):\n",
    "    concentrations = {}\n",
    "    boundary_conditions = {}\n",
    "    boundary_compartment = \"_\" + list(MASSCONFIGURATION.boundary_compartment).pop()\n",
    "\n",
    "    model_concs = conc_df[model.id]\n",
    "    model_concs = model_concs.dropna()\n",
    "    for met, conc in model_concs.to_dict().items():\n",
    "        if met.endswith(boundary_compartment):\n",
    "            boundary_conditions[met] = conc\n",
    "        else:\n",
    "            concentrations[met] = conc\n",
    "\n",
    "    model.update_initial_conditions(concentrations, verbose=verbose)\n",
    "    model.update_parameters(boundary_conditions, verbose=verbose)\n",
    "    print(model.id + \" concentrations updated.\")\n",
    "    \n",
    "# Function to update model parameter\n",
    "def update_parameter_type(model, parameter_type, verbose=False):\n",
    "    param_df, key = {\n",
    "        \"fluxes\": (flux_df, \"Flux ID\"),\n",
    "        \"equilibrium constants\": (Keqs_df, \"Keq ID\"),\n",
    "        \"PERCs\": (perc_df, \"PERC ID\")}[parameter_type]\n",
    "    model_df = param_df[[key, model.id]]\n",
    "    model_df = model_df.dropna()\n",
    "    value_dict = {param_id: float(param_value) for rxn_id, (param_id, param_value) in model_df.iterrows()}\n",
    "    model.update_parameters(value_dict, verbose=verbose)\n",
    "    print(\" \".join((model.id, parameter_type, \"updated.\")))"
   ]
  },
  {
   "cell_type": "markdown",
   "metadata": {},
   "source": [
    "### Create Models and Export\n",
    "#### Define functions"
   ]
  },
  {
   "cell_type": "code",
   "execution_count": null,
   "metadata": {
    "execution": {
     "iopub.execute_input": "2020-10-24T16:54:42.633339Z",
     "iopub.status.busy": "2020-10-24T16:54:42.630739Z",
     "iopub.status.idle": "2020-10-24T16:54:42.636325Z",
     "shell.execute_reply": "2020-10-24T16:54:42.636825Z"
    }
   },
   "outputs": [],
   "source": [
    "# Function to add an EnzymeModule to a MassModel\n",
    "def add_enzyme_to_model(model, enzyme_module):\n",
    "    new_model = model.merge(enzyme_module, inplace=False)\n",
    "    new_model.remove_reactions([new_model.reactions.get_by_id(enzyme_module.id)])\n",
    "    return new_model\n",
    "\n",
    "# Function to update model values and validate steady state\n",
    "def update_model_and_simulate(model):\n",
    "    print_S_dimensions(model)\n",
    "\n",
    "    update_concentrations(model)\n",
    "    update_parameter_type(model, \"fluxes\")\n",
    "    update_parameter_type(model, \"equilibrium constants\")\n",
    "    update_parameter_type(model, \"PERCs\")\n",
    "\n",
    "    sim = Simulation(model, verbose=True)\n",
    "    sim.find_steady_state(model, strategy=\"simulate\", update_values=True,\n",
    "                          verbose=False, decimal_precision=False,\n",
    "                          steps=1e5, tfinal=1e4)\n",
    "\n",
    "    conc_sol, flux_sol = sim.simulate(model, time=(0, 1e3, 1e4+1),\n",
    "                                      verbose=False, decimal_precision=False)\n",
    "\n",
    "    fig, ax = plt.subplots(nrows=1, ncols=1,\n",
    "                           figsize=(6, 4),\n",
    "                           constrained_layout=True);\n",
    "    plot_time_profile(\n",
    "        conc_sol, ax=ax, plot_function=\"loglog\",\n",
    "        xlabel=\"Time [hr]\", ylabel=\"Conc. [mM]\",\n",
    "        title=model.id + \" Concentration Profile\");\n",
    "\n",
    "# Function to save a model \n",
    "def save_model(model):\n",
    "    # Export model as JSON\n",
    "    json.save_json_model(\n",
    "        mass_model=model, filename=path.abspath(\n",
    "            path.join(\"data\", \"models\", \"JSON\", model.id  + \".json\")))\n",
    "    # Export model as SBML\n",
    "    sbml.write_sbml_model(mass_model=model, filename=path.abspath(\n",
    "            path.join(\"data\", \"models\", \"SBML\", model.id  + \".xml.zip\")))\n",
    "    print(\" \".join((\"Exported\", model.id, \"as JSON and SBML files.\")))"
   ]
  },
  {
   "cell_type": "markdown",
   "metadata": {},
   "source": [
    "#### No Regulation\n",
    "##### Glycolysis"
   ]
  },
  {
   "cell_type": "code",
   "execution_count": null,
   "metadata": {
    "execution": {
     "iopub.execute_input": "2020-10-24T16:54:42.647905Z",
     "iopub.status.busy": "2020-10-24T16:54:42.647116Z",
     "iopub.status.idle": "2020-10-24T16:54:45.722520Z",
     "shell.execute_reply": "2020-10-24T16:54:45.723028Z"
    }
   },
   "outputs": [],
   "source": [
    "model = glycolysis\n",
    "update_model_and_simulate(model)\n",
    "save_model(model)\n",
    "all_models += [model]"
   ]
  },
  {
   "cell_type": "markdown",
   "metadata": {},
   "source": [
    "##### Glycolysis + Hb"
   ]
  },
  {
   "cell_type": "code",
   "execution_count": null,
   "metadata": {
    "execution": {
     "iopub.execute_input": "2020-10-24T16:54:45.731757Z",
     "iopub.status.busy": "2020-10-24T16:54:45.730351Z",
     "iopub.status.idle": "2020-10-24T16:54:49.598362Z",
     "shell.execute_reply": "2020-10-24T16:54:49.598848Z"
    }
   },
   "outputs": [],
   "source": [
    "glycolysis_hb = glycolysis.merge(hemoglobin, inplace=False)\n",
    "glycolysis_hb.id = \"Glycolysis_Hb\"\n",
    "model = glycolysis_hb\n",
    "update_model_and_simulate(model)\n",
    "save_model(model)\n",
    "all_models += [model]"
   ]
  },
  {
   "cell_type": "markdown",
   "metadata": {},
   "source": [
    "#### Regulation With One Enzyme\n",
    "##### Glycolysis + PFK"
   ]
  },
  {
   "cell_type": "code",
   "execution_count": null,
   "metadata": {
    "execution": {
     "iopub.execute_input": "2020-10-24T16:54:49.606228Z",
     "iopub.status.busy": "2020-10-24T16:54:49.605445Z",
     "iopub.status.idle": "2020-10-24T16:54:53.560598Z",
     "shell.execute_reply": "2020-10-24T16:54:53.560088Z"
    }
   },
   "outputs": [],
   "source": [
    "model = add_enzyme_to_model(glycolysis, PFK)\n",
    "update_model_and_simulate(model)\n",
    "save_model(model)\n",
    "all_models += [model]"
   ]
  },
  {
   "cell_type": "markdown",
   "metadata": {},
   "source": [
    "##### Glycolysis + PYK"
   ]
  },
  {
   "cell_type": "code",
   "execution_count": null,
   "metadata": {
    "execution": {
     "iopub.execute_input": "2020-10-24T16:54:53.567670Z",
     "iopub.status.busy": "2020-10-24T16:54:53.566994Z",
     "iopub.status.idle": "2020-10-24T16:54:59.458841Z",
     "shell.execute_reply": "2020-10-24T16:54:59.458328Z"
    }
   },
   "outputs": [],
   "source": [
    "model = add_enzyme_to_model(glycolysis, PYK)\n",
    "update_model_and_simulate(model)\n",
    "save_model(model)\n",
    "all_models += [model]"
   ]
  },
  {
   "cell_type": "markdown",
   "metadata": {},
   "source": [
    "##### Glycolysis + Hb + HEX1 "
   ]
  },
  {
   "cell_type": "code",
   "execution_count": null,
   "metadata": {
    "execution": {
     "iopub.execute_input": "2020-10-24T16:54:59.466655Z",
     "iopub.status.busy": "2020-10-24T16:54:59.466067Z",
     "iopub.status.idle": "2020-10-24T16:55:03.701504Z",
     "shell.execute_reply": "2020-10-24T16:55:03.700913Z"
    }
   },
   "outputs": [],
   "source": [
    "model = add_enzyme_to_model(glycolysis_hb, HEX1)\n",
    "update_model_and_simulate(model)\n",
    "save_model(model)\n",
    "all_models += [model]"
   ]
  },
  {
   "cell_type": "markdown",
   "metadata": {},
   "source": [
    "##### Glycolysis + Hb + PFK "
   ]
  },
  {
   "cell_type": "code",
   "execution_count": null,
   "metadata": {
    "execution": {
     "iopub.execute_input": "2020-10-24T16:55:03.707802Z",
     "iopub.status.busy": "2020-10-24T16:55:03.707151Z",
     "iopub.status.idle": "2020-10-24T16:55:08.999355Z",
     "shell.execute_reply": "2020-10-24T16:55:08.998763Z"
    }
   },
   "outputs": [],
   "source": [
    "model = add_enzyme_to_model(glycolysis_hb, PFK)\n",
    "update_model_and_simulate(model)\n",
    "save_model(model)\n",
    "all_models += [model]"
   ]
  },
  {
   "cell_type": "markdown",
   "metadata": {},
   "source": [
    "##### Glycolysis + Hb + PYK "
   ]
  },
  {
   "cell_type": "code",
   "execution_count": null,
   "metadata": {
    "execution": {
     "iopub.execute_input": "2020-10-24T16:55:09.006664Z",
     "iopub.status.busy": "2020-10-24T16:55:09.005993Z",
     "iopub.status.idle": "2020-10-24T16:55:15.410280Z",
     "shell.execute_reply": "2020-10-24T16:55:15.409570Z"
    }
   },
   "outputs": [],
   "source": [
    "model = add_enzyme_to_model(glycolysis_hb, PYK)\n",
    "update_model_and_simulate(model)\n",
    "save_model(model)\n",
    "all_models += [model]"
   ]
  },
  {
   "cell_type": "markdown",
   "metadata": {},
   "source": [
    "#### Regulation With Two Enzymes\n",
    "##### Glycolysis + PFK + PYK"
   ]
  },
  {
   "cell_type": "code",
   "execution_count": null,
   "metadata": {
    "execution": {
     "iopub.execute_input": "2020-10-24T16:55:15.418556Z",
     "iopub.status.busy": "2020-10-24T16:55:15.417839Z",
     "iopub.status.idle": "2020-10-24T16:55:22.039108Z",
     "shell.execute_reply": "2020-10-24T16:55:22.039529Z"
    },
    "scrolled": false
   },
   "outputs": [],
   "source": [
    "model = add_enzyme_to_model(glycolysis, PFK)\n",
    "model = add_enzyme_to_model(model, PYK)\n",
    "update_model_and_simulate(model)\n",
    "save_model(model)\n",
    "all_models += [model]"
   ]
  },
  {
   "cell_type": "markdown",
   "metadata": {},
   "source": [
    "##### Glycolysis + Hb + PFK + PYK"
   ]
  },
  {
   "cell_type": "code",
   "execution_count": null,
   "metadata": {
    "execution": {
     "iopub.execute_input": "2020-10-24T16:55:22.048340Z",
     "iopub.status.busy": "2020-10-24T16:55:22.047377Z",
     "iopub.status.idle": "2020-10-24T16:55:30.129805Z",
     "shell.execute_reply": "2020-10-24T16:55:30.129059Z"
    }
   },
   "outputs": [],
   "source": [
    "model = add_enzyme_to_model(glycolysis_hb, PFK)\n",
    "model = add_enzyme_to_model(model, PYK)\n",
    "update_model_and_simulate(model)\n",
    "save_model(model)\n",
    "all_models += [model]"
   ]
  },
  {
   "cell_type": "markdown",
   "metadata": {},
   "source": [
    "##### Glycolysis + Hb + HEX1 + PFK"
   ]
  },
  {
   "cell_type": "code",
   "execution_count": null,
   "metadata": {
    "execution": {
     "iopub.execute_input": "2020-10-24T16:55:30.137700Z",
     "iopub.status.busy": "2020-10-24T16:55:30.136721Z",
     "iopub.status.idle": "2020-10-24T16:55:36.254715Z",
     "shell.execute_reply": "2020-10-24T16:55:36.254211Z"
    }
   },
   "outputs": [],
   "source": [
    "model = add_enzyme_to_model(glycolysis_hb, HEX1)\n",
    "model = add_enzyme_to_model(model, PFK)\n",
    "update_model_and_simulate(model)\n",
    "save_model(model)\n",
    "all_models += [model]"
   ]
  },
  {
   "cell_type": "markdown",
   "metadata": {},
   "source": [
    "##### Glycolysis + Hb + HEX1 + PYK"
   ]
  },
  {
   "cell_type": "code",
   "execution_count": null,
   "metadata": {
    "execution": {
     "iopub.execute_input": "2020-10-24T16:55:36.261806Z",
     "iopub.status.busy": "2020-10-24T16:55:36.261139Z",
     "iopub.status.idle": "2020-10-24T16:55:43.108713Z",
     "shell.execute_reply": "2020-10-24T16:55:43.108120Z"
    }
   },
   "outputs": [],
   "source": [
    "model = add_enzyme_to_model(glycolysis_hb, HEX1)\n",
    "model = add_enzyme_to_model(model, PYK)\n",
    "update_model_and_simulate(model)\n",
    "save_model(model)\n",
    "all_models += [model]"
   ]
  },
  {
   "cell_type": "markdown",
   "metadata": {},
   "source": [
    "#### Regulation With Three Enzymes\n",
    "##### Glycolysis + Hb + HEX1 + PFK + PYK"
   ]
  },
  {
   "cell_type": "code",
   "execution_count": null,
   "metadata": {
    "execution": {
     "iopub.execute_input": "2020-10-24T16:55:43.116306Z",
     "iopub.status.busy": "2020-10-24T16:55:43.115698Z",
     "iopub.status.idle": "2020-10-24T16:55:51.536543Z",
     "shell.execute_reply": "2020-10-24T16:55:51.535945Z"
    },
    "scrolled": false
   },
   "outputs": [],
   "source": [
    "model = add_enzyme_to_model(glycolysis_hb, HEX1)\n",
    "model = add_enzyme_to_model(model, PFK)\n",
    "model = add_enzyme_to_model(model, PYK)\n",
    "update_model_and_simulate(model)\n",
    "model.id = \"Glycolysis_FKRM\"\n",
    "save_model(model)\n",
    "all_models += [model]"
   ]
  },
  {
   "cell_type": "code",
   "execution_count": null,
   "metadata": {
    "execution": {
     "iopub.execute_input": "2020-10-24T16:55:51.553082Z",
     "iopub.status.busy": "2020-10-24T16:55:51.552354Z",
     "iopub.status.idle": "2020-10-24T16:55:51.611548Z",
     "shell.execute_reply": "2020-10-24T16:55:51.612225Z"
    }
   },
   "outputs": [],
   "source": [
    "# Export value tables\n",
    "export_csv_files_for_models(all_models, \"for_non-personalized_model_construction_notebook\")"
   ]
  }
 ],
 "metadata": {
  "kernelspec": {
   "display_name": "Python 3",
   "language": "python",
   "name": "python3"
  },
  "language_info": {
   "codemirror_mode": {
    "name": "ipython",
    "version": 3
   },
   "file_extension": ".py",
   "mimetype": "text/x-python",
   "name": "python",
   "nbconvert_exporter": "python",
   "pygments_lexer": "ipython3",
   "version": "3.7.9"
  }
 },
 "nbformat": 4,
 "nbformat_minor": 2
}
